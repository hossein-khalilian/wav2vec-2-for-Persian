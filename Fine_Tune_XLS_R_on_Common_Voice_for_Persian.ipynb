{
  "nbformat": 4,
  "nbformat_minor": 0,
  "metadata": {
    "accelerator": "GPU",
    "colab": {
      "name": "Fine-Tune XLS-R on Common Voice for Persian.ipynb",
      "provenance": [],
      "collapsed_sections": [],
      "machine_shape": "hm",
      "include_colab_link": true
    },
    "kernelspec": {
      "display_name": "Python 3",
      "name": "python3"
    },
    "widgets": {
      "application/vnd.jupyter.widget-state+json": {
        "10e5f8fe412e442786730fc7d6f06d0b": {
          "model_module": "@jupyter-widgets/controls",
          "model_name": "HBoxModel",
          "model_module_version": "1.5.0",
          "state": {
            "_dom_classes": [],
            "_model_module": "@jupyter-widgets/controls",
            "_model_module_version": "1.5.0",
            "_model_name": "HBoxModel",
            "_view_count": null,
            "_view_module": "@jupyter-widgets/controls",
            "_view_module_version": "1.5.0",
            "_view_name": "HBoxView",
            "box_style": "",
            "children": [
              "IPY_MODEL_680afe0ba09444a19ef442813973c82d",
              "IPY_MODEL_57bc6f60e78e43559291fdd4de52b0ab",
              "IPY_MODEL_8d23c2631643473a93cb1330ede8110c"
            ],
            "layout": "IPY_MODEL_dee43f176f9248b0879c6ddfb62081f7"
          }
        },
        "680afe0ba09444a19ef442813973c82d": {
          "model_module": "@jupyter-widgets/controls",
          "model_name": "HTMLModel",
          "model_module_version": "1.5.0",
          "state": {
            "_dom_classes": [],
            "_model_module": "@jupyter-widgets/controls",
            "_model_module_version": "1.5.0",
            "_model_name": "HTMLModel",
            "_view_count": null,
            "_view_module": "@jupyter-widgets/controls",
            "_view_module_version": "1.5.0",
            "_view_name": "HTMLView",
            "description": "",
            "description_tooltip": null,
            "layout": "IPY_MODEL_1a043083adc24f43aa4e800b3de95a91",
            "placeholder": "​",
            "style": "IPY_MODEL_5cd5984f046f4c6d9257e271ee1c91ee",
            "value": "100%"
          }
        },
        "57bc6f60e78e43559291fdd4de52b0ab": {
          "model_module": "@jupyter-widgets/controls",
          "model_name": "FloatProgressModel",
          "model_module_version": "1.5.0",
          "state": {
            "_dom_classes": [],
            "_model_module": "@jupyter-widgets/controls",
            "_model_module_version": "1.5.0",
            "_model_name": "FloatProgressModel",
            "_view_count": null,
            "_view_module": "@jupyter-widgets/controls",
            "_view_module_version": "1.5.0",
            "_view_name": "ProgressView",
            "bar_style": "success",
            "description": "",
            "description_tooltip": null,
            "layout": "IPY_MODEL_3293d37517b74032ac30f53688a420f6",
            "max": 12806,
            "min": 0,
            "orientation": "horizontal",
            "style": "IPY_MODEL_02fc9a5cf06e4a64869c2802ebf5c608",
            "value": 12806
          }
        },
        "8d23c2631643473a93cb1330ede8110c": {
          "model_module": "@jupyter-widgets/controls",
          "model_name": "HTMLModel",
          "model_module_version": "1.5.0",
          "state": {
            "_dom_classes": [],
            "_model_module": "@jupyter-widgets/controls",
            "_model_module_version": "1.5.0",
            "_model_name": "HTMLModel",
            "_view_count": null,
            "_view_module": "@jupyter-widgets/controls",
            "_view_module_version": "1.5.0",
            "_view_name": "HTMLView",
            "description": "",
            "description_tooltip": null,
            "layout": "IPY_MODEL_add316ec99ed4d8a931d121bc4517b68",
            "placeholder": "​",
            "style": "IPY_MODEL_da3edde530664f52b9d3faf8c9ac2e0b",
            "value": " 12806/12806 [00:24&lt;00:00, 517.94ex/s]"
          }
        },
        "dee43f176f9248b0879c6ddfb62081f7": {
          "model_module": "@jupyter-widgets/base",
          "model_name": "LayoutModel",
          "model_module_version": "1.2.0",
          "state": {
            "_model_module": "@jupyter-widgets/base",
            "_model_module_version": "1.2.0",
            "_model_name": "LayoutModel",
            "_view_count": null,
            "_view_module": "@jupyter-widgets/base",
            "_view_module_version": "1.2.0",
            "_view_name": "LayoutView",
            "align_content": null,
            "align_items": null,
            "align_self": null,
            "border": null,
            "bottom": null,
            "display": null,
            "flex": null,
            "flex_flow": null,
            "grid_area": null,
            "grid_auto_columns": null,
            "grid_auto_flow": null,
            "grid_auto_rows": null,
            "grid_column": null,
            "grid_gap": null,
            "grid_row": null,
            "grid_template_areas": null,
            "grid_template_columns": null,
            "grid_template_rows": null,
            "height": null,
            "justify_content": null,
            "justify_items": null,
            "left": null,
            "margin": null,
            "max_height": null,
            "max_width": null,
            "min_height": null,
            "min_width": null,
            "object_fit": null,
            "object_position": null,
            "order": null,
            "overflow": null,
            "overflow_x": null,
            "overflow_y": null,
            "padding": null,
            "right": null,
            "top": null,
            "visibility": null,
            "width": null
          }
        },
        "1a043083adc24f43aa4e800b3de95a91": {
          "model_module": "@jupyter-widgets/base",
          "model_name": "LayoutModel",
          "model_module_version": "1.2.0",
          "state": {
            "_model_module": "@jupyter-widgets/base",
            "_model_module_version": "1.2.0",
            "_model_name": "LayoutModel",
            "_view_count": null,
            "_view_module": "@jupyter-widgets/base",
            "_view_module_version": "1.2.0",
            "_view_name": "LayoutView",
            "align_content": null,
            "align_items": null,
            "align_self": null,
            "border": null,
            "bottom": null,
            "display": null,
            "flex": null,
            "flex_flow": null,
            "grid_area": null,
            "grid_auto_columns": null,
            "grid_auto_flow": null,
            "grid_auto_rows": null,
            "grid_column": null,
            "grid_gap": null,
            "grid_row": null,
            "grid_template_areas": null,
            "grid_template_columns": null,
            "grid_template_rows": null,
            "height": null,
            "justify_content": null,
            "justify_items": null,
            "left": null,
            "margin": null,
            "max_height": null,
            "max_width": null,
            "min_height": null,
            "min_width": null,
            "object_fit": null,
            "object_position": null,
            "order": null,
            "overflow": null,
            "overflow_x": null,
            "overflow_y": null,
            "padding": null,
            "right": null,
            "top": null,
            "visibility": null,
            "width": null
          }
        },
        "5cd5984f046f4c6d9257e271ee1c91ee": {
          "model_module": "@jupyter-widgets/controls",
          "model_name": "DescriptionStyleModel",
          "model_module_version": "1.5.0",
          "state": {
            "_model_module": "@jupyter-widgets/controls",
            "_model_module_version": "1.5.0",
            "_model_name": "DescriptionStyleModel",
            "_view_count": null,
            "_view_module": "@jupyter-widgets/base",
            "_view_module_version": "1.2.0",
            "_view_name": "StyleView",
            "description_width": ""
          }
        },
        "3293d37517b74032ac30f53688a420f6": {
          "model_module": "@jupyter-widgets/base",
          "model_name": "LayoutModel",
          "model_module_version": "1.2.0",
          "state": {
            "_model_module": "@jupyter-widgets/base",
            "_model_module_version": "1.2.0",
            "_model_name": "LayoutModel",
            "_view_count": null,
            "_view_module": "@jupyter-widgets/base",
            "_view_module_version": "1.2.0",
            "_view_name": "LayoutView",
            "align_content": null,
            "align_items": null,
            "align_self": null,
            "border": null,
            "bottom": null,
            "display": null,
            "flex": null,
            "flex_flow": null,
            "grid_area": null,
            "grid_auto_columns": null,
            "grid_auto_flow": null,
            "grid_auto_rows": null,
            "grid_column": null,
            "grid_gap": null,
            "grid_row": null,
            "grid_template_areas": null,
            "grid_template_columns": null,
            "grid_template_rows": null,
            "height": null,
            "justify_content": null,
            "justify_items": null,
            "left": null,
            "margin": null,
            "max_height": null,
            "max_width": null,
            "min_height": null,
            "min_width": null,
            "object_fit": null,
            "object_position": null,
            "order": null,
            "overflow": null,
            "overflow_x": null,
            "overflow_y": null,
            "padding": null,
            "right": null,
            "top": null,
            "visibility": null,
            "width": null
          }
        },
        "02fc9a5cf06e4a64869c2802ebf5c608": {
          "model_module": "@jupyter-widgets/controls",
          "model_name": "ProgressStyleModel",
          "model_module_version": "1.5.0",
          "state": {
            "_model_module": "@jupyter-widgets/controls",
            "_model_module_version": "1.5.0",
            "_model_name": "ProgressStyleModel",
            "_view_count": null,
            "_view_module": "@jupyter-widgets/base",
            "_view_module_version": "1.2.0",
            "_view_name": "StyleView",
            "bar_color": null,
            "description_width": ""
          }
        },
        "add316ec99ed4d8a931d121bc4517b68": {
          "model_module": "@jupyter-widgets/base",
          "model_name": "LayoutModel",
          "model_module_version": "1.2.0",
          "state": {
            "_model_module": "@jupyter-widgets/base",
            "_model_module_version": "1.2.0",
            "_model_name": "LayoutModel",
            "_view_count": null,
            "_view_module": "@jupyter-widgets/base",
            "_view_module_version": "1.2.0",
            "_view_name": "LayoutView",
            "align_content": null,
            "align_items": null,
            "align_self": null,
            "border": null,
            "bottom": null,
            "display": null,
            "flex": null,
            "flex_flow": null,
            "grid_area": null,
            "grid_auto_columns": null,
            "grid_auto_flow": null,
            "grid_auto_rows": null,
            "grid_column": null,
            "grid_gap": null,
            "grid_row": null,
            "grid_template_areas": null,
            "grid_template_columns": null,
            "grid_template_rows": null,
            "height": null,
            "justify_content": null,
            "justify_items": null,
            "left": null,
            "margin": null,
            "max_height": null,
            "max_width": null,
            "min_height": null,
            "min_width": null,
            "object_fit": null,
            "object_position": null,
            "order": null,
            "overflow": null,
            "overflow_x": null,
            "overflow_y": null,
            "padding": null,
            "right": null,
            "top": null,
            "visibility": null,
            "width": null
          }
        },
        "da3edde530664f52b9d3faf8c9ac2e0b": {
          "model_module": "@jupyter-widgets/controls",
          "model_name": "DescriptionStyleModel",
          "model_module_version": "1.5.0",
          "state": {
            "_model_module": "@jupyter-widgets/controls",
            "_model_module_version": "1.5.0",
            "_model_name": "DescriptionStyleModel",
            "_view_count": null,
            "_view_module": "@jupyter-widgets/base",
            "_view_module_version": "1.2.0",
            "_view_name": "StyleView",
            "description_width": ""
          }
        },
        "c4ff8fcf58d24366b91f184daad1322f": {
          "model_module": "@jupyter-widgets/controls",
          "model_name": "HBoxModel",
          "model_module_version": "1.5.0",
          "state": {
            "_dom_classes": [],
            "_model_module": "@jupyter-widgets/controls",
            "_model_module_version": "1.5.0",
            "_model_name": "HBoxModel",
            "_view_count": null,
            "_view_module": "@jupyter-widgets/controls",
            "_view_module_version": "1.5.0",
            "_view_name": "HBoxView",
            "box_style": "",
            "children": [
              "IPY_MODEL_99985be59ab1416284065dddefa7b4db",
              "IPY_MODEL_26f89f7af29a4bb5b0a00f58c8ed9dc5",
              "IPY_MODEL_d226bf0a72cf46fd90b8f03f431e3d2c"
            ],
            "layout": "IPY_MODEL_0cb3f2628413420aa4ddf6110a98eb23"
          }
        },
        "99985be59ab1416284065dddefa7b4db": {
          "model_module": "@jupyter-widgets/controls",
          "model_name": "HTMLModel",
          "model_module_version": "1.5.0",
          "state": {
            "_dom_classes": [],
            "_model_module": "@jupyter-widgets/controls",
            "_model_module_version": "1.5.0",
            "_model_name": "HTMLModel",
            "_view_count": null,
            "_view_module": "@jupyter-widgets/controls",
            "_view_module_version": "1.5.0",
            "_view_name": "HTMLView",
            "description": "",
            "description_tooltip": null,
            "layout": "IPY_MODEL_aa9a07c08fb74ff89e252c9c5cf3ac05",
            "placeholder": "​",
            "style": "IPY_MODEL_1693b4a835d34381b26292b523fdfe05",
            "value": "100%"
          }
        },
        "26f89f7af29a4bb5b0a00f58c8ed9dc5": {
          "model_module": "@jupyter-widgets/controls",
          "model_name": "FloatProgressModel",
          "model_module_version": "1.5.0",
          "state": {
            "_dom_classes": [],
            "_model_module": "@jupyter-widgets/controls",
            "_model_module_version": "1.5.0",
            "_model_name": "FloatProgressModel",
            "_view_count": null,
            "_view_module": "@jupyter-widgets/controls",
            "_view_module_version": "1.5.0",
            "_view_name": "ProgressView",
            "bar_style": "success",
            "description": "",
            "description_tooltip": null,
            "layout": "IPY_MODEL_e055451ae133419c8af6d182233c3caf",
            "max": 1,
            "min": 0,
            "orientation": "horizontal",
            "style": "IPY_MODEL_31a1ec09b8cb4c7581abcc18436f9a15",
            "value": 1
          }
        },
        "d226bf0a72cf46fd90b8f03f431e3d2c": {
          "model_module": "@jupyter-widgets/controls",
          "model_name": "HTMLModel",
          "model_module_version": "1.5.0",
          "state": {
            "_dom_classes": [],
            "_model_module": "@jupyter-widgets/controls",
            "_model_module_version": "1.5.0",
            "_model_name": "HTMLModel",
            "_view_count": null,
            "_view_module": "@jupyter-widgets/controls",
            "_view_module_version": "1.5.0",
            "_view_name": "HTMLView",
            "description": "",
            "description_tooltip": null,
            "layout": "IPY_MODEL_5e918ffd37e844129f762968bd9af114",
            "placeholder": "​",
            "style": "IPY_MODEL_667c4e4e1f274fa18eecd6fb976b4b34",
            "value": " 1/1 [00:00&lt;00:00,  7.05ba/s]"
          }
        },
        "0cb3f2628413420aa4ddf6110a98eb23": {
          "model_module": "@jupyter-widgets/base",
          "model_name": "LayoutModel",
          "model_module_version": "1.2.0",
          "state": {
            "_model_module": "@jupyter-widgets/base",
            "_model_module_version": "1.2.0",
            "_model_name": "LayoutModel",
            "_view_count": null,
            "_view_module": "@jupyter-widgets/base",
            "_view_module_version": "1.2.0",
            "_view_name": "LayoutView",
            "align_content": null,
            "align_items": null,
            "align_self": null,
            "border": null,
            "bottom": null,
            "display": null,
            "flex": null,
            "flex_flow": null,
            "grid_area": null,
            "grid_auto_columns": null,
            "grid_auto_flow": null,
            "grid_auto_rows": null,
            "grid_column": null,
            "grid_gap": null,
            "grid_row": null,
            "grid_template_areas": null,
            "grid_template_columns": null,
            "grid_template_rows": null,
            "height": null,
            "justify_content": null,
            "justify_items": null,
            "left": null,
            "margin": null,
            "max_height": null,
            "max_width": null,
            "min_height": null,
            "min_width": null,
            "object_fit": null,
            "object_position": null,
            "order": null,
            "overflow": null,
            "overflow_x": null,
            "overflow_y": null,
            "padding": null,
            "right": null,
            "top": null,
            "visibility": null,
            "width": null
          }
        },
        "aa9a07c08fb74ff89e252c9c5cf3ac05": {
          "model_module": "@jupyter-widgets/base",
          "model_name": "LayoutModel",
          "model_module_version": "1.2.0",
          "state": {
            "_model_module": "@jupyter-widgets/base",
            "_model_module_version": "1.2.0",
            "_model_name": "LayoutModel",
            "_view_count": null,
            "_view_module": "@jupyter-widgets/base",
            "_view_module_version": "1.2.0",
            "_view_name": "LayoutView",
            "align_content": null,
            "align_items": null,
            "align_self": null,
            "border": null,
            "bottom": null,
            "display": null,
            "flex": null,
            "flex_flow": null,
            "grid_area": null,
            "grid_auto_columns": null,
            "grid_auto_flow": null,
            "grid_auto_rows": null,
            "grid_column": null,
            "grid_gap": null,
            "grid_row": null,
            "grid_template_areas": null,
            "grid_template_columns": null,
            "grid_template_rows": null,
            "height": null,
            "justify_content": null,
            "justify_items": null,
            "left": null,
            "margin": null,
            "max_height": null,
            "max_width": null,
            "min_height": null,
            "min_width": null,
            "object_fit": null,
            "object_position": null,
            "order": null,
            "overflow": null,
            "overflow_x": null,
            "overflow_y": null,
            "padding": null,
            "right": null,
            "top": null,
            "visibility": null,
            "width": null
          }
        },
        "1693b4a835d34381b26292b523fdfe05": {
          "model_module": "@jupyter-widgets/controls",
          "model_name": "DescriptionStyleModel",
          "model_module_version": "1.5.0",
          "state": {
            "_model_module": "@jupyter-widgets/controls",
            "_model_module_version": "1.5.0",
            "_model_name": "DescriptionStyleModel",
            "_view_count": null,
            "_view_module": "@jupyter-widgets/base",
            "_view_module_version": "1.2.0",
            "_view_name": "StyleView",
            "description_width": ""
          }
        },
        "e055451ae133419c8af6d182233c3caf": {
          "model_module": "@jupyter-widgets/base",
          "model_name": "LayoutModel",
          "model_module_version": "1.2.0",
          "state": {
            "_model_module": "@jupyter-widgets/base",
            "_model_module_version": "1.2.0",
            "_model_name": "LayoutModel",
            "_view_count": null,
            "_view_module": "@jupyter-widgets/base",
            "_view_module_version": "1.2.0",
            "_view_name": "LayoutView",
            "align_content": null,
            "align_items": null,
            "align_self": null,
            "border": null,
            "bottom": null,
            "display": null,
            "flex": null,
            "flex_flow": null,
            "grid_area": null,
            "grid_auto_columns": null,
            "grid_auto_flow": null,
            "grid_auto_rows": null,
            "grid_column": null,
            "grid_gap": null,
            "grid_row": null,
            "grid_template_areas": null,
            "grid_template_columns": null,
            "grid_template_rows": null,
            "height": null,
            "justify_content": null,
            "justify_items": null,
            "left": null,
            "margin": null,
            "max_height": null,
            "max_width": null,
            "min_height": null,
            "min_width": null,
            "object_fit": null,
            "object_position": null,
            "order": null,
            "overflow": null,
            "overflow_x": null,
            "overflow_y": null,
            "padding": null,
            "right": null,
            "top": null,
            "visibility": null,
            "width": null
          }
        },
        "31a1ec09b8cb4c7581abcc18436f9a15": {
          "model_module": "@jupyter-widgets/controls",
          "model_name": "ProgressStyleModel",
          "model_module_version": "1.5.0",
          "state": {
            "_model_module": "@jupyter-widgets/controls",
            "_model_module_version": "1.5.0",
            "_model_name": "ProgressStyleModel",
            "_view_count": null,
            "_view_module": "@jupyter-widgets/base",
            "_view_module_version": "1.2.0",
            "_view_name": "StyleView",
            "bar_color": null,
            "description_width": ""
          }
        },
        "5e918ffd37e844129f762968bd9af114": {
          "model_module": "@jupyter-widgets/base",
          "model_name": "LayoutModel",
          "model_module_version": "1.2.0",
          "state": {
            "_model_module": "@jupyter-widgets/base",
            "_model_module_version": "1.2.0",
            "_model_name": "LayoutModel",
            "_view_count": null,
            "_view_module": "@jupyter-widgets/base",
            "_view_module_version": "1.2.0",
            "_view_name": "LayoutView",
            "align_content": null,
            "align_items": null,
            "align_self": null,
            "border": null,
            "bottom": null,
            "display": null,
            "flex": null,
            "flex_flow": null,
            "grid_area": null,
            "grid_auto_columns": null,
            "grid_auto_flow": null,
            "grid_auto_rows": null,
            "grid_column": null,
            "grid_gap": null,
            "grid_row": null,
            "grid_template_areas": null,
            "grid_template_columns": null,
            "grid_template_rows": null,
            "height": null,
            "justify_content": null,
            "justify_items": null,
            "left": null,
            "margin": null,
            "max_height": null,
            "max_width": null,
            "min_height": null,
            "min_width": null,
            "object_fit": null,
            "object_position": null,
            "order": null,
            "overflow": null,
            "overflow_x": null,
            "overflow_y": null,
            "padding": null,
            "right": null,
            "top": null,
            "visibility": null,
            "width": null
          }
        },
        "667c4e4e1f274fa18eecd6fb976b4b34": {
          "model_module": "@jupyter-widgets/controls",
          "model_name": "DescriptionStyleModel",
          "model_module_version": "1.5.0",
          "state": {
            "_model_module": "@jupyter-widgets/controls",
            "_model_module_version": "1.5.0",
            "_model_name": "DescriptionStyleModel",
            "_view_count": null,
            "_view_module": "@jupyter-widgets/base",
            "_view_module_version": "1.2.0",
            "_view_name": "StyleView",
            "description_width": ""
          }
        },
        "20ab5d3518e34b918a800b46e68dff65": {
          "model_module": "@jupyter-widgets/controls",
          "model_name": "HBoxModel",
          "model_module_version": "1.5.0",
          "state": {
            "_dom_classes": [],
            "_model_module": "@jupyter-widgets/controls",
            "_model_module_version": "1.5.0",
            "_model_name": "HBoxModel",
            "_view_count": null,
            "_view_module": "@jupyter-widgets/controls",
            "_view_module_version": "1.5.0",
            "_view_name": "HBoxView",
            "box_style": "",
            "children": [
              "IPY_MODEL_50148d5a3ab94f499b296b2ccac20e92",
              "IPY_MODEL_cd490e98c5ff42c6b04eeb166703d580",
              "IPY_MODEL_72ae090f1ad04e2bb15c935ea36292e2"
            ],
            "layout": "IPY_MODEL_529bb67654184184a045fa2ed05a0a0a"
          }
        },
        "50148d5a3ab94f499b296b2ccac20e92": {
          "model_module": "@jupyter-widgets/controls",
          "model_name": "HTMLModel",
          "model_module_version": "1.5.0",
          "state": {
            "_dom_classes": [],
            "_model_module": "@jupyter-widgets/controls",
            "_model_module_version": "1.5.0",
            "_model_name": "HTMLModel",
            "_view_count": null,
            "_view_module": "@jupyter-widgets/controls",
            "_view_module_version": "1.5.0",
            "_view_name": "HTMLView",
            "description": "",
            "description_tooltip": null,
            "layout": "IPY_MODEL_30ed510c138c4d6f9fb0a47521e54951",
            "placeholder": "​",
            "style": "IPY_MODEL_326853639084434d9ef446a1c5e40774",
            "value": "100%"
          }
        },
        "cd490e98c5ff42c6b04eeb166703d580": {
          "model_module": "@jupyter-widgets/controls",
          "model_name": "FloatProgressModel",
          "model_module_version": "1.5.0",
          "state": {
            "_dom_classes": [],
            "_model_module": "@jupyter-widgets/controls",
            "_model_module_version": "1.5.0",
            "_model_name": "FloatProgressModel",
            "_view_count": null,
            "_view_module": "@jupyter-widgets/controls",
            "_view_module_version": "1.5.0",
            "_view_name": "ProgressView",
            "bar_style": "success",
            "description": "",
            "description_tooltip": null,
            "layout": "IPY_MODEL_35f450101eae4db78df57e55eb596c91",
            "max": 1,
            "min": 0,
            "orientation": "horizontal",
            "style": "IPY_MODEL_b4c7da4e6b684a9d86c838fcb055f8d9",
            "value": 1
          }
        },
        "72ae090f1ad04e2bb15c935ea36292e2": {
          "model_module": "@jupyter-widgets/controls",
          "model_name": "HTMLModel",
          "model_module_version": "1.5.0",
          "state": {
            "_dom_classes": [],
            "_model_module": "@jupyter-widgets/controls",
            "_model_module_version": "1.5.0",
            "_model_name": "HTMLModel",
            "_view_count": null,
            "_view_module": "@jupyter-widgets/controls",
            "_view_module_version": "1.5.0",
            "_view_name": "HTMLView",
            "description": "",
            "description_tooltip": null,
            "layout": "IPY_MODEL_c610dfb6251e4dd1957ee3ca9b4c4206",
            "placeholder": "​",
            "style": "IPY_MODEL_825686b7003d4550ac4ce613a4eeeb6b",
            "value": " 1/1 [00:00&lt;00:00,  8.45ba/s]"
          }
        },
        "529bb67654184184a045fa2ed05a0a0a": {
          "model_module": "@jupyter-widgets/base",
          "model_name": "LayoutModel",
          "model_module_version": "1.2.0",
          "state": {
            "_model_module": "@jupyter-widgets/base",
            "_model_module_version": "1.2.0",
            "_model_name": "LayoutModel",
            "_view_count": null,
            "_view_module": "@jupyter-widgets/base",
            "_view_module_version": "1.2.0",
            "_view_name": "LayoutView",
            "align_content": null,
            "align_items": null,
            "align_self": null,
            "border": null,
            "bottom": null,
            "display": null,
            "flex": null,
            "flex_flow": null,
            "grid_area": null,
            "grid_auto_columns": null,
            "grid_auto_flow": null,
            "grid_auto_rows": null,
            "grid_column": null,
            "grid_gap": null,
            "grid_row": null,
            "grid_template_areas": null,
            "grid_template_columns": null,
            "grid_template_rows": null,
            "height": null,
            "justify_content": null,
            "justify_items": null,
            "left": null,
            "margin": null,
            "max_height": null,
            "max_width": null,
            "min_height": null,
            "min_width": null,
            "object_fit": null,
            "object_position": null,
            "order": null,
            "overflow": null,
            "overflow_x": null,
            "overflow_y": null,
            "padding": null,
            "right": null,
            "top": null,
            "visibility": null,
            "width": null
          }
        },
        "30ed510c138c4d6f9fb0a47521e54951": {
          "model_module": "@jupyter-widgets/base",
          "model_name": "LayoutModel",
          "model_module_version": "1.2.0",
          "state": {
            "_model_module": "@jupyter-widgets/base",
            "_model_module_version": "1.2.0",
            "_model_name": "LayoutModel",
            "_view_count": null,
            "_view_module": "@jupyter-widgets/base",
            "_view_module_version": "1.2.0",
            "_view_name": "LayoutView",
            "align_content": null,
            "align_items": null,
            "align_self": null,
            "border": null,
            "bottom": null,
            "display": null,
            "flex": null,
            "flex_flow": null,
            "grid_area": null,
            "grid_auto_columns": null,
            "grid_auto_flow": null,
            "grid_auto_rows": null,
            "grid_column": null,
            "grid_gap": null,
            "grid_row": null,
            "grid_template_areas": null,
            "grid_template_columns": null,
            "grid_template_rows": null,
            "height": null,
            "justify_content": null,
            "justify_items": null,
            "left": null,
            "margin": null,
            "max_height": null,
            "max_width": null,
            "min_height": null,
            "min_width": null,
            "object_fit": null,
            "object_position": null,
            "order": null,
            "overflow": null,
            "overflow_x": null,
            "overflow_y": null,
            "padding": null,
            "right": null,
            "top": null,
            "visibility": null,
            "width": null
          }
        },
        "326853639084434d9ef446a1c5e40774": {
          "model_module": "@jupyter-widgets/controls",
          "model_name": "DescriptionStyleModel",
          "model_module_version": "1.5.0",
          "state": {
            "_model_module": "@jupyter-widgets/controls",
            "_model_module_version": "1.5.0",
            "_model_name": "DescriptionStyleModel",
            "_view_count": null,
            "_view_module": "@jupyter-widgets/base",
            "_view_module_version": "1.2.0",
            "_view_name": "StyleView",
            "description_width": ""
          }
        },
        "35f450101eae4db78df57e55eb596c91": {
          "model_module": "@jupyter-widgets/base",
          "model_name": "LayoutModel",
          "model_module_version": "1.2.0",
          "state": {
            "_model_module": "@jupyter-widgets/base",
            "_model_module_version": "1.2.0",
            "_model_name": "LayoutModel",
            "_view_count": null,
            "_view_module": "@jupyter-widgets/base",
            "_view_module_version": "1.2.0",
            "_view_name": "LayoutView",
            "align_content": null,
            "align_items": null,
            "align_self": null,
            "border": null,
            "bottom": null,
            "display": null,
            "flex": null,
            "flex_flow": null,
            "grid_area": null,
            "grid_auto_columns": null,
            "grid_auto_flow": null,
            "grid_auto_rows": null,
            "grid_column": null,
            "grid_gap": null,
            "grid_row": null,
            "grid_template_areas": null,
            "grid_template_columns": null,
            "grid_template_rows": null,
            "height": null,
            "justify_content": null,
            "justify_items": null,
            "left": null,
            "margin": null,
            "max_height": null,
            "max_width": null,
            "min_height": null,
            "min_width": null,
            "object_fit": null,
            "object_position": null,
            "order": null,
            "overflow": null,
            "overflow_x": null,
            "overflow_y": null,
            "padding": null,
            "right": null,
            "top": null,
            "visibility": null,
            "width": null
          }
        },
        "b4c7da4e6b684a9d86c838fcb055f8d9": {
          "model_module": "@jupyter-widgets/controls",
          "model_name": "ProgressStyleModel",
          "model_module_version": "1.5.0",
          "state": {
            "_model_module": "@jupyter-widgets/controls",
            "_model_module_version": "1.5.0",
            "_model_name": "ProgressStyleModel",
            "_view_count": null,
            "_view_module": "@jupyter-widgets/base",
            "_view_module_version": "1.2.0",
            "_view_name": "StyleView",
            "bar_color": null,
            "description_width": ""
          }
        },
        "c610dfb6251e4dd1957ee3ca9b4c4206": {
          "model_module": "@jupyter-widgets/base",
          "model_name": "LayoutModel",
          "model_module_version": "1.2.0",
          "state": {
            "_model_module": "@jupyter-widgets/base",
            "_model_module_version": "1.2.0",
            "_model_name": "LayoutModel",
            "_view_count": null,
            "_view_module": "@jupyter-widgets/base",
            "_view_module_version": "1.2.0",
            "_view_name": "LayoutView",
            "align_content": null,
            "align_items": null,
            "align_self": null,
            "border": null,
            "bottom": null,
            "display": null,
            "flex": null,
            "flex_flow": null,
            "grid_area": null,
            "grid_auto_columns": null,
            "grid_auto_flow": null,
            "grid_auto_rows": null,
            "grid_column": null,
            "grid_gap": null,
            "grid_row": null,
            "grid_template_areas": null,
            "grid_template_columns": null,
            "grid_template_rows": null,
            "height": null,
            "justify_content": null,
            "justify_items": null,
            "left": null,
            "margin": null,
            "max_height": null,
            "max_width": null,
            "min_height": null,
            "min_width": null,
            "object_fit": null,
            "object_position": null,
            "order": null,
            "overflow": null,
            "overflow_x": null,
            "overflow_y": null,
            "padding": null,
            "right": null,
            "top": null,
            "visibility": null,
            "width": null
          }
        },
        "825686b7003d4550ac4ce613a4eeeb6b": {
          "model_module": "@jupyter-widgets/controls",
          "model_name": "DescriptionStyleModel",
          "model_module_version": "1.5.0",
          "state": {
            "_model_module": "@jupyter-widgets/controls",
            "_model_module_version": "1.5.0",
            "_model_name": "DescriptionStyleModel",
            "_view_count": null,
            "_view_module": "@jupyter-widgets/base",
            "_view_module_version": "1.2.0",
            "_view_name": "StyleView",
            "description_width": ""
          }
        },
        "0426110c2d9a426eabd2f8099a727cda": {
          "model_module": "@jupyter-widgets/controls",
          "model_name": "HBoxModel",
          "model_module_version": "1.5.0",
          "state": {
            "_dom_classes": [],
            "_model_module": "@jupyter-widgets/controls",
            "_model_module_version": "1.5.0",
            "_model_name": "HBoxModel",
            "_view_count": null,
            "_view_module": "@jupyter-widgets/controls",
            "_view_module_version": "1.5.0",
            "_view_name": "HBoxView",
            "box_style": "",
            "children": [
              "IPY_MODEL_7e4d836409294d14a3661daf9a8cb9b1",
              "IPY_MODEL_d5140e5c37c54996b8d4b18e1bd81d44",
              "IPY_MODEL_118c6fe3e4ac4efbaafc35368168288f"
            ],
            "layout": "IPY_MODEL_afa70d49098440a0a268c3d5dee31f56"
          }
        },
        "7e4d836409294d14a3661daf9a8cb9b1": {
          "model_module": "@jupyter-widgets/controls",
          "model_name": "HTMLModel",
          "model_module_version": "1.5.0",
          "state": {
            "_dom_classes": [],
            "_model_module": "@jupyter-widgets/controls",
            "_model_module_version": "1.5.0",
            "_model_name": "HTMLModel",
            "_view_count": null,
            "_view_module": "@jupyter-widgets/controls",
            "_view_module_version": "1.5.0",
            "_view_name": "HTMLView",
            "description": "",
            "description_tooltip": null,
            "layout": "IPY_MODEL_5d540148b3a543c9bd0f61ebf90ff3b3",
            "placeholder": "​",
            "style": "IPY_MODEL_d056cafee6844de7a6810f98e85cdc5b",
            "value": "100%"
          }
        },
        "d5140e5c37c54996b8d4b18e1bd81d44": {
          "model_module": "@jupyter-widgets/controls",
          "model_name": "FloatProgressModel",
          "model_module_version": "1.5.0",
          "state": {
            "_dom_classes": [],
            "_model_module": "@jupyter-widgets/controls",
            "_model_module_version": "1.5.0",
            "_model_name": "FloatProgressModel",
            "_view_count": null,
            "_view_module": "@jupyter-widgets/controls",
            "_view_module_version": "1.5.0",
            "_view_name": "ProgressView",
            "bar_style": "success",
            "description": "",
            "description_tooltip": null,
            "layout": "IPY_MODEL_fea914cf6bcc4c0a8150919dc0ededb1",
            "max": 12806,
            "min": 0,
            "orientation": "horizontal",
            "style": "IPY_MODEL_f423972ffa624d98bc7c4a1a9a942daf",
            "value": 12806
          }
        },
        "118c6fe3e4ac4efbaafc35368168288f": {
          "model_module": "@jupyter-widgets/controls",
          "model_name": "HTMLModel",
          "model_module_version": "1.5.0",
          "state": {
            "_dom_classes": [],
            "_model_module": "@jupyter-widgets/controls",
            "_model_module_version": "1.5.0",
            "_model_name": "HTMLModel",
            "_view_count": null,
            "_view_module": "@jupyter-widgets/controls",
            "_view_module_version": "1.5.0",
            "_view_name": "HTMLView",
            "description": "",
            "description_tooltip": null,
            "layout": "IPY_MODEL_3af37d438609454889a7622b83c37e18",
            "placeholder": "​",
            "style": "IPY_MODEL_37fa289a65414c5d8bb1c4378dcbf2a2",
            "value": " 12806/12806 [02:49&lt;00:00, 71.27ex/s]"
          }
        },
        "afa70d49098440a0a268c3d5dee31f56": {
          "model_module": "@jupyter-widgets/base",
          "model_name": "LayoutModel",
          "model_module_version": "1.2.0",
          "state": {
            "_model_module": "@jupyter-widgets/base",
            "_model_module_version": "1.2.0",
            "_model_name": "LayoutModel",
            "_view_count": null,
            "_view_module": "@jupyter-widgets/base",
            "_view_module_version": "1.2.0",
            "_view_name": "LayoutView",
            "align_content": null,
            "align_items": null,
            "align_self": null,
            "border": null,
            "bottom": null,
            "display": null,
            "flex": null,
            "flex_flow": null,
            "grid_area": null,
            "grid_auto_columns": null,
            "grid_auto_flow": null,
            "grid_auto_rows": null,
            "grid_column": null,
            "grid_gap": null,
            "grid_row": null,
            "grid_template_areas": null,
            "grid_template_columns": null,
            "grid_template_rows": null,
            "height": null,
            "justify_content": null,
            "justify_items": null,
            "left": null,
            "margin": null,
            "max_height": null,
            "max_width": null,
            "min_height": null,
            "min_width": null,
            "object_fit": null,
            "object_position": null,
            "order": null,
            "overflow": null,
            "overflow_x": null,
            "overflow_y": null,
            "padding": null,
            "right": null,
            "top": null,
            "visibility": null,
            "width": null
          }
        },
        "5d540148b3a543c9bd0f61ebf90ff3b3": {
          "model_module": "@jupyter-widgets/base",
          "model_name": "LayoutModel",
          "model_module_version": "1.2.0",
          "state": {
            "_model_module": "@jupyter-widgets/base",
            "_model_module_version": "1.2.0",
            "_model_name": "LayoutModel",
            "_view_count": null,
            "_view_module": "@jupyter-widgets/base",
            "_view_module_version": "1.2.0",
            "_view_name": "LayoutView",
            "align_content": null,
            "align_items": null,
            "align_self": null,
            "border": null,
            "bottom": null,
            "display": null,
            "flex": null,
            "flex_flow": null,
            "grid_area": null,
            "grid_auto_columns": null,
            "grid_auto_flow": null,
            "grid_auto_rows": null,
            "grid_column": null,
            "grid_gap": null,
            "grid_row": null,
            "grid_template_areas": null,
            "grid_template_columns": null,
            "grid_template_rows": null,
            "height": null,
            "justify_content": null,
            "justify_items": null,
            "left": null,
            "margin": null,
            "max_height": null,
            "max_width": null,
            "min_height": null,
            "min_width": null,
            "object_fit": null,
            "object_position": null,
            "order": null,
            "overflow": null,
            "overflow_x": null,
            "overflow_y": null,
            "padding": null,
            "right": null,
            "top": null,
            "visibility": null,
            "width": null
          }
        },
        "d056cafee6844de7a6810f98e85cdc5b": {
          "model_module": "@jupyter-widgets/controls",
          "model_name": "DescriptionStyleModel",
          "model_module_version": "1.5.0",
          "state": {
            "_model_module": "@jupyter-widgets/controls",
            "_model_module_version": "1.5.0",
            "_model_name": "DescriptionStyleModel",
            "_view_count": null,
            "_view_module": "@jupyter-widgets/base",
            "_view_module_version": "1.2.0",
            "_view_name": "StyleView",
            "description_width": ""
          }
        },
        "fea914cf6bcc4c0a8150919dc0ededb1": {
          "model_module": "@jupyter-widgets/base",
          "model_name": "LayoutModel",
          "model_module_version": "1.2.0",
          "state": {
            "_model_module": "@jupyter-widgets/base",
            "_model_module_version": "1.2.0",
            "_model_name": "LayoutModel",
            "_view_count": null,
            "_view_module": "@jupyter-widgets/base",
            "_view_module_version": "1.2.0",
            "_view_name": "LayoutView",
            "align_content": null,
            "align_items": null,
            "align_self": null,
            "border": null,
            "bottom": null,
            "display": null,
            "flex": null,
            "flex_flow": null,
            "grid_area": null,
            "grid_auto_columns": null,
            "grid_auto_flow": null,
            "grid_auto_rows": null,
            "grid_column": null,
            "grid_gap": null,
            "grid_row": null,
            "grid_template_areas": null,
            "grid_template_columns": null,
            "grid_template_rows": null,
            "height": null,
            "justify_content": null,
            "justify_items": null,
            "left": null,
            "margin": null,
            "max_height": null,
            "max_width": null,
            "min_height": null,
            "min_width": null,
            "object_fit": null,
            "object_position": null,
            "order": null,
            "overflow": null,
            "overflow_x": null,
            "overflow_y": null,
            "padding": null,
            "right": null,
            "top": null,
            "visibility": null,
            "width": null
          }
        },
        "f423972ffa624d98bc7c4a1a9a942daf": {
          "model_module": "@jupyter-widgets/controls",
          "model_name": "ProgressStyleModel",
          "model_module_version": "1.5.0",
          "state": {
            "_model_module": "@jupyter-widgets/controls",
            "_model_module_version": "1.5.0",
            "_model_name": "ProgressStyleModel",
            "_view_count": null,
            "_view_module": "@jupyter-widgets/base",
            "_view_module_version": "1.2.0",
            "_view_name": "StyleView",
            "bar_color": null,
            "description_width": ""
          }
        },
        "3af37d438609454889a7622b83c37e18": {
          "model_module": "@jupyter-widgets/base",
          "model_name": "LayoutModel",
          "model_module_version": "1.2.0",
          "state": {
            "_model_module": "@jupyter-widgets/base",
            "_model_module_version": "1.2.0",
            "_model_name": "LayoutModel",
            "_view_count": null,
            "_view_module": "@jupyter-widgets/base",
            "_view_module_version": "1.2.0",
            "_view_name": "LayoutView",
            "align_content": null,
            "align_items": null,
            "align_self": null,
            "border": null,
            "bottom": null,
            "display": null,
            "flex": null,
            "flex_flow": null,
            "grid_area": null,
            "grid_auto_columns": null,
            "grid_auto_flow": null,
            "grid_auto_rows": null,
            "grid_column": null,
            "grid_gap": null,
            "grid_row": null,
            "grid_template_areas": null,
            "grid_template_columns": null,
            "grid_template_rows": null,
            "height": null,
            "justify_content": null,
            "justify_items": null,
            "left": null,
            "margin": null,
            "max_height": null,
            "max_width": null,
            "min_height": null,
            "min_width": null,
            "object_fit": null,
            "object_position": null,
            "order": null,
            "overflow": null,
            "overflow_x": null,
            "overflow_y": null,
            "padding": null,
            "right": null,
            "top": null,
            "visibility": null,
            "width": null
          }
        },
        "37fa289a65414c5d8bb1c4378dcbf2a2": {
          "model_module": "@jupyter-widgets/controls",
          "model_name": "DescriptionStyleModel",
          "model_module_version": "1.5.0",
          "state": {
            "_model_module": "@jupyter-widgets/controls",
            "_model_module_version": "1.5.0",
            "_model_name": "DescriptionStyleModel",
            "_view_count": null,
            "_view_module": "@jupyter-widgets/base",
            "_view_module_version": "1.2.0",
            "_view_name": "StyleView",
            "description_width": ""
          }
        },
        "dfe94cabcff343d3b40cfc2d6a40c297": {
          "model_module": "@jupyter-widgets/controls",
          "model_name": "HBoxModel",
          "model_module_version": "1.5.0",
          "state": {
            "_dom_classes": [],
            "_model_module": "@jupyter-widgets/controls",
            "_model_module_version": "1.5.0",
            "_model_name": "HBoxModel",
            "_view_count": null,
            "_view_module": "@jupyter-widgets/controls",
            "_view_module_version": "1.5.0",
            "_view_name": "HBoxView",
            "box_style": "",
            "children": [
              "IPY_MODEL_59879a4fea27437cb00fc0013cf93b46",
              "IPY_MODEL_29cca957a21b43aa84484964927da027",
              "IPY_MODEL_6cab4509b4b947df8e671f25b3f93c28"
            ],
            "layout": "IPY_MODEL_b94ca2928fc548c7911881d4491602ec"
          }
        },
        "59879a4fea27437cb00fc0013cf93b46": {
          "model_module": "@jupyter-widgets/controls",
          "model_name": "HTMLModel",
          "model_module_version": "1.5.0",
          "state": {
            "_dom_classes": [],
            "_model_module": "@jupyter-widgets/controls",
            "_model_module_version": "1.5.0",
            "_model_name": "HTMLModel",
            "_view_count": null,
            "_view_module": "@jupyter-widgets/controls",
            "_view_module_version": "1.5.0",
            "_view_name": "HTMLView",
            "description": "",
            "description_tooltip": null,
            "layout": "IPY_MODEL_e1b6d02ef0864f79a795c88e39fb3aa7",
            "placeholder": "​",
            "style": "IPY_MODEL_075c6a564fb24bd2a09659c440443a5d",
            "value": "100%"
          }
        },
        "29cca957a21b43aa84484964927da027": {
          "model_module": "@jupyter-widgets/controls",
          "model_name": "FloatProgressModel",
          "model_module_version": "1.5.0",
          "state": {
            "_dom_classes": [],
            "_model_module": "@jupyter-widgets/controls",
            "_model_module_version": "1.5.0",
            "_model_name": "FloatProgressModel",
            "_view_count": null,
            "_view_module": "@jupyter-widgets/controls",
            "_view_module_version": "1.5.0",
            "_view_name": "ProgressView",
            "bar_style": "success",
            "description": "",
            "description_tooltip": null,
            "layout": "IPY_MODEL_52ef75292a11491b9067ca730b2906cc",
            "max": 13,
            "min": 0,
            "orientation": "horizontal",
            "style": "IPY_MODEL_8cf47987c00b4e7192cc9b4bc8c2c595",
            "value": 13
          }
        },
        "6cab4509b4b947df8e671f25b3f93c28": {
          "model_module": "@jupyter-widgets/controls",
          "model_name": "HTMLModel",
          "model_module_version": "1.5.0",
          "state": {
            "_dom_classes": [],
            "_model_module": "@jupyter-widgets/controls",
            "_model_module_version": "1.5.0",
            "_model_name": "HTMLModel",
            "_view_count": null,
            "_view_module": "@jupyter-widgets/controls",
            "_view_module_version": "1.5.0",
            "_view_name": "HTMLView",
            "description": "",
            "description_tooltip": null,
            "layout": "IPY_MODEL_f4bb4518bcab40f4a5c5170a13c6b263",
            "placeholder": "​",
            "style": "IPY_MODEL_78457c95fcb14953b0d3ede889b2269d",
            "value": " 13/13 [00:00&lt;00:00, 144.16ba/s]"
          }
        },
        "b94ca2928fc548c7911881d4491602ec": {
          "model_module": "@jupyter-widgets/base",
          "model_name": "LayoutModel",
          "model_module_version": "1.2.0",
          "state": {
            "_model_module": "@jupyter-widgets/base",
            "_model_module_version": "1.2.0",
            "_model_name": "LayoutModel",
            "_view_count": null,
            "_view_module": "@jupyter-widgets/base",
            "_view_module_version": "1.2.0",
            "_view_name": "LayoutView",
            "align_content": null,
            "align_items": null,
            "align_self": null,
            "border": null,
            "bottom": null,
            "display": null,
            "flex": null,
            "flex_flow": null,
            "grid_area": null,
            "grid_auto_columns": null,
            "grid_auto_flow": null,
            "grid_auto_rows": null,
            "grid_column": null,
            "grid_gap": null,
            "grid_row": null,
            "grid_template_areas": null,
            "grid_template_columns": null,
            "grid_template_rows": null,
            "height": null,
            "justify_content": null,
            "justify_items": null,
            "left": null,
            "margin": null,
            "max_height": null,
            "max_width": null,
            "min_height": null,
            "min_width": null,
            "object_fit": null,
            "object_position": null,
            "order": null,
            "overflow": null,
            "overflow_x": null,
            "overflow_y": null,
            "padding": null,
            "right": null,
            "top": null,
            "visibility": null,
            "width": null
          }
        },
        "e1b6d02ef0864f79a795c88e39fb3aa7": {
          "model_module": "@jupyter-widgets/base",
          "model_name": "LayoutModel",
          "model_module_version": "1.2.0",
          "state": {
            "_model_module": "@jupyter-widgets/base",
            "_model_module_version": "1.2.0",
            "_model_name": "LayoutModel",
            "_view_count": null,
            "_view_module": "@jupyter-widgets/base",
            "_view_module_version": "1.2.0",
            "_view_name": "LayoutView",
            "align_content": null,
            "align_items": null,
            "align_self": null,
            "border": null,
            "bottom": null,
            "display": null,
            "flex": null,
            "flex_flow": null,
            "grid_area": null,
            "grid_auto_columns": null,
            "grid_auto_flow": null,
            "grid_auto_rows": null,
            "grid_column": null,
            "grid_gap": null,
            "grid_row": null,
            "grid_template_areas": null,
            "grid_template_columns": null,
            "grid_template_rows": null,
            "height": null,
            "justify_content": null,
            "justify_items": null,
            "left": null,
            "margin": null,
            "max_height": null,
            "max_width": null,
            "min_height": null,
            "min_width": null,
            "object_fit": null,
            "object_position": null,
            "order": null,
            "overflow": null,
            "overflow_x": null,
            "overflow_y": null,
            "padding": null,
            "right": null,
            "top": null,
            "visibility": null,
            "width": null
          }
        },
        "075c6a564fb24bd2a09659c440443a5d": {
          "model_module": "@jupyter-widgets/controls",
          "model_name": "DescriptionStyleModel",
          "model_module_version": "1.5.0",
          "state": {
            "_model_module": "@jupyter-widgets/controls",
            "_model_module_version": "1.5.0",
            "_model_name": "DescriptionStyleModel",
            "_view_count": null,
            "_view_module": "@jupyter-widgets/base",
            "_view_module_version": "1.2.0",
            "_view_name": "StyleView",
            "description_width": ""
          }
        },
        "52ef75292a11491b9067ca730b2906cc": {
          "model_module": "@jupyter-widgets/base",
          "model_name": "LayoutModel",
          "model_module_version": "1.2.0",
          "state": {
            "_model_module": "@jupyter-widgets/base",
            "_model_module_version": "1.2.0",
            "_model_name": "LayoutModel",
            "_view_count": null,
            "_view_module": "@jupyter-widgets/base",
            "_view_module_version": "1.2.0",
            "_view_name": "LayoutView",
            "align_content": null,
            "align_items": null,
            "align_self": null,
            "border": null,
            "bottom": null,
            "display": null,
            "flex": null,
            "flex_flow": null,
            "grid_area": null,
            "grid_auto_columns": null,
            "grid_auto_flow": null,
            "grid_auto_rows": null,
            "grid_column": null,
            "grid_gap": null,
            "grid_row": null,
            "grid_template_areas": null,
            "grid_template_columns": null,
            "grid_template_rows": null,
            "height": null,
            "justify_content": null,
            "justify_items": null,
            "left": null,
            "margin": null,
            "max_height": null,
            "max_width": null,
            "min_height": null,
            "min_width": null,
            "object_fit": null,
            "object_position": null,
            "order": null,
            "overflow": null,
            "overflow_x": null,
            "overflow_y": null,
            "padding": null,
            "right": null,
            "top": null,
            "visibility": null,
            "width": null
          }
        },
        "8cf47987c00b4e7192cc9b4bc8c2c595": {
          "model_module": "@jupyter-widgets/controls",
          "model_name": "ProgressStyleModel",
          "model_module_version": "1.5.0",
          "state": {
            "_model_module": "@jupyter-widgets/controls",
            "_model_module_version": "1.5.0",
            "_model_name": "ProgressStyleModel",
            "_view_count": null,
            "_view_module": "@jupyter-widgets/base",
            "_view_module_version": "1.2.0",
            "_view_name": "StyleView",
            "bar_color": null,
            "description_width": ""
          }
        },
        "f4bb4518bcab40f4a5c5170a13c6b263": {
          "model_module": "@jupyter-widgets/base",
          "model_name": "LayoutModel",
          "model_module_version": "1.2.0",
          "state": {
            "_model_module": "@jupyter-widgets/base",
            "_model_module_version": "1.2.0",
            "_model_name": "LayoutModel",
            "_view_count": null,
            "_view_module": "@jupyter-widgets/base",
            "_view_module_version": "1.2.0",
            "_view_name": "LayoutView",
            "align_content": null,
            "align_items": null,
            "align_self": null,
            "border": null,
            "bottom": null,
            "display": null,
            "flex": null,
            "flex_flow": null,
            "grid_area": null,
            "grid_auto_columns": null,
            "grid_auto_flow": null,
            "grid_auto_rows": null,
            "grid_column": null,
            "grid_gap": null,
            "grid_row": null,
            "grid_template_areas": null,
            "grid_template_columns": null,
            "grid_template_rows": null,
            "height": null,
            "justify_content": null,
            "justify_items": null,
            "left": null,
            "margin": null,
            "max_height": null,
            "max_width": null,
            "min_height": null,
            "min_width": null,
            "object_fit": null,
            "object_position": null,
            "order": null,
            "overflow": null,
            "overflow_x": null,
            "overflow_y": null,
            "padding": null,
            "right": null,
            "top": null,
            "visibility": null,
            "width": null
          }
        },
        "78457c95fcb14953b0d3ede889b2269d": {
          "model_module": "@jupyter-widgets/controls",
          "model_name": "DescriptionStyleModel",
          "model_module_version": "1.5.0",
          "state": {
            "_model_module": "@jupyter-widgets/controls",
            "_model_module_version": "1.5.0",
            "_model_name": "DescriptionStyleModel",
            "_view_count": null,
            "_view_module": "@jupyter-widgets/base",
            "_view_module_version": "1.2.0",
            "_view_name": "StyleView",
            "description_width": ""
          }
        }
      }
    }
  },
  "cells": [
    {
      "cell_type": "markdown",
      "metadata": {
        "id": "view-in-github",
        "colab_type": "text"
      },
      "source": [
        "<a href=\"https://colab.research.google.com/github/hossein-khalilian/wav2vec-2-for-Persian/blob/main/Fine_Tune_XLS_R_on_Common_Voice_for_Persian.ipynb\" target=\"_parent\"><img src=\"https://colab.research.google.com/assets/colab-badge.svg\" alt=\"Open In Colab\"/></a>"
      ]
    },
    {
      "cell_type": "markdown",
      "metadata": {
        "id": "LBSYoWbi-45k"
      },
      "source": [
        "# **Fine-tuning XLS-R for Multi-Lingual ASR with 🤗 Transformers for Persian(fa)**\n"
      ]
    },
    {
      "cell_type": "markdown",
      "metadata": {
        "id": "V7YOT2mnUiea"
      },
      "source": [
        "**Wav2Vec2** is a pretrained model for Automatic Speech Recognition (ASR) and was released in [September 2020](https://ai.facebook.com/blog/wav2vec-20-learning-the-structure-of-speech-from-raw-audio/) by *Alexei Baevski, Michael Auli, and Alex Conneau*.  Soon after the superior performance of Wav2Vec2 was demonstrated on one of the most popular English datasets for ASR, called [LibriSpeech](https://huggingface.co/datasets/librispeech_asr), *Facebook AI* presented a multi-lingual version of Wav2Vec2, called [XLSR](https://arxiv.org/abs/2006.13979). XLSR stands for *cross-lingual speech representations* and refers to model's ability to learn speech representations that are useful across multiple languages.\n",
        "\n",
        "XLSR's successor, simply called **XLS-R** (refering to the [*''XLM-R*](https://ai.facebook.com/blog/-xlm-r-state-of-the-art-cross-lingual-understanding-through-self-supervision/) *for Speech''*), was released in [November 2021](https://ai.facebook.com/blog/xls-r-self-supervised-speech-processing-for-128-languages) by *Arun Babu, Changhan Wang, Andros Tjandra, et al.* XLS-R used almost **half a million** hours of audio data in 128 languages for self-supervised pre-training and comes in sizes ranging from 300 milion up to **two billion** parameters. You can find the pretrained checkpoints on the 🤗 Hub:\n",
        "\n",
        "- [**Wav2Vec2-XLS-R-300M**](https://huggingface.co/facebook/wav2vec2-xls-r-300m)\n",
        "- [**Wav2Vec2-XLS-R-1B**](https://huggingface.co/facebook/wav2vec2-xls-r-1b)\n",
        "- [**Wav2Vec2-XLS-R-2B**](https://huggingface.co/facebook/wav2vec2-xls-r-2b)\n",
        "\n",
        "Similar to [BERT's masked language modeling objective](http://jalammar.github.io/illustrated-bert/), XLS-R learns contextualized speech representations by randomly masking feature vectors before passing them to a transformer network during self-supervised pre-training (*i.e.* diagram on the left below). \n",
        "\n",
        "For fine-tuning, a single linear layer is added on top of the pre-trained network to train the model on labeled data of audio downstream tasks such as speech recognition, speech translation and audio classification (*i.e.* diagram on the right below).\n",
        "\n",
        "![wav2vec2_structure](https://raw.githubusercontent.com/patrickvonplaten/scientific_images/master/xls_r.png)\n",
        "\n",
        "XLS-R shows impressive improvements over previous state-of-the-art results on both speech recognition, speech translation and speaker/language identification, *cf.* with Table 3-6, Table 7-10, and Table 11-12 respectively of the official [paper](https://ai.facebook.com/blog/xls-r-self-supervised-speech-processing-for-128-languages)."
      ]
    },
    {
      "cell_type": "markdown",
      "metadata": {
        "id": "nT_QrfWtsxIz"
      },
      "source": [
        "## Notebook Setup"
      ]
    },
    {
      "cell_type": "markdown",
      "metadata": {
        "id": "kruqixOYHaIo"
      },
      "source": [
        "\n",
        "In this notebook, we will fine-tune an XLS-R - more specifically the pre-trained checkpoint [**Wav2Vec2-XLS-R-300M**](https://huggingface.co/facebook/wav2vec2-xls-r-300m) - for Persian Common Voice dataset.  \n"
      ]
    },
    {
      "cell_type": "markdown",
      "metadata": {
        "id": "Gx9OdDYrCtQ1"
      },
      "source": [
        "XLS-R is fine-tuned using Connectionist Temporal Classification (CTC), which is an algorithm that is used to train neural networks for sequence-to-sequence problems, such as ASR and handwriting recognition. \n",
        "\n",
        "I highly recommend reading the well-written blog post [*Sequence Modeling with CTC (2017)*](https://distill.pub/2017/ctc/) by Awni Hannun."
      ]
    },
    {
      "cell_type": "markdown",
      "metadata": {
        "id": "wcHuXIaWyHZU"
      },
      "source": [
        "First, let's try to get a good GPU in our colab! With Google Colab's free version it's sadly becoming much harder to get access to a good GPU. With Google Colab Pro, however, one should easily get either a V100 or P100 GPU."
      ]
    },
    {
      "cell_type": "code",
      "metadata": {
        "colab": {
          "base_uri": "https://localhost:8080/"
        },
        "id": "YELVqGxMxnbG",
        "outputId": "b797b613-8128-4faa-c355-b4ba4c93b1c6"
      },
      "source": [
        "gpu_info = !nvidia-smi\n",
        "gpu_info = '\\n'.join(gpu_info)\n",
        "if gpu_info.find('failed') >= 0:\n",
        "  print('Not connected to a GPU')\n",
        "else:\n",
        "  print(gpu_info)"
      ],
      "execution_count": null,
      "outputs": [
        {
          "name": "stdout",
          "output_type": "stream",
          "text": [
            "Sat Dec  4 10:35:18 2021       \n",
            "+-----------------------------------------------------------------------------+\n",
            "| NVIDIA-SMI 495.44       Driver Version: 460.32.03    CUDA Version: 11.2     |\n",
            "|-------------------------------+----------------------+----------------------+\n",
            "| GPU  Name        Persistence-M| Bus-Id        Disp.A | Volatile Uncorr. ECC |\n",
            "| Fan  Temp  Perf  Pwr:Usage/Cap|         Memory-Usage | GPU-Util  Compute M. |\n",
            "|                               |                      |               MIG M. |\n",
            "|===============================+======================+======================|\n",
            "|   0  Tesla K80           Off  | 00000000:00:04.0 Off |                    0 |\n",
            "| N/A   57C    P8    30W / 149W |      0MiB / 11441MiB |      0%      Default |\n",
            "|                               |                      |                  N/A |\n",
            "+-------------------------------+----------------------+----------------------+\n",
            "                                                                               \n",
            "+-----------------------------------------------------------------------------+\n",
            "| Processes:                                                                  |\n",
            "|  GPU   GI   CI        PID   Type   Process name                  GPU Memory |\n",
            "|        ID   ID                                                   Usage      |\n",
            "|=============================================================================|\n",
            "|  No running processes found                                                 |\n",
            "+-----------------------------------------------------------------------------+\n"
          ]
        }
      ]
    },
    {
      "cell_type": "markdown",
      "metadata": {
        "id": "e335hPmdtASZ"
      },
      "source": [
        "Before we start, let's install `datasets` and `transformers`. Also, we need the `torchaudio` to load audio files and `jiwer` to evaluate our fine-tuned model using the [word error rate (WER)](https://huggingface.co/metrics/wer) metric ${}^1$."
      ]
    },
    {
      "cell_type": "code",
      "metadata": {
        "id": "c8eh87Hoee5d"
      },
      "source": [
        "%%capture\n",
        "!pip install datasets==1.13.3\n",
        "!pip install transformers==4.11.3\n",
        "!pip install huggingface_hub==0.1\n",
        "!pip install torchaudio==0.10.0+cu113 -f https://download.pytorch.org/whl/cu113/torch_stable.html\n",
        "!pip install jiwer"
      ],
      "execution_count": null,
      "outputs": []
    },
    {
      "cell_type": "markdown",
      "metadata": {
        "id": "0xxt_LwxDQlO"
      },
      "source": [
        "We strongly suggest to upload your training checkpoints directly to the [🤗 Hub](https://huggingface.co/) while training. The [🤗 Hub](https://huggingface.co/) has integrated version control so you can be sure that no model checkpoint is getting lost during training. \n",
        "\n",
        "To do so you have to store your authentication token from the Hugging Face website (sign up [here](https://huggingface.co/join) if you haven't already!)"
      ]
    },
    {
      "cell_type": "code",
      "metadata": {
        "colab": {
          "base_uri": "https://localhost:8080/",
          "height": 239
        },
        "id": "mlMSH3T3EazV",
        "outputId": "559a020c-2cf8-41c0-cccc-97f2a199f588"
      },
      "source": [
        "from huggingface_hub import notebook_login\n",
        "\n",
        "notebook_login()"
      ],
      "execution_count": null,
      "outputs": [
        {
          "name": "stdout",
          "output_type": "stream",
          "text": [
            "Login successful\n",
            "Your token has been saved to /root/.huggingface/token\n",
            "\u001b[1m\u001b[31mAuthenticated through git-crendential store but this isn't the helper defined on your machine.\n",
            "You will have to re-authenticate when pushing to the Hugging Face Hub. Run the following command in your terminal to set it as the default\n",
            "\n",
            "git config --global credential.helper store\u001b[0m\n"
          ]
        }
      ]
    },
    {
      "cell_type": "markdown",
      "metadata": {
        "id": "ujdZ2TxhElk6"
      },
      "source": [
        "\n",
        "Then you need to install Git-LFS to upload your model checkpoints:"
      ]
    },
    {
      "cell_type": "code",
      "metadata": {
        "id": "WcR-d83OEkqb"
      },
      "source": [
        "%%capture\n",
        "!apt install git-lfs"
      ],
      "execution_count": null,
      "outputs": []
    },
    {
      "cell_type": "markdown",
      "metadata": {
        "id": "Mn9swf6EQ9Vd"
      },
      "source": [
        "\n",
        "\n",
        "\n",
        "---\n",
        "\n",
        "${}^1$ In the [paper](https://arxiv.org/pdf/2006.13979.pdf), the model was evaluated using the phoneme error rate (PER), but by far the most common metric in ASR is the word error rate (WER). To keep this notebook as general as possible we decided to evaluate the model using WER."
      ]
    },
    {
      "cell_type": "markdown",
      "metadata": {
        "id": "0mW-C1Nt-j7k"
      },
      "source": [
        "## Prepare Data, Tokenizer, Feature Extractor"
      ]
    },
    {
      "cell_type": "markdown",
      "metadata": {
        "id": "BeBosnY9BH3e"
      },
      "source": [
        "ASR models transcribe speech to text, which means that we both need a feature extractor that processes the speech signal to the model's input format, *e.g.* a feature vector, and a tokenizer that processes the model's output format to text. \n",
        "\n",
        "In 🤗 Transformers, the XLS-R model is thus accompanied by both a tokenizer, called [Wav2Vec2CTCTokenizer](https://huggingface.co/transformers/master/model_doc/wav2vec2.html#wav2vec2ctctokenizer), and a feature extractor, called [Wav2Vec2FeatureExtractor](https://huggingface.co/transformers/master/model_doc/wav2vec2.html#wav2vec2featureextractor).\n",
        "\n",
        "Let's start by creating the tokenizer to decode the predicted output classes to the output transcription."
      ]
    },
    {
      "cell_type": "markdown",
      "metadata": {
        "id": "sEXEWEJGQPqD"
      },
      "source": [
        "### Create `Wav2Vec2CTCTokenizer`"
      ]
    },
    {
      "cell_type": "markdown",
      "metadata": {
        "id": "tWmMikuNEKl_"
      },
      "source": [
        "A pre-trained XLS-R model maps the speech signal to a sequence of context representations as illustrated in the figure above. However, for speech recognition the model has to to map this sequence of context representations to its corresponding transcription which means that a linear layer has to be added on top of the transformer block (shown in yellow in the diagram above). This linear layer is used to classifies each context representation to a token class analogous how, *e.g.*, after pretraining a linear layer is added on top of BERT's embeddings for further classification - *cf.* with *'BERT'* section of this [blog post](https://huggingface.co/blog/warm-starting-encoder-decoder)."
      ]
    },
    {
      "cell_type": "markdown",
      "metadata": {
        "id": "v5oRE8XjIUH3"
      },
      "source": [
        "The output size of this layer corresponds to the number of tokens in the vocabulary, which does **not** depend onXLS-R's pretraining task, but only on the labeled dataset used for fine-tuning. So in the first step, we will take a look at the chosen dataset of Common Voice and define a vocabulary based on the transcriptions."
      ]
    },
    {
      "cell_type": "markdown",
      "metadata": {
        "id": "idBczw8mWzgt"
      },
      "source": [
        "First, let's go to Common Voice [official website](https://commonvoice.mozilla.org/en/datasets) and pick a language to fine-tune XLS-R on. For this notebook, we will use Persian. \n",
        "\n",
        "For each language-specific dataset, you can find a language code corresponding to your chosen language. On [Common Voice](https://commonvoice.mozilla.org/en/datasets), look for the field \"Version\". The language code then corresponds to the prefix before the underscore. For Persian, *e.g.* the language code is `\"fa\"`.\n",
        "\n",
        "Great, now we can use 🤗 Datasets' simple API to download the data. The dataset name is `\"common_voice\"`, the configuration name corresponds to the language code, which is `\"fa\"` in our case."
      ]
    },
    {
      "cell_type": "markdown",
      "metadata": {
        "id": "bee4g9rpLxll"
      },
      "source": [
        "Common Voice has many different splits including `invalidated`, which refers to data that was not rated as \"clean enough\" to be considered useful. In this notebook, we will only make use of the splits `\"train\"`, `\"validation\"` and `\"test\"`. \n",
        "\n",
        "Because the Persian dataset is so small, we will merge both the validation and training data into a training dataset and only use the test data for validation."
      ]
    },
    {
      "cell_type": "code",
      "metadata": {
        "colab": {
          "base_uri": "https://localhost:8080/"
        },
        "id": "2MMXcWFFgCXU",
        "outputId": "1a52e81b-85d0-437a-8e41-b8dba4c7a83c"
      },
      "source": [
        "from datasets import load_dataset, load_metric, Audio\n",
        "\n",
        "common_voice_train = load_dataset(\"common_voice\", \"fa\", split=\"train+validation\")\n",
        "common_voice_test = load_dataset(\"common_voice\", \"fa\", split=\"test\")"
      ],
      "execution_count": null,
      "outputs": [
        {
          "name": "stderr",
          "output_type": "stream",
          "text": [
            "Reusing dataset common_voice (/root/.cache/huggingface/datasets/common_voice/fa/6.1.0/f7a9d973839b7706e9e281c19b7e512f31badf3c0fdbd21c671f3c4bf9acf3b9)\n",
            "Reusing dataset common_voice (/root/.cache/huggingface/datasets/common_voice/fa/6.1.0/f7a9d973839b7706e9e281c19b7e512f31badf3c0fdbd21c671f3c4bf9acf3b9)\n"
          ]
        }
      ]
    },
    {
      "cell_type": "markdown",
      "metadata": {
        "id": "ri5y5N_HMANq"
      },
      "source": [
        "Many ASR datasets only provide the target text, `'sentence'` for each audio array `'audio'` and file `'path'`. Common Voice actually provides much more information about each audio file, such as the `'accent'`, etc. Keeping the notebook as general as possible, we only consider the transcribed text for fine-tuning.\n",
        "\n"
      ]
    },
    {
      "cell_type": "code",
      "metadata": {
        "id": "kbyq6lDgQc2a"
      },
      "source": [
        "common_voice_train = common_voice_train.remove_columns([\"accent\", \"age\", \"client_id\", \"down_votes\", \"gender\", \"locale\", \"segment\", \"up_votes\"])\n",
        "common_voice_test = common_voice_test.remove_columns([\"accent\", \"age\", \"client_id\", \"down_votes\", \"gender\", \"locale\", \"segment\", \"up_votes\"])"
      ],
      "execution_count": null,
      "outputs": []
    },
    {
      "cell_type": "markdown",
      "metadata": {
        "id": "Go9Hq4e4NDT9"
      },
      "source": [
        "Let's write a short function to display some random samples of the dataset and run it a couple of times to get a feeling for the transcriptions."
      ]
    },
    {
      "cell_type": "code",
      "metadata": {
        "colab": {
          "base_uri": "https://localhost:8080/",
          "height": 363
        },
        "id": "72737oog2F6U",
        "outputId": "fdb1f972-4c78-48f2-e0fa-a8e1d20b9c86"
      },
      "source": [
        "from datasets import ClassLabel\n",
        "import random\n",
        "import pandas as pd\n",
        "from IPython.display import display, HTML\n",
        "\n",
        "def show_random_elements(dataset, num_examples=10):\n",
        "    assert num_examples <= len(dataset), \"Can't pick more elements than there are in the dataset.\"\n",
        "    picks = []\n",
        "    for _ in range(num_examples):\n",
        "        pick = random.randint(0, len(dataset)-1)\n",
        "        while pick in picks:\n",
        "            pick = random.randint(0, len(dataset)-1)\n",
        "        picks.append(pick)\n",
        "    \n",
        "    df = pd.DataFrame(dataset[picks])\n",
        "    display(HTML(df.to_html()))\n",
        "\n",
        "show_random_elements(common_voice_train.remove_columns([\"path\", \"audio\"]), num_examples=10)"
      ],
      "execution_count": null,
      "outputs": [
        {
          "data": {
            "text/html": [
              "<table border=\"1\" class=\"dataframe\">\n",
              "  <thead>\n",
              "    <tr style=\"text-align: right;\">\n",
              "      <th></th>\n",
              "      <th>sentence</th>\n",
              "    </tr>\n",
              "  </thead>\n",
              "  <tbody>\n",
              "    <tr>\n",
              "      <th>0</th>\n",
              "      <td>من یک اتاق با دو تخت می خواهم.</td>\n",
              "    </tr>\n",
              "    <tr>\n",
              "      <th>1</th>\n",
              "      <td>امیرسالار</td>\n",
              "    </tr>\n",
              "    <tr>\n",
              "      <th>2</th>\n",
              "      <td>کابل</td>\n",
              "    </tr>\n",
              "    <tr>\n",
              "      <th>3</th>\n",
              "      <td>و این تنهایی سیاه را به اتمام رساند.</td>\n",
              "    </tr>\n",
              "    <tr>\n",
              "      <th>4</th>\n",
              "      <td>همیشه مضطرب بودم و احساس گناه و شرمساری می کردم</td>\n",
              "    </tr>\n",
              "    <tr>\n",
              "      <th>5</th>\n",
              "      <td>ایرسا</td>\n",
              "    </tr>\n",
              "    <tr>\n",
              "      <th>6</th>\n",
              "      <td>رزرو من برای اتاق دو نفره بود.</td>\n",
              "    </tr>\n",
              "    <tr>\n",
              "      <th>7</th>\n",
              "      <td>آسال</td>\n",
              "    </tr>\n",
              "    <tr>\n",
              "      <th>8</th>\n",
              "      <td>آریاز</td>\n",
              "    </tr>\n",
              "    <tr>\n",
              "      <th>9</th>\n",
              "      <td>اینجا نیمه شب است.</td>\n",
              "    </tr>\n",
              "  </tbody>\n",
              "</table>"
            ],
            "text/plain": [
              "<IPython.core.display.HTML object>"
            ]
          },
          "metadata": {},
          "output_type": "display_data"
        }
      ]
    },
    {
      "cell_type": "markdown",
      "metadata": {
        "id": "fowcOllGNNju"
      },
      "source": [
        "Alright! The transcriptions look fairly clean. Having translated the transcribed sentences, it seems that the language corresponds more to written-out text than noisy dialogue. This makes sense considering that [Common Voice](https://huggingface.co/datasets/common_voice) is a crowd-sourced read speech corpus."
      ]
    },
    {
      "cell_type": "markdown",
      "metadata": {
        "id": "vq7OR50LN49m"
      },
      "source": [
        "We can see that the transcriptions contain some special characters, such as `,.?!;:`. Without a language model, it is much harder to classify speech chunks to such special characters because they don't really correspond to a characteristic sound unit. *E.g.*, the letter `\"s\"` has a more or less clear sound, whereas the special character `\".\"` does not.\n",
        "Also in order to understand the meaning of a speech signal, it is usually not necessary to include special characters in the transcription.\n",
        "\n",
        "Let's simply remove all characters that don't contribute to the meaning of a word and cannot really be represented by an acoustic sound and normalize the text."
      ]
    },
    {
      "cell_type": "code",
      "metadata": {
        "id": "LSh4_Dt4Aqz2"
      },
      "source": [
        "%%capture\n",
        "# Normalizer\n",
        "!wget 'https://huggingface.co/m3hrdadfi/wav2vec2-large-xlsr-persian-v3/raw/main/dictionary.py' -O - > normalizer.py\n",
        "!echo \"\" >> normalizer.py\n",
        "!wget 'https://huggingface.co/m3hrdadfi/wav2vec2-large-xlsr-persian-v3/raw/main/normalizer.py' -O - >> normalizer.py\n",
        "!pip install parsivar\n",
        "!pip install num2fawords\n",
        "from normalizer import normalizer"
      ],
      "execution_count": null,
      "outputs": []
    },
    {
      "cell_type": "code",
      "metadata": {
        "id": "_XxtCyc8COdE"
      },
      "source": [
        "def cleaning(text):\n",
        "    if not isinstance(text, str):\n",
        "        return None\n",
        "    return normalizer({\"sentence\": text}, return_dict=False)\n",
        "\n",
        "def normalize(batch):\n",
        "    batch['sentence'] = cleaning(batch['sentence'])\n",
        "    return batch"
      ],
      "execution_count": null,
      "outputs": []
    },
    {
      "cell_type": "code",
      "metadata": {
        "colab": {
          "base_uri": "https://localhost:8080/",
          "height": 86,
          "referenced_widgets": [
            "10e5f8fe412e442786730fc7d6f06d0b",
            "680afe0ba09444a19ef442813973c82d",
            "57bc6f60e78e43559291fdd4de52b0ab",
            "8d23c2631643473a93cb1330ede8110c",
            "dee43f176f9248b0879c6ddfb62081f7",
            "1a043083adc24f43aa4e800b3de95a91",
            "5cd5984f046f4c6d9257e271ee1c91ee",
            "3293d37517b74032ac30f53688a420f6",
            "02fc9a5cf06e4a64869c2802ebf5c608",
            "add316ec99ed4d8a931d121bc4517b68",
            "da3edde530664f52b9d3faf8c9ac2e0b"
          ]
        },
        "id": "rHzAYxjpCnEE",
        "outputId": "13e1f063-fe78-4767-849a-84e4576ee6a5"
      },
      "source": [
        "common_voice_test = common_voice_test.map(normalize)\n",
        "common_voice_train = common_voice_train.map(normalize)"
      ],
      "execution_count": null,
      "outputs": [
        {
          "name": "stderr",
          "output_type": "stream",
          "text": [
            "Loading cached processed dataset at /root/.cache/huggingface/datasets/common_voice/fa/6.1.0/f7a9d973839b7706e9e281c19b7e512f31badf3c0fdbd21c671f3c4bf9acf3b9/cache-2450eb7371a552a9.arrow\n"
          ]
        },
        {
          "data": {
            "application/vnd.jupyter.widget-view+json": {
              "model_id": "10e5f8fe412e442786730fc7d6f06d0b",
              "version_major": 2,
              "version_minor": 0
            },
            "text/plain": [
              "  0%|          | 0/12806 [00:00<?, ?ex/s]"
            ]
          },
          "metadata": {},
          "output_type": "display_data"
        }
      ]
    },
    {
      "cell_type": "markdown",
      "metadata": {
        "id": "TxnVS9gIhIma"
      },
      "source": [
        "Let's look at the processed text labels again."
      ]
    },
    {
      "cell_type": "code",
      "metadata": {
        "colab": {
          "base_uri": "https://localhost:8080/",
          "height": 363
        },
        "id": "RBDRAAYxRE6n",
        "outputId": "d586263b-5754-4bb7-f99c-6ec5c259b9e6"
      },
      "source": [
        "show_random_elements(common_voice_train.remove_columns([\"path\",\"audio\"]))"
      ],
      "execution_count": null,
      "outputs": [
        {
          "data": {
            "text/html": [
              "<table border=\"1\" class=\"dataframe\">\n",
              "  <thead>\n",
              "    <tr style=\"text-align: right;\">\n",
              "      <th></th>\n",
              "      <th>sentence</th>\n",
              "    </tr>\n",
              "  </thead>\n",
              "  <tbody>\n",
              "    <tr>\n",
              "      <th>0</th>\n",
              "      <td>افراد زیادی از ابزار شما استفاده میکنند</td>\n",
              "    </tr>\n",
              "    <tr>\n",
              "      <th>1</th>\n",
              "      <td>من بار‌های پرسرصدا را دوست ندارم</td>\n",
              "    </tr>\n",
              "    <tr>\n",
              "      <th>2</th>\n",
              "      <td>اصغر</td>\n",
              "    </tr>\n",
              "    <tr>\n",
              "      <th>3</th>\n",
              "      <td>در کدام راهرو می توانم غذای کنسرو شده پیدا کنم</td>\n",
              "    </tr>\n",
              "    <tr>\n",
              "      <th>4</th>\n",
              "      <td>عکس چپ اولین مصاحبهش بعد خروج از ایران</td>\n",
              "    </tr>\n",
              "    <tr>\n",
              "      <th>5</th>\n",
              "      <td>فروشنده گفت من هنرمندم</td>\n",
              "    </tr>\n",
              "    <tr>\n",
              "      <th>6</th>\n",
              "      <td>آیا می توانید آن را دوباره بدوزید</td>\n",
              "    </tr>\n",
              "    <tr>\n",
              "      <th>7</th>\n",
              "      <td>موزه قوم نگاری کجا است</td>\n",
              "    </tr>\n",
              "    <tr>\n",
              "      <th>8</th>\n",
              "      <td>پس خیلی قطعی درباره یافته‌های این مطالعات نباید قضاوت کرد</td>\n",
              "    </tr>\n",
              "    <tr>\n",
              "      <th>9</th>\n",
              "      <td>متشکرم که امروز به اینجا آمدید</td>\n",
              "    </tr>\n",
              "  </tbody>\n",
              "</table>"
            ],
            "text/plain": [
              "<IPython.core.display.HTML object>"
            ]
          },
          "metadata": {},
          "output_type": "display_data"
        }
      ]
    },
    {
      "cell_type": "markdown",
      "metadata": {
        "id": "3ORHDb2Th2TW"
      },
      "source": [
        "In CTC, it is common to classify speech chunks into letters, so we will do the same here. \n",
        "Let's extract all distinct letters of the training and test data and build our vocabulary from this set of letters.\n",
        "\n",
        "We write a mapping function that concatenates all transcriptions into one long transcription and then transforms the string into a set of chars. \n",
        "It is important to pass the argument `batched=True` to the `map(...)` function so that the mapping function has access to all transcriptions at once."
      ]
    },
    {
      "cell_type": "code",
      "metadata": {
        "id": "LwCshNbbeRZR"
      },
      "source": [
        "def extract_all_chars(batch):\n",
        "  all_text = \" \".join(batch[\"sentence\"])\n",
        "  vocab = list(set(all_text))\n",
        "  return {\"vocab\": [vocab], \"all_text\": [all_text]}"
      ],
      "execution_count": null,
      "outputs": []
    },
    {
      "cell_type": "code",
      "metadata": {
        "colab": {
          "base_uri": "https://localhost:8080/",
          "height": 81,
          "referenced_widgets": [
            "c4ff8fcf58d24366b91f184daad1322f",
            "99985be59ab1416284065dddefa7b4db",
            "26f89f7af29a4bb5b0a00f58c8ed9dc5",
            "d226bf0a72cf46fd90b8f03f431e3d2c",
            "0cb3f2628413420aa4ddf6110a98eb23",
            "aa9a07c08fb74ff89e252c9c5cf3ac05",
            "1693b4a835d34381b26292b523fdfe05",
            "e055451ae133419c8af6d182233c3caf",
            "31a1ec09b8cb4c7581abcc18436f9a15",
            "5e918ffd37e844129f762968bd9af114",
            "667c4e4e1f274fa18eecd6fb976b4b34",
            "20ab5d3518e34b918a800b46e68dff65",
            "50148d5a3ab94f499b296b2ccac20e92",
            "cd490e98c5ff42c6b04eeb166703d580",
            "72ae090f1ad04e2bb15c935ea36292e2",
            "529bb67654184184a045fa2ed05a0a0a",
            "30ed510c138c4d6f9fb0a47521e54951",
            "326853639084434d9ef446a1c5e40774",
            "35f450101eae4db78df57e55eb596c91",
            "b4c7da4e6b684a9d86c838fcb055f8d9",
            "c610dfb6251e4dd1957ee3ca9b4c4206",
            "825686b7003d4550ac4ce613a4eeeb6b"
          ]
        },
        "id": "_m6uUjjcfbjH",
        "outputId": "73085761-d8d1-4a33-eace-814218741b63"
      },
      "source": [
        "vocab_train = common_voice_train.map(extract_all_chars, batched=True, batch_size=-1, keep_in_memory=True, remove_columns=common_voice_train.column_names)\n",
        "vocab_test = common_voice_test.map(extract_all_chars, batched=True, batch_size=-1, keep_in_memory=True, remove_columns=common_voice_test.column_names)"
      ],
      "execution_count": null,
      "outputs": [
        {
          "data": {
            "application/vnd.jupyter.widget-view+json": {
              "model_id": "c4ff8fcf58d24366b91f184daad1322f",
              "version_major": 2,
              "version_minor": 0
            },
            "text/plain": [
              "  0%|          | 0/1 [00:00<?, ?ba/s]"
            ]
          },
          "metadata": {},
          "output_type": "display_data"
        },
        {
          "data": {
            "application/vnd.jupyter.widget-view+json": {
              "model_id": "20ab5d3518e34b918a800b46e68dff65",
              "version_major": 2,
              "version_minor": 0
            },
            "text/plain": [
              "  0%|          | 0/1 [00:00<?, ?ba/s]"
            ]
          },
          "metadata": {},
          "output_type": "display_data"
        }
      ]
    },
    {
      "cell_type": "markdown",
      "metadata": {
        "id": "7oVgE8RZSJNP"
      },
      "source": [
        "Now, we create the union of all distinct letters in the training dataset and test dataset and convert the resulting list into an enumerated dictionary."
      ]
    },
    {
      "cell_type": "code",
      "metadata": {
        "id": "aQfneNsmlJI0"
      },
      "source": [
        "vocab_list = list(set(vocab_train[\"vocab\"][0]) | set(vocab_test[\"vocab\"][0]))"
      ],
      "execution_count": null,
      "outputs": []
    },
    {
      "cell_type": "code",
      "metadata": {
        "colab": {
          "base_uri": "https://localhost:8080/"
        },
        "id": "_0kRndSvqaKk",
        "outputId": "3c803bd8-8a93-4e83-c34e-525f8ab9d59a"
      },
      "source": [
        "vocab_dict = {v: k for k, v in enumerate(sorted(vocab_list))}\n",
        "vocab_dict"
      ],
      "execution_count": null,
      "outputs": [
        {
          "data": {
            "text/plain": [
              "{' ': 0,\n",
              " 'آ': 1,\n",
              " 'ئ': 2,\n",
              " 'ا': 3,\n",
              " 'ب': 4,\n",
              " 'ت': 5,\n",
              " 'ث': 6,\n",
              " 'ج': 7,\n",
              " 'ح': 8,\n",
              " 'خ': 9,\n",
              " 'د': 10,\n",
              " 'ذ': 11,\n",
              " 'ر': 12,\n",
              " 'ز': 13,\n",
              " 'س': 14,\n",
              " 'ش': 15,\n",
              " 'ص': 16,\n",
              " 'ض': 17,\n",
              " 'ط': 18,\n",
              " 'ظ': 19,\n",
              " 'ع': 20,\n",
              " 'غ': 21,\n",
              " 'ف': 22,\n",
              " 'ق': 23,\n",
              " 'ل': 24,\n",
              " 'م': 25,\n",
              " 'ن': 26,\n",
              " 'ه': 27,\n",
              " 'و': 28,\n",
              " 'پ': 29,\n",
              " 'چ': 30,\n",
              " 'ژ': 31,\n",
              " 'ک': 32,\n",
              " 'گ': 33,\n",
              " 'ی': 34,\n",
              " '\\u200c': 35}"
            ]
          },
          "execution_count": 24,
          "metadata": {},
          "output_type": "execute_result"
        }
      ]
    },
    {
      "cell_type": "markdown",
      "metadata": {
        "id": "JOSzbvs9SXT1"
      },
      "source": [
        "Cool, we see that all letters of the alphabet occur in the dataset (which is not really surprising) and we also extracted the special characters `\"\"` and `'`. Note that we did not exclude those special characters because: \n",
        "\n",
        "The model has to learn to predict when a word is finished or else the model prediction would always be a sequence of chars which would make it impossible to separate words from each other.\n",
        "\n",
        "One should always keep in mind that pre-processing is a very important step before training your model. E.g., we don't want our model to differentiate between `a` and `A` just because we forgot to normalize the data. The difference between `a` and `A` does not depend on the \"sound\" of the letter at all, but more on grammatical rules - *e.g.* use a capitalized letter at the beginning of the sentence. So it is sensible to remove the difference between capitalized and non-capitalized letters so that the model has an easier time learning to transcribe speech. "
      ]
    },
    {
      "cell_type": "markdown",
      "metadata": {
        "id": "b1fBRCn-TRaO"
      },
      "source": [
        "To make it clearer that `\" \"` has its own token class, we give it a more visible character `|`. In addition, we also add an \"unknown\" token so that the model can later deal with characters not encountered in Common Voice's training set. "
      ]
    },
    {
      "cell_type": "code",
      "metadata": {
        "id": "npbIbBoLgaFX"
      },
      "source": [
        "vocab_dict[\"|\"] = vocab_dict[\" \"]\n",
        "del vocab_dict[\" \"]"
      ],
      "execution_count": null,
      "outputs": []
    },
    {
      "cell_type": "markdown",
      "metadata": {
        "id": "_9yCWg4Sd0cb"
      },
      "source": [
        "Finally, we also add a padding token that corresponds to CTC's \"*blank token*\". The \"blank token\" is a core component of the CTC algorithm. For more information, please take a look at the \"Alignment\" section [here](https://distill.pub/2017/ctc/)."
      ]
    },
    {
      "cell_type": "code",
      "metadata": {
        "colab": {
          "base_uri": "https://localhost:8080/"
        },
        "id": "znF0bNunsjbl",
        "outputId": "3be38196-10aa-47d5-fcda-64c711cd34c1"
      },
      "source": [
        "vocab_dict[\"[UNK]\"] = len(vocab_dict)\n",
        "vocab_dict[\"[PAD]\"] = len(vocab_dict)\n",
        "len(vocab_dict)"
      ],
      "execution_count": null,
      "outputs": [
        {
          "data": {
            "text/plain": [
              "38"
            ]
          },
          "execution_count": 26,
          "metadata": {},
          "output_type": "execute_result"
        }
      ]
    },
    {
      "cell_type": "markdown",
      "metadata": {
        "id": "SFPGfet8U5sL"
      },
      "source": [
        "Cool, now our vocabulary is complete and consists of 38 tokens, which means that the linear layer that we will add on top of the pretrained XLS-R checkpoint will have an output dimension of 38."
      ]
    },
    {
      "cell_type": "markdown",
      "metadata": {
        "id": "1CujRgBNVRaD"
      },
      "source": [
        "Let's now save the vocabulary as a json file."
      ]
    },
    {
      "cell_type": "code",
      "metadata": {
        "id": "ehyUoh9vk191"
      },
      "source": [
        "import json\n",
        "with open('vocab.json', 'w') as vocab_file:\n",
        "    json.dump(vocab_dict, vocab_file)"
      ],
      "execution_count": null,
      "outputs": []
    },
    {
      "cell_type": "markdown",
      "metadata": {
        "id": "SHJDaKlIVVim"
      },
      "source": [
        "In a final step, we use the json file to load the vocabulary into an instance of the `Wav2Vec2CTCTokenizer` class."
      ]
    },
    {
      "cell_type": "code",
      "metadata": {
        "colab": {
          "base_uri": "https://localhost:8080/"
        },
        "id": "xriFGEWQkO4M",
        "outputId": "9610b2f1-5f3a-4ac3-a382-f14e589bb54a"
      },
      "source": [
        "from transformers import Wav2Vec2CTCTokenizer\n",
        "\n",
        "tokenizer = Wav2Vec2CTCTokenizer.from_pretrained(\"./vocab.json\", unk_token=\"[UNK]\", pad_token=\"[PAD]\", word_delimiter_token=\"|\")"
      ],
      "execution_count": null,
      "outputs": [
        {
          "name": "stderr",
          "output_type": "stream",
          "text": [
            "file ./config.json not found\n",
            "Special tokens have been added in the vocabulary, make sure the associated word embeddings are fine-tuned or trained.\n"
          ]
        }
      ]
    },
    {
      "cell_type": "code",
      "metadata": {
        "colab": {
          "base_uri": "https://localhost:8080/"
        },
        "id": "911u4UH58WL_",
        "outputId": "6e222b7e-9874-4977-dcb8-3de353feb8cb"
      },
      "source": [
        "tokenizer"
      ],
      "execution_count": null,
      "outputs": [
        {
          "data": {
            "text/plain": [
              "PreTrainedTokenizer(name_or_path='./', vocab_size=38, model_max_len=1000000000000000019884624838656, is_fast=False, padding_side='right', special_tokens={'bos_token': '<s>', 'eos_token': '</s>', 'unk_token': '[UNK]', 'pad_token': '[PAD]', 'additional_special_tokens': [AddedToken(\"<s>\", rstrip=False, lstrip=False, single_word=False, normalized=True), AddedToken(\"</s>\", rstrip=False, lstrip=False, single_word=False, normalized=True)]})"
            ]
          },
          "execution_count": 29,
          "metadata": {},
          "output_type": "execute_result"
        }
      ]
    },
    {
      "cell_type": "markdown",
      "metadata": {
        "id": "KvL12DrNV4cx"
      },
      "source": [
        "If one wants to re-use the just created tokenizer with the fine-tuned model of this notebook, it is strongly advised to upload the `tokenizer` to the [🤗 Hub](https://huggingface.co/). Let's call the repo to which we will upload the files\n",
        "`\"wav2vec2-large-xlsr-turkish-demo-colab\"`:"
      ]
    },
    {
      "cell_type": "code",
      "metadata": {
        "id": "A1XApZBAF2zr"
      },
      "source": [
        "repo_name = \"wav2vec2-large-xls-r-large-persian-colab\""
      ],
      "execution_count": null,
      "outputs": []
    },
    {
      "cell_type": "markdown",
      "metadata": {
        "id": "B1BiezWZF16d"
      },
      "source": [
        "and upload the tokenizer to the [🤗 Hub](https://huggingface.co/)."
      ]
    },
    {
      "cell_type": "code",
      "metadata": {
        "id": "zytE1175GAKM"
      },
      "source": [
        "# tokenizer.push_to_hub(repo_name)"
      ],
      "execution_count": null,
      "outputs": []
    },
    {
      "cell_type": "markdown",
      "metadata": {
        "id": "SwQM8lH_GGuP"
      },
      "source": [
        "Great, you can see the just created repository under `https://huggingface.co/<your-username>/wav2vec2-large-xls-r-300m-tr-colab`"
      ]
    },
    {
      "cell_type": "markdown",
      "metadata": {
        "id": "mYcIiR2FQ96i"
      },
      "source": [
        "### Create `Wav2Vec2FeatureExtractor`"
      ]
    },
    {
      "cell_type": "markdown",
      "metadata": {
        "id": "Y6mDEyW719rx"
      },
      "source": [
        "Speech is a continuous signal and to be treated by computers, it first has to be discretized, which is usually called **sampling**. The sampling rate hereby plays an important role in that it defines how many data points of the speech signal are measured per second. Therefore, sampling with a higher sampling rate results in a better approximation of the *real* speech signal but also necessitates more values per second.\n",
        "\n",
        "A pretrained checkpoint expects its input data to have been sampled more or less from the same distribution as the data it was trained on. The same speech signals sampled at two different rates have a very different distribution, *e.g.*, doubling the sampling rate results in data points being twice as long. Thus, \n",
        "before fine-tuning a pretrained checkpoint of an ASR model, it is crucial to verify that the sampling rate of the data that was used to pretrain the model matches the sampling rate of the dataset used to fine-tune the model.\n",
        "\n",
        "XLS-R was pretrained on audio data of [Babel](http://www.reading.ac.uk/AcaDepts/ll/speechlab/babel/r), \n",
        "[Multilingual LibriSpeech (MLS)](https://huggingface.co/datasets/multilingual_librispeech), [Common Voice](https://huggingface.co/datasets/common_voice), [VoxPopuli](https://arxiv.org/abs/2101.00390), and [VoxLingua107](https://arxiv.org/abs/2011.12998) at a sampling rate of 16kHz. Common Voice, in its original form, has a sampling rate of 48kHz, thus we will have to downsample the fine-tuning data to 16kHz in the following.\n",
        "\n"
      ]
    },
    {
      "cell_type": "markdown",
      "metadata": {
        "id": "KuUbPW7oV-B5"
      },
      "source": [
        "A `Wav2Vec2FeatureExtractor` object requires the following parameters to be instantiated:\n",
        "\n",
        "- `feature_size`: Speech models take a sequence of feature vectors as an input. While the length of this sequence obviously varies, the feature size should not. In the case of Wav2Vec2, the feature size is 1 because the model was trained on the raw speech signal ${}^2$.\n",
        "- `sampling_rate`: The sampling rate at which the model is trained on.\n",
        "- `padding_value`: For batched inference, shorter inputs need to be padded with a specific value\n",
        "- `do_normalize`: Whether the input should be *zero-mean-unit-variance* normalized or not. Usually, speech models perform better when normalizing the input\n",
        "- `return_attention_mask`: Whether the model should make use of an `attention_mask` for batched inference. In general, XLS-R models checkpoints should **always** use the `attention_mask`."
      ]
    },
    {
      "cell_type": "code",
      "metadata": {
        "id": "kAR0-2KLkopp"
      },
      "source": [
        "from transformers import Wav2Vec2FeatureExtractor\n",
        "\n",
        "feature_extractor = Wav2Vec2FeatureExtractor(feature_size=1, sampling_rate=16000, padding_value=0.0, do_normalize=True, return_attention_mask=True)"
      ],
      "execution_count": null,
      "outputs": []
    },
    {
      "cell_type": "markdown",
      "metadata": {
        "id": "qUETetgqYC3W"
      },
      "source": [
        "Great, XLS-R's feature extraction pipeline is thereby fully defined!\n",
        "\n",
        "For improved user-friendliness, the feature extractor and tokenizer are *wrapped* into a single `Wav2Vec2Processor` class so that one only needs a `model` and `processor` object."
      ]
    },
    {
      "cell_type": "code",
      "metadata": {
        "id": "KYZtoW-tlZgl"
      },
      "source": [
        "from transformers import Wav2Vec2Processor\n",
        "\n",
        "processor = Wav2Vec2Processor(feature_extractor=feature_extractor, tokenizer=tokenizer)"
      ],
      "execution_count": null,
      "outputs": []
    },
    {
      "cell_type": "markdown",
      "metadata": {
        "id": "DrKnYuvDIoOO"
      },
      "source": [
        "Next, we can prepare the dataset."
      ]
    },
    {
      "cell_type": "markdown",
      "metadata": {
        "id": "YFmShnl7RE35"
      },
      "source": [
        "### Preprocess Data\n",
        "\n",
        "So far, we have not looked at the actual values of the speech signal but just the transcription. In addition to `sentence`, our datasets include two more column names `path` and `audio`. `path` states the absolute path of the audio file. Let's take a look.\n"
      ]
    },
    {
      "cell_type": "markdown",
      "metadata": {
        "id": "T6ndIjHGFp0W"
      },
      "source": [
        "XLS-R expects the input in the format of a 1-dimensional array of 16 kHz. This means that the audio file has to be loaded and resampled.\n",
        "\n",
        " Thankfully, `datasets` does this automatically by calling the other column `audio`. Let try it out. "
      ]
    },
    {
      "cell_type": "code",
      "metadata": {
        "colab": {
          "base_uri": "https://localhost:8080/"
        },
        "id": "qj_z5Zc3GAs9",
        "outputId": "6311e8f1-858b-4633-e9be-c348c0e74626"
      },
      "source": [
        "common_voice_train[0][\"audio\"]"
      ],
      "execution_count": null,
      "outputs": [
        {
          "data": {
            "text/plain": [
              "{'array': array([0.        , 0.        , 0.        , ..., 0.00186443, 0.00183827,\n",
              "        0.00206774], dtype=float32),\n",
              " 'path': '/root/.cache/huggingface/datasets/downloads/extracted/3b0e0ce56990e1c035c009dd3032760da75614498aab0a4090ea91c8d4e8a843/cv-corpus-6.1-2020-12-11/fa/clips/common_voice_fa_19258088.mp3',\n",
              " 'sampling_rate': 48000}"
            ]
          },
          "execution_count": 43,
          "metadata": {},
          "output_type": "execute_result"
        }
      ]
    },
    {
      "cell_type": "markdown",
      "metadata": {
        "id": "WUUTgI1bGHW-"
      },
      "source": [
        "Great, we can see that the audio file has automatically been loaded. This is thanks to the new [`\"Audio\"` feature](https://huggingface.co/docs/datasets/package_reference/main_classes.html?highlight=audio#datasets.Audio) introduced in `datasets == 4.13.3`, which loads and resamples audio files on-the-fly upon calling.\n",
        "\n",
        "In the example above we can see that the audio data is loaded with a sampling rate of 48kHz whereas 16kHz are expected by the model. We can set the audio feature to the correct sampling rate by making use of [`cast_column`](https://huggingface.co/docs/datasets/package_reference/main_classes.html?highlight=cast_column#datasets.DatasetDict.cast_column):"
      ]
    },
    {
      "cell_type": "code",
      "metadata": {
        "id": "rrv65aj7G95i"
      },
      "source": [
        "common_voice_train = common_voice_train.cast_column(\"audio\", Audio(sampling_rate=16_000))\n",
        "common_voice_test = common_voice_test.cast_column(\"audio\", Audio(sampling_rate=16_000))"
      ],
      "execution_count": null,
      "outputs": []
    },
    {
      "cell_type": "markdown",
      "metadata": {
        "id": "PcnO4x-NGBEi"
      },
      "source": [
        "Let's take a look at `\"audio\"` again."
      ]
    },
    {
      "cell_type": "code",
      "metadata": {
        "colab": {
          "base_uri": "https://localhost:8080/"
        },
        "id": "aKtkc1o_HWHC",
        "outputId": "91891315-87b9-42c5-a9f5-b8bf393152b4"
      },
      "source": [
        "common_voice_train[0][\"audio\"]"
      ],
      "execution_count": null,
      "outputs": [
        {
          "data": {
            "text/plain": [
              "{'array': array([0.        , 0.        , 0.        , ..., 0.00235646, 0.00210611,\n",
              "        0.00211985], dtype=float32),\n",
              " 'path': '/root/.cache/huggingface/datasets/downloads/extracted/3b0e0ce56990e1c035c009dd3032760da75614498aab0a4090ea91c8d4e8a843/cv-corpus-6.1-2020-12-11/fa/clips/common_voice_fa_19258088.mp3',\n",
              " 'sampling_rate': 16000}"
            ]
          },
          "execution_count": 45,
          "metadata": {},
          "output_type": "execute_result"
        }
      ]
    },
    {
      "cell_type": "markdown",
      "metadata": {
        "id": "SOckzFd4Mbzq"
      },
      "source": [
        "This seemed to have worked! Let's listen to a couple of audio files to better understand the dataset and verify that the audio was correctly loaded. \n",
        "\n",
        "**Note**: *You can click the following cell a couple of times to listen to different speech samples.*"
      ]
    },
    {
      "cell_type": "code",
      "metadata": {
        "colab": {
          "base_uri": "https://localhost:8080/",
          "height": 79
        },
        "id": "dueM6U7Ev0OA",
        "outputId": "5b4a5ae4-c897-4e16-c0c8-b073e47d0c94"
      },
      "source": [
        "import IPython.display as ipd\n",
        "import numpy as np\n",
        "import random\n",
        "\n",
        "rand_int = random.randint(0, len(common_voice_train)-1)\n",
        "\n",
        "print(common_voice_train[rand_int][\"sentence\"])\n",
        "ipd.Audio(data=common_voice_train[rand_int][\"audio\"][\"array\"], autoplay=True, rate=16000)"
      ],
      "execution_count": null,
      "outputs": [
        {
          "name": "stdout",
          "output_type": "stream",
          "text": [
            "امیراقبال \n"
          ]
        },
        {
          "data": {
            "text/html": [
              "\n",
              "                <audio controls=\"controls\" autoplay=\"autoplay\">\n",
              "                    <source src=\"data:audio/wav;base64,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\" type=\"audio/wav\" />\n",
              "                    Your browser does not support the audio element.\n",
              "                </audio>\n",
              "              "
            ],
            "text/plain": [
              "<IPython.lib.display.Audio object>"
            ]
          },
          "execution_count": 46,
          "metadata": {},
          "output_type": "execute_result"
        }
      ]
    },
    {
      "cell_type": "markdown",
      "metadata": {
        "id": "gY8m3vARHYTa"
      },
      "source": [
        "It seems like the data is now correctly loaded and resampled. "
      ]
    },
    {
      "cell_type": "markdown",
      "metadata": {
        "id": "1MaL9J2dNVtG"
      },
      "source": [
        "It can be heard, that the speakers change along with their speaking rate, accent, and background environment, etc. Overall, the recordings sound acceptably clear though, which is to be expected from a crowd-sourced read speech corpus.\n",
        "\n",
        "Let's do a final check that the data is correctly prepared, by printing the shape of the speech input, its transcription, and the corresponding sampling rate.\n",
        "\n",
        "**Note**: *You can click the following cell a couple of times to verify multiple samples.*"
      ]
    },
    {
      "cell_type": "code",
      "metadata": {
        "colab": {
          "base_uri": "https://localhost:8080/"
        },
        "id": "1Po2g7YPuRTx",
        "outputId": "aec79093-bc03-40e4-9904-a31d470b470c"
      },
      "source": [
        "rand_int = random.randint(0, len(common_voice_train)-1)\n",
        "\n",
        "print(\"Target text:\", common_voice_train[rand_int][\"sentence\"])\n",
        "print(\"Input array shape:\", common_voice_train[rand_int][\"audio\"][\"array\"].shape)\n",
        "print(\"Sampling rate:\", common_voice_train[rand_int][\"audio\"][\"sampling_rate\"])"
      ],
      "execution_count": null,
      "outputs": [
        {
          "name": "stdout",
          "output_type": "stream",
          "text": [
            "Target text: این آزمایش چقدر هزینه دارد \n",
            "Input array shape: (56064,)\n",
            "Sampling rate: 16000\n"
          ]
        }
      ]
    },
    {
      "cell_type": "markdown",
      "metadata": {
        "id": "M9teZcSwOBJ4"
      },
      "source": [
        "Good! Everything looks fine - the data is a 1-dimensional array, the sampling rate always corresponds to 16kHz, and the target text is normalized."
      ]
    },
    {
      "cell_type": "markdown",
      "metadata": {
        "id": "k3Pbn5WvOYZF"
      },
      "source": [
        "Finally, we can leverage `Wav2Vec2Processor` to process the data to the format expected by `Wav2Vec2ForCTC` for training. To do so let's make use of Dataset's [`map(...)`](https://huggingface.co/docs/datasets/package_reference/main_classes.html?highlight=map#datasets.DatasetDict.map) function.\n",
        "\n",
        "First, we load and resample the audio data, simply by calling `batch[\"audio\"]`.\n",
        "Second, we extract the `input_values` from the loaded audio file. In our case, the `Wav2Vec2Processor` only normalizes the data. For other speech models, however, this step can include more complex feature extraction, such as [Log-Mel feature extraction](https://en.wikipedia.org/wiki/Mel-frequency_cepstrum). \n",
        "Third, we encode the transcriptions to label ids.\n",
        "\n",
        "**Note**: This mapping function is a good example of how the `Wav2Vec2Processor` class should be used. In \"normal\" context, calling `processor(...)` is redirected to `Wav2Vec2FeatureExtractor`'s call method. When wrapping the processor into the `as_target_processor` context, however, the same method is redirected to `Wav2Vec2CTCTokenizer`'s call method.\n",
        "For more information please check the [docs](https://huggingface.co/transformers/master/model_doc/wav2vec2.html#transformers.Wav2Vec2Processor.__call__)."
      ]
    },
    {
      "cell_type": "code",
      "metadata": {
        "id": "eJY7I0XAwe9p"
      },
      "source": [
        "def prepare_dataset(batch):\n",
        "    audio = batch[\"audio\"]\n",
        "\n",
        "    # batched output is \"un-batched\"\n",
        "    batch[\"input_values\"] = processor(audio[\"array\"], sampling_rate=audio[\"sampling_rate\"]).input_values[0]\n",
        "    batch[\"input_length\"] = len(batch[\"input_values\"])\n",
        "    \n",
        "    with processor.as_target_processor():\n",
        "        batch[\"labels\"] = processor(batch[\"sentence\"]).input_ids\n",
        "    return batch"
      ],
      "execution_count": null,
      "outputs": []
    },
    {
      "cell_type": "markdown",
      "metadata": {
        "id": "q6Pg_WR3OGAP"
      },
      "source": [
        "Let's apply the data preparation function to all examples."
      ]
    },
    {
      "cell_type": "code",
      "metadata": {
        "colab": {
          "base_uri": "https://localhost:8080/",
          "height": 86,
          "referenced_widgets": [
            "0426110c2d9a426eabd2f8099a727cda",
            "7e4d836409294d14a3661daf9a8cb9b1",
            "d5140e5c37c54996b8d4b18e1bd81d44",
            "118c6fe3e4ac4efbaafc35368168288f",
            "afa70d49098440a0a268c3d5dee31f56",
            "5d540148b3a543c9bd0f61ebf90ff3b3",
            "d056cafee6844de7a6810f98e85cdc5b",
            "fea914cf6bcc4c0a8150919dc0ededb1",
            "f423972ffa624d98bc7c4a1a9a942daf",
            "3af37d438609454889a7622b83c37e18",
            "37fa289a65414c5d8bb1c4378dcbf2a2"
          ]
        },
        "id": "-np9xYK-wl8q",
        "outputId": "9bee833e-3b7f-4c44-e468-ff5eb9d4d3a7"
      },
      "source": [
        "common_voice_train = common_voice_train.map(prepare_dataset, remove_columns=common_voice_train.column_names)\n",
        "common_voice_test = common_voice_test.map(prepare_dataset, remove_columns=common_voice_test.column_names)"
      ],
      "execution_count": null,
      "outputs": [
        {
          "data": {
            "application/vnd.jupyter.widget-view+json": {
              "model_id": "0426110c2d9a426eabd2f8099a727cda",
              "version_major": 2,
              "version_minor": 0
            },
            "text/plain": [
              "  0%|          | 0/12806 [00:00<?, ?ex/s]"
            ]
          },
          "metadata": {},
          "output_type": "display_data"
        },
        {
          "name": "stderr",
          "output_type": "stream",
          "text": [
            "Loading cached processed dataset at /root/.cache/huggingface/datasets/common_voice/fa/6.1.0/f7a9d973839b7706e9e281c19b7e512f31badf3c0fdbd21c671f3c4bf9acf3b9/cache-9cc907a544ee449f.arrow\n"
          ]
        }
      ]
    },
    {
      "cell_type": "code",
      "metadata": {
        "colab": {
          "base_uri": "https://localhost:8080/"
        },
        "id": "KN99i9CQZ59M",
        "outputId": "406570f3-dac3-4c2c-9ec8-860d7334a546"
      },
      "source": [
        "common_voice_test"
      ],
      "execution_count": null,
      "outputs": [
        {
          "data": {
            "text/plain": [
              "Dataset({\n",
              "    features: ['input_values', 'input_length', 'labels'],\n",
              "    num_rows: 5213\n",
              "})"
            ]
          },
          "execution_count": 50,
          "metadata": {},
          "output_type": "execute_result"
        }
      ]
    },
    {
      "cell_type": "code",
      "metadata": {
        "colab": {
          "base_uri": "https://localhost:8080/"
        },
        "id": "np56zPSIawV2",
        "outputId": "ae8f4ae4-24a8-4ceb-f033-3ab15168983f"
      },
      "source": [
        "common_voice_test['labels'][0]"
      ],
      "execution_count": null,
      "outputs": [
        {
          "data": {
            "text/plain": [
              "[3,\n",
              " 13,\n",
              " 0,\n",
              " 25,\n",
              " 27,\n",
              " 25,\n",
              " 28,\n",
              " 26,\n",
              " 10,\n",
              " 3,\n",
              " 12,\n",
              " 34,\n",
              " 0,\n",
              " 32,\n",
              " 26,\n",
              " 3,\n",
              " 12,\n",
              " 0,\n",
              " 4,\n",
              " 32,\n",
              " 15,\n",
              " 25,\n",
              " 0]"
            ]
          },
          "execution_count": 51,
          "metadata": {},
          "output_type": "execute_result"
        }
      ]
    },
    {
      "cell_type": "markdown",
      "metadata": {
        "id": "nKcEWHvKI1by"
      },
      "source": [
        "**Note**: Currently `datasets` make use of [`torchaudio`](https://pytorch.org/audio/stable/index.html) and [`librosa`](https://librosa.org/doc/latest/index.html) for audio loading and resampling. If you wish to implement your own costumized data loading/sampling, feel free to just make use of the `\"path\"` column instead and disregard the `\"audio\"` column."
      ]
    },
    {
      "cell_type": "markdown",
      "metadata": {
        "id": "24CxHd5ewI4T"
      },
      "source": [
        "Long input sequences require a lot of memory. XLS-R is based on `self-attention` the memory requirement scales quadratically with the input length for long input sequences (*cf.* with [this](https://www.reddit.com/r/MachineLearning/comments/genjvb/d_why_is_the_maximum_input_sequence_length_of/) reddit post). In case this demo crashes with an \"Out-of-memory\" error for you, you might want to uncomment the following lines to filter all sequences that are longer than 5 seconds for training."
      ]
    },
    {
      "cell_type": "code",
      "metadata": {
        "colab": {
          "base_uri": "https://localhost:8080/",
          "height": 49,
          "referenced_widgets": [
            "dfe94cabcff343d3b40cfc2d6a40c297",
            "59879a4fea27437cb00fc0013cf93b46",
            "29cca957a21b43aa84484964927da027",
            "6cab4509b4b947df8e671f25b3f93c28",
            "b94ca2928fc548c7911881d4491602ec",
            "e1b6d02ef0864f79a795c88e39fb3aa7",
            "075c6a564fb24bd2a09659c440443a5d",
            "52ef75292a11491b9067ca730b2906cc",
            "8cf47987c00b4e7192cc9b4bc8c2c595",
            "f4bb4518bcab40f4a5c5170a13c6b263",
            "78457c95fcb14953b0d3ede889b2269d"
          ]
        },
        "id": "tdHfbUJ_09iA",
        "outputId": "bcec2150-574f-4b26-8a91-44182455103f"
      },
      "source": [
        "max_input_length_in_sec = 5.0\n",
        "common_voice_train = common_voice_train.filter(lambda x: x < max_input_length_in_sec * processor.feature_extractor.sampling_rate, input_columns=[\"input_length\"])"
      ],
      "execution_count": null,
      "outputs": [
        {
          "data": {
            "application/vnd.jupyter.widget-view+json": {
              "model_id": "dfe94cabcff343d3b40cfc2d6a40c297",
              "version_major": 2,
              "version_minor": 0
            },
            "text/plain": [
              "  0%|          | 0/13 [00:00<?, ?ba/s]"
            ]
          },
          "metadata": {},
          "output_type": "display_data"
        }
      ]
    },
    {
      "cell_type": "markdown",
      "metadata": {
        "id": "1ZWDCCKqwcfS"
      },
      "source": [
        "Awesome, now we are ready to start training!"
      ]
    },
    {
      "cell_type": "markdown",
      "metadata": {
        "id": "gYlQkKVoRUos"
      },
      "source": [
        "## Training\n",
        "\n",
        "The data is processed so that we are ready to start setting up the training pipeline. We will make use of 🤗's [Trainer](https://huggingface.co/transformers/master/main_classes/trainer.html?highlight=trainer) for which we essentially need to do the following:\n",
        "\n",
        "- Define a data collator. In contrast to most NLP models, XLS-R has a much larger input length than output length. *E.g.*, a sample of input length 50000 has an output length of no more than 100. Given the large input sizes, it is much more efficient to pad the training batches dynamically meaning that all training samples should only be padded to the longest sample in their batch and not the overall longest sample. Therefore, fine-tuning XLS-R requires a special padding data collator, which we will define below\n",
        "\n",
        "- Evaluation metric. During training, the model should be evaluated on the word error rate. We should define a `compute_metrics` function accordingly\n",
        "\n",
        "- Load a pretrained checkpoint. We need to load a pretrained checkpoint and configure it correctly for training.\n",
        "\n",
        "- Define the training configuration.\n",
        "\n",
        "After having fine-tuned the model, we will correctly evaluate it on the test data and verify that it has indeed learned to correctly transcribe speech."
      ]
    },
    {
      "cell_type": "markdown",
      "metadata": {
        "id": "Slk403unUS91"
      },
      "source": [
        "### Set-up Trainer\n",
        "\n",
        "Let's start by defining the data collator. The code for the data collator was copied from [this example](https://github.com/huggingface/transformers/blob/9a06b6b11bdfc42eea08fa91d0c737d1863c99e3/examples/research_projects/wav2vec2/run_asr.py#L81).\n",
        "\n",
        "Without going into too many details, in contrast to the common data collators, this data collator treats the `input_values` and `labels` differently and thus applies to separate padding functions on them (again making use of XLS-R processor's context manager). This is necessary because in speech input and output are of different modalities meaning that they should not be treated by the same padding function.\n",
        "Analogous to the common data collators, the padding tokens in the labels with `-100` so that those tokens are **not** taken into account when computing the loss."
      ]
    },
    {
      "cell_type": "code",
      "metadata": {
        "id": "tborvC9hx88e"
      },
      "source": [
        "import torch\n",
        "\n",
        "from dataclasses import dataclass, field\n",
        "from typing import Any, Dict, List, Optional, Union\n",
        "\n",
        "@dataclass\n",
        "class DataCollatorCTCWithPadding:\n",
        "    \"\"\"\n",
        "    Data collator that will dynamically pad the inputs received.\n",
        "    Args:\n",
        "        processor (:class:`~transformers.Wav2Vec2Processor`)\n",
        "            The processor used for proccessing the data.\n",
        "        padding (:obj:`bool`, :obj:`str` or :class:`~transformers.tokenization_utils_base.PaddingStrategy`, `optional`, defaults to :obj:`True`):\n",
        "            Select a strategy to pad the returned sequences (according to the model's padding side and padding index)\n",
        "            among:\n",
        "            * :obj:`True` or :obj:`'longest'`: Pad to the longest sequence in the batch (or no padding if only a single\n",
        "              sequence if provided).\n",
        "            * :obj:`'max_length'`: Pad to a maximum length specified with the argument :obj:`max_length` or to the\n",
        "              maximum acceptable input length for the model if that argument is not provided.\n",
        "            * :obj:`False` or :obj:`'do_not_pad'` (default): No padding (i.e., can output a batch with sequences of\n",
        "              different lengths).\n",
        "    \"\"\"\n",
        "\n",
        "    processor: Wav2Vec2Processor\n",
        "    padding: Union[bool, str] = True\n",
        "\n",
        "    def __call__(self, features: List[Dict[str, Union[List[int], torch.Tensor]]]) -> Dict[str, torch.Tensor]:\n",
        "        # split inputs and labels since they have to be of different lenghts and need\n",
        "        # different padding methods\n",
        "        input_features = [{\"input_values\": feature[\"input_values\"]} for feature in features]\n",
        "        label_features = [{\"input_ids\": feature[\"labels\"]} for feature in features]\n",
        "\n",
        "        batch = self.processor.pad(\n",
        "            input_features,\n",
        "            padding=self.padding,\n",
        "            return_tensors=\"pt\",\n",
        "        )\n",
        "        with self.processor.as_target_processor():\n",
        "            labels_batch = self.processor.pad(\n",
        "                label_features,\n",
        "                padding=self.padding,\n",
        "                return_tensors=\"pt\",\n",
        "            )\n",
        "\n",
        "        # replace padding with -100 to ignore loss correctly\n",
        "        labels = labels_batch[\"input_ids\"].masked_fill(labels_batch.attention_mask.ne(1), -100)\n",
        "\n",
        "        batch[\"labels\"] = labels\n",
        "\n",
        "        return batch"
      ],
      "execution_count": null,
      "outputs": []
    },
    {
      "cell_type": "code",
      "metadata": {
        "id": "lbQf5GuZyQ4_"
      },
      "source": [
        "data_collator = DataCollatorCTCWithPadding(processor=processor, padding=True)"
      ],
      "execution_count": null,
      "outputs": []
    },
    {
      "cell_type": "markdown",
      "metadata": {
        "id": "xO-Zdj-5cxXp"
      },
      "source": [
        "Next, the evaluation metric is defined. As mentioned earlier, the \n",
        "predominant metric in ASR is the word error rate (WER), hence we will use it in this notebook as well."
      ]
    },
    {
      "cell_type": "code",
      "metadata": {
        "id": "9Xsux2gmyXso"
      },
      "source": [
        "wer_metric = load_metric(\"wer\")"
      ],
      "execution_count": null,
      "outputs": []
    },
    {
      "cell_type": "markdown",
      "metadata": {
        "id": "E1qZU5p-deqB"
      },
      "source": [
        "The model will return a sequence of logit vectors:\n",
        "$\\mathbf{y}_1, \\ldots, \\mathbf{y}_m$ with $\\mathbf{y}_1 = f_{\\theta}(x_1, \\ldots, x_n)[0]$ and $n >> m$.\n",
        "\n",
        "A logit vector $\\mathbf{y}_1$ contains the log-odds for each word in the vocabulary we defined earlier, thus $\\text{len}(\\mathbf{y}_i) =$ `config.vocab_size`. We are interested in the most likely prediction of the model and thus take the `argmax(...)` of the logits. Also, we transform the encoded labels back to the original string by replacing `-100` with the `pad_token_id` and decoding the ids while making sure that consecutive tokens are **not** grouped to the same token in CTC style ${}^1$."
      ]
    },
    {
      "cell_type": "code",
      "metadata": {
        "id": "1XZ-kjweyTy_"
      },
      "source": [
        "def compute_metrics(pred):\n",
        "    pred_logits = pred.predictions\n",
        "    pred_ids = np.argmax(pred_logits, axis=-1)\n",
        "    pred_str = processor.batch_decode(pred_ids)\n",
        "\n",
        "\n",
        "    # we do not want to group tokens when computing the metrics\n",
        "    pred.label_ids[pred.label_ids == -100] = processor.tokenizer.pad_token_id\n",
        "    label_str = processor.batch_decode(pred.label_ids, group_tokens=False)\n",
        "\n",
        "    wer = wer_metric.compute(predictions=pred_str, references=label_str)\n",
        "\n",
        "    return {\"wer\": wer}"
      ],
      "execution_count": null,
      "outputs": []
    },
    {
      "cell_type": "markdown",
      "metadata": {
        "id": "Xmgrx4bRwLIH"
      },
      "source": [
        "Now, we can load the pretrained checkpoint of [Wav2Vec2-XLS-R-300M](https://huggingface.co/facebook/wav2vec2-xls-r-300m). The tokenizer's `pad_token_id` must be to define the model's `pad_token_id` or in the case of `Wav2Vec2ForCTC` also CTC's *blank token* ${}^2$. To save GPU memory, we enable PyTorch's [gradient checkpointing](https://pytorch.org/docs/stable/checkpoint.html) and also set the loss reduction to \"*mean*\".\n",
        "\n",
        "Because the dataset is quite small (~6h of training data) and because Common Voice is quite noisy, fine-tuning Facebook's [wav2vec2-xls-r-300m checkpoint](https://huggingface.co/facebook/wav2vec2-xls-r-300m) seems to require some hyper-parameter tuning. Therefore, I had to play around a bit with different values for dropout, [SpecAugment](https://arxiv.org/abs/1904.08779)'s masking dropout rate, layer dropout, and the learning rate until training seemed to be stable enough. \n",
        "\n",
        "**Note**: When using this notebook to train XLS-R on another language of Common Voice those hyper-parameter settings might not work very well. Feel free to adapt those depending on your use case. "
      ]
    },
    {
      "cell_type": "code",
      "metadata": {
        "colab": {
          "base_uri": "https://localhost:8080/"
        },
        "id": "e7cqAWIayn6w",
        "outputId": "296cf01a-9e7e-4230-a227-3368c3589797"
      },
      "source": [
        "from transformers import Wav2Vec2ForCTC\n",
        "\n",
        "model = Wav2Vec2ForCTC.from_pretrained(\n",
        "    \"facebook/wav2vec2-large-xlsr-53\", \n",
        "    activation_dropout=0.09216,\n",
        "    attention_dropout=0.05316,\n",
        "    hidden_dropout=0.01941,\n",
        "    feat_proj_dropout=0.01249,\n",
        "    mask_time_prob=0.04529,\n",
        "    layerdrop=0.01377,\n",
        "    ctc_loss_reduction=\"mean\", \n",
        "    ctc_zero_infinity=True,\n",
        "    gradient_checkpointing=True,\n",
        "    pad_token_id=processor.tokenizer.pad_token_id,\n",
        "    vocab_size=len(processor.tokenizer),\n",
        ")"
      ],
      "execution_count": null,
      "outputs": [
        {
          "name": "stderr",
          "output_type": "stream",
          "text": [
            "Some weights of the model checkpoint at facebook/wav2vec2-large-xlsr-53 were not used when initializing Wav2Vec2ForCTC: ['quantizer.codevectors', 'project_q.bias', 'project_hid.weight', 'project_q.weight', 'quantizer.weight_proj.bias', 'project_hid.bias', 'quantizer.weight_proj.weight']\n",
            "- This IS expected if you are initializing Wav2Vec2ForCTC from the checkpoint of a model trained on another task or with another architecture (e.g. initializing a BertForSequenceClassification model from a BertForPreTraining model).\n",
            "- This IS NOT expected if you are initializing Wav2Vec2ForCTC from the checkpoint of a model that you expect to be exactly identical (initializing a BertForSequenceClassification model from a BertForSequenceClassification model).\n",
            "Some weights of Wav2Vec2ForCTC were not initialized from the model checkpoint at facebook/wav2vec2-large-xlsr-53 and are newly initialized: ['lm_head.bias', 'lm_head.weight']\n",
            "You should probably TRAIN this model on a down-stream task to be able to use it for predictions and inference.\n"
          ]
        }
      ]
    },
    {
      "cell_type": "markdown",
      "metadata": {
        "id": "1DwR3XLSzGDD"
      },
      "source": [
        "The first component of XLS-R consists of a stack of CNN layers that are used to extract acoustically meaningful - but contextually independent - features from the raw speech signal. This part of the model has already been sufficiently trained during pretraining and as stated in the [paper](https://arxiv.org/pdf/2006.13979.pdf) does not need to be fine-tuned anymore. \n",
        "Thus, we can set the `requires_grad` to `False` for all parameters of the *feature extraction* part."
      ]
    },
    {
      "cell_type": "code",
      "metadata": {
        "id": "oGI8zObtZ3V0"
      },
      "source": [
        "model.freeze_feature_extractor()"
      ],
      "execution_count": null,
      "outputs": []
    },
    {
      "cell_type": "markdown",
      "metadata": {
        "id": "lD4aGhQM0K-D"
      },
      "source": [
        "In a final step, we define all parameters related to training. \n",
        "To give more explanation on some of the parameters:\n",
        "- `group_by_length` makes training more efficient by grouping training samples of similar input length into one batch. This can significantly speed up training time by heavily reducing the overall number of useless padding tokens that are passed through the model\n",
        "- `learning_rate` and `weight_decay` were heuristically tuned until fine-tuning has become stable. Note that those parameters strongly depend on the Common Voice dataset and might be suboptimal for other speech datasets.\n",
        "\n",
        "For more explanations on other parameters, one can take a look at the [docs](https://huggingface.co/transformers/master/main_classes/trainer.html?highlight=trainer#trainingarguments).\n",
        "\n",
        "During training, a checkpoint will be uploaded asynchronously to the hub every 400 training steps. It allows you to also play around with the demo widget even while your model is still training.\n",
        "\n",
        "**Note**: If one does not want to upload the model checkpoints to the hub, simply set `push_to_hub=False`."
      ]
    },
    {
      "cell_type": "code",
      "metadata": {
        "id": "KbeKSV7uzGPP"
      },
      "source": [
        "from transformers import TrainingArguments\n",
        "\n",
        "training_args = TrainingArguments(\n",
        "  output_dir=repo_name,\n",
        "  group_by_length=True,\n",
        "  per_device_train_batch_size=16,\n",
        "  gradient_accumulation_steps=2,\n",
        "  evaluation_strategy=\"steps\",\n",
        "  num_train_epochs=30,\n",
        "  gradient_checkpointing=True,\n",
        "  fp16=True,\n",
        "  save_steps=400,\n",
        "  eval_steps=400,\n",
        "  logging_steps=400,\n",
        "  learning_rate=1e-4,\n",
        "  warmup_steps=1000,\n",
        "  save_total_limit=2,\n",
        "  push_to_hub=False,\n",
        ")"
      ],
      "execution_count": null,
      "outputs": []
    },
    {
      "cell_type": "markdown",
      "metadata": {
        "id": "OsW-WZcL1ZtN"
      },
      "source": [
        "Now, all instances can be passed to Trainer and we are ready to start training!"
      ]
    },
    {
      "cell_type": "code",
      "metadata": {
        "colab": {
          "base_uri": "https://localhost:8080/"
        },
        "id": "rY7vBmFCPFgC",
        "outputId": "f354f251-7ea0-4f3c-d581-d676eca4d92d"
      },
      "source": [
        "from transformers import Trainer\n",
        "\n",
        "trainer = Trainer(\n",
        "    model=model,\n",
        "    data_collator=data_collator,\n",
        "    args=training_args,\n",
        "    compute_metrics=compute_metrics,\n",
        "    train_dataset=common_voice_train,\n",
        "    eval_dataset=common_voice_test,\n",
        "    tokenizer=processor.feature_extractor,\n",
        ")"
      ],
      "execution_count": null,
      "outputs": [
        {
          "name": "stderr",
          "output_type": "stream",
          "text": [
            "Using amp fp16 backend\n"
          ]
        }
      ]
    },
    {
      "cell_type": "code",
      "metadata": {
        "colab": {
          "base_uri": "https://localhost:8080/"
        },
        "id": "KWCJqw-T-ZeS",
        "outputId": "fb77602c-da4a-4ef3-de74-91fb93cd942f"
      },
      "source": [
        "trainer.args"
      ],
      "execution_count": null,
      "outputs": [
        {
          "data": {
            "text/plain": [
              "TrainingArguments(\n",
              "_n_gpu=1,\n",
              "adafactor=False,\n",
              "adam_beta1=0.9,\n",
              "adam_beta2=0.999,\n",
              "adam_epsilon=1e-08,\n",
              "dataloader_drop_last=False,\n",
              "dataloader_num_workers=0,\n",
              "dataloader_pin_memory=True,\n",
              "ddp_find_unused_parameters=None,\n",
              "debug=[],\n",
              "deepspeed=None,\n",
              "disable_tqdm=False,\n",
              "do_eval=True,\n",
              "do_predict=False,\n",
              "do_train=False,\n",
              "eval_accumulation_steps=None,\n",
              "eval_steps=400,\n",
              "evaluation_strategy=IntervalStrategy.STEPS,\n",
              "fp16=True,\n",
              "fp16_backend=auto,\n",
              "fp16_full_eval=False,\n",
              "fp16_opt_level=O1,\n",
              "gradient_accumulation_steps=2,\n",
              "gradient_checkpointing=True,\n",
              "greater_is_better=None,\n",
              "group_by_length=True,\n",
              "hub_model_id=None,\n",
              "hub_strategy=HubStrategy.EVERY_SAVE,\n",
              "hub_token=<HUB_TOKEN>,\n",
              "ignore_data_skip=False,\n",
              "label_names=None,\n",
              "label_smoothing_factor=0.0,\n",
              "learning_rate=0.0003,\n",
              "length_column_name=length,\n",
              "load_best_model_at_end=False,\n",
              "local_rank=-1,\n",
              "log_level=-1,\n",
              "log_level_replica=-1,\n",
              "log_on_each_node=True,\n",
              "logging_dir=wav2vec2-large-xls-r-large-persian-colab/runs/Dec04_10-40-05_c4ae80991d26,\n",
              "logging_first_step=False,\n",
              "logging_nan_inf_filter=True,\n",
              "logging_steps=400,\n",
              "logging_strategy=IntervalStrategy.STEPS,\n",
              "lr_scheduler_type=SchedulerType.LINEAR,\n",
              "max_grad_norm=1.0,\n",
              "max_steps=-1,\n",
              "metric_for_best_model=None,\n",
              "mp_parameters=,\n",
              "no_cuda=False,\n",
              "num_train_epochs=30,\n",
              "output_dir=wav2vec2-large-xls-r-large-persian-colab,\n",
              "overwrite_output_dir=False,\n",
              "past_index=-1,\n",
              "per_device_eval_batch_size=8,\n",
              "per_device_train_batch_size=16,\n",
              "prediction_loss_only=False,\n",
              "push_to_hub=False,\n",
              "push_to_hub_model_id=None,\n",
              "push_to_hub_organization=None,\n",
              "push_to_hub_token=<PUSH_TO_HUB_TOKEN>,\n",
              "remove_unused_columns=True,\n",
              "report_to=['tensorboard'],\n",
              "resume_from_checkpoint=None,\n",
              "run_name=wav2vec2-large-xls-r-large-persian-colab,\n",
              "save_on_each_node=False,\n",
              "save_steps=400,\n",
              "save_strategy=IntervalStrategy.STEPS,\n",
              "save_total_limit=2,\n",
              "seed=42,\n",
              "sharded_ddp=[],\n",
              "skip_memory_metrics=True,\n",
              "tpu_metrics_debug=False,\n",
              "tpu_num_cores=None,\n",
              "use_legacy_prediction_loop=False,\n",
              "warmup_ratio=0.0,\n",
              "warmup_steps=500,\n",
              "weight_decay=0.0,\n",
              "xpu_backend=None,\n",
              ")"
            ]
          },
          "execution_count": 62,
          "metadata": {},
          "output_type": "execute_result"
        }
      ]
    },
    {
      "cell_type": "markdown",
      "metadata": {
        "id": "UoXBx1JAA0DX"
      },
      "source": [
        "\n",
        "\n",
        "---\n",
        "\n",
        "${}^1$ To allow models to become independent of the speaker rate, in CTC, consecutive tokens that are identical are simply grouped as a single token. However, the encoded labels should not be grouped when decoding since they don't correspond to the predicted tokens of the model, which is why the `group_tokens=False` parameter has to be passed. If we wouldn't pass this parameter a word like `\"hello\"` would incorrectly be encoded, and decoded as `\"helo\"`.\n",
        "\n",
        "${}^2$ The blank token allows the model to predict a word, such as `\"hello\"` by forcing it to insert the blank token between the two l's. A CTC-conform prediction of `\"hello\"` of our model would be `[PAD] [PAD] \"h\" \"e\" \"e\" \"l\" \"l\" [PAD] \"l\" \"o\" \"o\" [PAD]`."
      ]
    },
    {
      "cell_type": "markdown",
      "metadata": {
        "id": "rpvZHM1xReIW"
      },
      "source": [
        "### Training"
      ]
    },
    {
      "cell_type": "markdown",
      "metadata": {
        "id": "j-3oKSzZ1hGq"
      },
      "source": [
        "Training will take multiple hours depending on the GPU allocated to this notebook. While the trained model yields somewhat satisfying results on *Common Voice*'s test data of Persian, it is by no means an optimally fine-tuned model. The purpose of this notebook is just to demonstrate how to fine-tune XLS-R on an ASR dataset.\n",
        "\n",
        "In case you want to use this google colab to fine-tune your model, you should make sure that your training doesn't stop due to inactivity. A simple hack to prevent this is to paste the following code into the console of this tab (*right mouse click -> inspect -> Console tab and insert code*)."
      ]
    },
    {
      "cell_type": "markdown",
      "metadata": {
        "id": "VYYAvgkW4P0m"
      },
      "source": [
        "```javascript\n",
        "function ConnectButton(){\n",
        "    console.log(\"Connect pushed\"); \n",
        "    document.querySelector(\"#top-toolbar > colab-connect-button\").shadowRoot.querySelector(\"#connect\").click() \n",
        "}\n",
        "setInterval(ConnectButton,60000);\n",
        "```"
      ]
    },
    {
      "cell_type": "markdown",
      "metadata": {
        "id": "7bGgLV2r0yvZ"
      },
      "source": [
        "Depending on what GPU was allocated to your google colab it might be possible that you are seeing an `\"out-of-memory\"` error here. In this case, it's probably best to reduce `per_device_train_batch_size` to 8 or even less and increase [`gradient_accumulation`](https://huggingface.co/transformers/master/main_classes/trainer.html#trainingarguments)."
      ]
    },
    {
      "cell_type": "code",
      "metadata": {
        "colab": {
          "background_save": true,
          "base_uri": "https://localhost:8080/",
          "height": 474
        },
        "id": "9fRr9TG5pGBl",
        "outputId": "b260da3d-c085-42ae-f1f0-3a014bf6e806"
      },
      "source": [
        "trainer.train()"
      ],
      "execution_count": null,
      "outputs": [
        {
          "name": "stderr",
          "output_type": "stream",
          "text": [
            "The following columns in the training set  don't have a corresponding argument in `Wav2Vec2ForCTC.forward` and have been ignored: input_length.\n",
            "***** Running training *****\n",
            "  Num examples = 9693\n",
            "  Num Epochs = 30\n",
            "  Instantaneous batch size per device = 16\n",
            "  Total train batch size (w. parallel, distributed & accumulation) = 32\n",
            "  Gradient Accumulation steps = 2\n",
            "  Total optimization steps = 9090\n",
            "/usr/local/lib/python3.7/dist-packages/transformers/feature_extraction_utils.py:158: UserWarning: Creating a tensor from a list of numpy.ndarrays is extremely slow. Please consider converting the list to a single numpy.ndarray with numpy.array() before converting to a tensor. (Triggered internally at  ../torch/csrc/utils/tensor_new.cpp:201.)\n",
            "  tensor = as_tensor(value)\n",
            "/usr/local/lib/python3.7/dist-packages/transformers/models/wav2vec2/modeling_wav2vec2.py:882: UserWarning: __floordiv__ is deprecated, and its behavior will change in a future version of pytorch. It currently rounds toward 0 (like the 'trunc' function NOT 'floor'). This results in incorrect rounding for negative values. To keep the current behavior, use torch.div(a, b, rounding_mode='trunc'), or for actual floor division, use torch.div(a, b, rounding_mode='floor').\n",
            "  return (input_length - kernel_size) // stride + 1\n"
          ]
        },
        {
          "data": {
            "text/html": [
              "\n",
              "    <div>\n",
              "      \n",
              "      <progress value='401' max='9090' style='width:300px; height:20px; vertical-align: middle;'></progress>\n",
              "      [ 401/9090 2:04:32 < 45:12:14, 0.05 it/s, Epoch 1.32/30]\n",
              "    </div>\n",
              "    <table border=\"1\" class=\"dataframe\">\n",
              "  <thead>\n",
              "    <tr style=\"text-align: left;\">\n",
              "      <th>Step</th>\n",
              "      <th>Training Loss</th>\n",
              "      <th>Validation Loss</th>\n",
              "      <th>Wer</th>\n",
              "    </tr>\n",
              "  </thead>\n",
              "  <tbody>\n",
              "    <tr>\n",
              "      <td>400</td>\n",
              "      <td>6.792900</td>\n",
              "      <td>1.805573</td>\n",
              "      <td>0.977805</td>\n",
              "    </tr>\n",
              "  </tbody>\n",
              "</table><p>"
            ],
            "text/plain": [
              "<IPython.core.display.HTML object>"
            ]
          },
          "metadata": {},
          "output_type": "display_data"
        },
        {
          "name": "stderr",
          "output_type": "stream",
          "text": [
            "The following columns in the evaluation set  don't have a corresponding argument in `Wav2Vec2ForCTC.forward` and have been ignored: input_length.\n",
            "***** Running Evaluation *****\n",
            "  Num examples = 5213\n",
            "  Batch size = 8\n",
            "Saving model checkpoint to wav2vec2-large-xls-r-large-persian-colab/checkpoint-400\n",
            "Configuration saved in wav2vec2-large-xls-r-large-persian-colab/checkpoint-400/config.json\n",
            "Model weights saved in wav2vec2-large-xls-r-large-persian-colab/checkpoint-400/pytorch_model.bin\n",
            "Configuration saved in wav2vec2-large-xls-r-large-persian-colab/checkpoint-400/preprocessor_config.json\n"
          ]
        },
        {
          "ename": "RuntimeError",
          "evalue": "ignored",
          "output_type": "error",
          "traceback": [
            "\u001b[0;31m---------------------------------------------------------------------------\u001b[0m",
            "\u001b[0;31mKeyboardInterrupt\u001b[0m                         Traceback (most recent call last)",
            "\u001b[0;32m/usr/local/lib/python3.7/dist-packages/torch/serialization.py\u001b[0m in \u001b[0;36msave\u001b[0;34m(obj, f, pickle_module, pickle_protocol, _use_new_zipfile_serialization)\u001b[0m\n\u001b[1;32m    378\u001b[0m             \u001b[0;32mwith\u001b[0m \u001b[0m_open_zipfile_writer\u001b[0m\u001b[0;34m(\u001b[0m\u001b[0mopened_file\u001b[0m\u001b[0;34m)\u001b[0m \u001b[0;32mas\u001b[0m \u001b[0mopened_zipfile\u001b[0m\u001b[0;34m:\u001b[0m\u001b[0;34m\u001b[0m\u001b[0;34m\u001b[0m\u001b[0m\n\u001b[0;32m--> 379\u001b[0;31m                 \u001b[0m_save\u001b[0m\u001b[0;34m(\u001b[0m\u001b[0mobj\u001b[0m\u001b[0;34m,\u001b[0m \u001b[0mopened_zipfile\u001b[0m\u001b[0;34m,\u001b[0m \u001b[0mpickle_module\u001b[0m\u001b[0;34m,\u001b[0m \u001b[0mpickle_protocol\u001b[0m\u001b[0;34m)\u001b[0m\u001b[0;34m\u001b[0m\u001b[0;34m\u001b[0m\u001b[0m\n\u001b[0m\u001b[1;32m    380\u001b[0m                 \u001b[0;32mreturn\u001b[0m\u001b[0;34m\u001b[0m\u001b[0;34m\u001b[0m\u001b[0m\n",
            "\u001b[0;32m/usr/local/lib/python3.7/dist-packages/torch/serialization.py\u001b[0m in \u001b[0;36m_save\u001b[0;34m(obj, zip_file, pickle_module, pickle_protocol)\u001b[0m\n\u001b[1;32m    498\u001b[0m         \u001b[0mnum_bytes\u001b[0m \u001b[0;34m=\u001b[0m \u001b[0mstorage\u001b[0m\u001b[0;34m.\u001b[0m\u001b[0msize\u001b[0m\u001b[0;34m(\u001b[0m\u001b[0;34m)\u001b[0m \u001b[0;34m*\u001b[0m \u001b[0mstorage\u001b[0m\u001b[0;34m.\u001b[0m\u001b[0melement_size\u001b[0m\u001b[0;34m(\u001b[0m\u001b[0;34m)\u001b[0m\u001b[0;34m\u001b[0m\u001b[0;34m\u001b[0m\u001b[0m\n\u001b[0;32m--> 499\u001b[0;31m         \u001b[0mzip_file\u001b[0m\u001b[0;34m.\u001b[0m\u001b[0mwrite_record\u001b[0m\u001b[0;34m(\u001b[0m\u001b[0mname\u001b[0m\u001b[0;34m,\u001b[0m \u001b[0mstorage\u001b[0m\u001b[0;34m.\u001b[0m\u001b[0mdata_ptr\u001b[0m\u001b[0;34m(\u001b[0m\u001b[0;34m)\u001b[0m\u001b[0;34m,\u001b[0m \u001b[0mnum_bytes\u001b[0m\u001b[0;34m)\u001b[0m\u001b[0;34m\u001b[0m\u001b[0;34m\u001b[0m\u001b[0m\n\u001b[0m\u001b[1;32m    500\u001b[0m \u001b[0;34m\u001b[0m\u001b[0m\n",
            "\u001b[0;31mKeyboardInterrupt\u001b[0m: ",
            "\nDuring handling of the above exception, another exception occurred:\n",
            "\u001b[0;31mRuntimeError\u001b[0m                              Traceback (most recent call last)",
            "\u001b[0;32m<ipython-input-63-3435b262f1ae>\u001b[0m in \u001b[0;36m<module>\u001b[0;34m()\u001b[0m\n\u001b[0;32m----> 1\u001b[0;31m \u001b[0mtrainer\u001b[0m\u001b[0;34m.\u001b[0m\u001b[0mtrain\u001b[0m\u001b[0;34m(\u001b[0m\u001b[0;34m)\u001b[0m\u001b[0;34m\u001b[0m\u001b[0;34m\u001b[0m\u001b[0m\n\u001b[0m",
            "\u001b[0;32m/usr/local/lib/python3.7/dist-packages/transformers/trainer.py\u001b[0m in \u001b[0;36mtrain\u001b[0;34m(self, resume_from_checkpoint, trial, ignore_keys_for_eval, **kwargs)\u001b[0m\n\u001b[1;32m   1381\u001b[0m                     \u001b[0mself\u001b[0m\u001b[0;34m.\u001b[0m\u001b[0mcontrol\u001b[0m \u001b[0;34m=\u001b[0m \u001b[0mself\u001b[0m\u001b[0;34m.\u001b[0m\u001b[0mcallback_handler\u001b[0m\u001b[0;34m.\u001b[0m\u001b[0mon_step_end\u001b[0m\u001b[0;34m(\u001b[0m\u001b[0margs\u001b[0m\u001b[0;34m,\u001b[0m \u001b[0mself\u001b[0m\u001b[0;34m.\u001b[0m\u001b[0mstate\u001b[0m\u001b[0;34m,\u001b[0m \u001b[0mself\u001b[0m\u001b[0;34m.\u001b[0m\u001b[0mcontrol\u001b[0m\u001b[0;34m)\u001b[0m\u001b[0;34m\u001b[0m\u001b[0;34m\u001b[0m\u001b[0m\n\u001b[1;32m   1382\u001b[0m \u001b[0;34m\u001b[0m\u001b[0m\n\u001b[0;32m-> 1383\u001b[0;31m                     \u001b[0mself\u001b[0m\u001b[0;34m.\u001b[0m\u001b[0m_maybe_log_save_evaluate\u001b[0m\u001b[0;34m(\u001b[0m\u001b[0mtr_loss\u001b[0m\u001b[0;34m,\u001b[0m \u001b[0mmodel\u001b[0m\u001b[0;34m,\u001b[0m \u001b[0mtrial\u001b[0m\u001b[0;34m,\u001b[0m \u001b[0mepoch\u001b[0m\u001b[0;34m,\u001b[0m \u001b[0mignore_keys_for_eval\u001b[0m\u001b[0;34m)\u001b[0m\u001b[0;34m\u001b[0m\u001b[0;34m\u001b[0m\u001b[0m\n\u001b[0m\u001b[1;32m   1384\u001b[0m                 \u001b[0;32melse\u001b[0m\u001b[0;34m:\u001b[0m\u001b[0;34m\u001b[0m\u001b[0;34m\u001b[0m\u001b[0m\n\u001b[1;32m   1385\u001b[0m                     \u001b[0mself\u001b[0m\u001b[0;34m.\u001b[0m\u001b[0mcontrol\u001b[0m \u001b[0;34m=\u001b[0m \u001b[0mself\u001b[0m\u001b[0;34m.\u001b[0m\u001b[0mcallback_handler\u001b[0m\u001b[0;34m.\u001b[0m\u001b[0mon_substep_end\u001b[0m\u001b[0;34m(\u001b[0m\u001b[0margs\u001b[0m\u001b[0;34m,\u001b[0m \u001b[0mself\u001b[0m\u001b[0;34m.\u001b[0m\u001b[0mstate\u001b[0m\u001b[0;34m,\u001b[0m \u001b[0mself\u001b[0m\u001b[0;34m.\u001b[0m\u001b[0mcontrol\u001b[0m\u001b[0;34m)\u001b[0m\u001b[0;34m\u001b[0m\u001b[0;34m\u001b[0m\u001b[0m\n",
            "\u001b[0;32m/usr/local/lib/python3.7/dist-packages/transformers/trainer.py\u001b[0m in \u001b[0;36m_maybe_log_save_evaluate\u001b[0;34m(self, tr_loss, model, trial, epoch, ignore_keys_for_eval)\u001b[0m\n\u001b[1;32m   1493\u001b[0m \u001b[0;34m\u001b[0m\u001b[0m\n\u001b[1;32m   1494\u001b[0m         \u001b[0;32mif\u001b[0m \u001b[0mself\u001b[0m\u001b[0;34m.\u001b[0m\u001b[0mcontrol\u001b[0m\u001b[0;34m.\u001b[0m\u001b[0mshould_save\u001b[0m\u001b[0;34m:\u001b[0m\u001b[0;34m\u001b[0m\u001b[0;34m\u001b[0m\u001b[0m\n\u001b[0;32m-> 1495\u001b[0;31m             \u001b[0mself\u001b[0m\u001b[0;34m.\u001b[0m\u001b[0m_save_checkpoint\u001b[0m\u001b[0;34m(\u001b[0m\u001b[0mmodel\u001b[0m\u001b[0;34m,\u001b[0m \u001b[0mtrial\u001b[0m\u001b[0;34m,\u001b[0m \u001b[0mmetrics\u001b[0m\u001b[0;34m=\u001b[0m\u001b[0mmetrics\u001b[0m\u001b[0;34m)\u001b[0m\u001b[0;34m\u001b[0m\u001b[0;34m\u001b[0m\u001b[0m\n\u001b[0m\u001b[1;32m   1496\u001b[0m             \u001b[0mself\u001b[0m\u001b[0;34m.\u001b[0m\u001b[0mcontrol\u001b[0m \u001b[0;34m=\u001b[0m \u001b[0mself\u001b[0m\u001b[0;34m.\u001b[0m\u001b[0mcallback_handler\u001b[0m\u001b[0;34m.\u001b[0m\u001b[0mon_save\u001b[0m\u001b[0;34m(\u001b[0m\u001b[0mself\u001b[0m\u001b[0;34m.\u001b[0m\u001b[0margs\u001b[0m\u001b[0;34m,\u001b[0m \u001b[0mself\u001b[0m\u001b[0;34m.\u001b[0m\u001b[0mstate\u001b[0m\u001b[0;34m,\u001b[0m \u001b[0mself\u001b[0m\u001b[0;34m.\u001b[0m\u001b[0mcontrol\u001b[0m\u001b[0;34m)\u001b[0m\u001b[0;34m\u001b[0m\u001b[0;34m\u001b[0m\u001b[0m\n\u001b[1;32m   1497\u001b[0m \u001b[0;34m\u001b[0m\u001b[0m\n",
            "\u001b[0;32m/usr/local/lib/python3.7/dist-packages/transformers/trainer.py\u001b[0m in \u001b[0;36m_save_checkpoint\u001b[0;34m(self, model, trial, metrics)\u001b[0m\n\u001b[1;32m   1585\u001b[0m         \u001b[0;32melif\u001b[0m \u001b[0mself\u001b[0m\u001b[0;34m.\u001b[0m\u001b[0margs\u001b[0m\u001b[0;34m.\u001b[0m\u001b[0mshould_save\u001b[0m \u001b[0;32mand\u001b[0m \u001b[0;32mnot\u001b[0m \u001b[0mself\u001b[0m\u001b[0;34m.\u001b[0m\u001b[0mdeepspeed\u001b[0m\u001b[0;34m:\u001b[0m\u001b[0;34m\u001b[0m\u001b[0;34m\u001b[0m\u001b[0m\n\u001b[1;32m   1586\u001b[0m             \u001b[0;31m# deepspeed.save_checkpoint above saves model/optim/sched\u001b[0m\u001b[0;34m\u001b[0m\u001b[0;34m\u001b[0m\u001b[0;34m\u001b[0m\u001b[0m\n\u001b[0;32m-> 1587\u001b[0;31m             \u001b[0mtorch\u001b[0m\u001b[0;34m.\u001b[0m\u001b[0msave\u001b[0m\u001b[0;34m(\u001b[0m\u001b[0mself\u001b[0m\u001b[0;34m.\u001b[0m\u001b[0moptimizer\u001b[0m\u001b[0;34m.\u001b[0m\u001b[0mstate_dict\u001b[0m\u001b[0;34m(\u001b[0m\u001b[0;34m)\u001b[0m\u001b[0;34m,\u001b[0m \u001b[0mos\u001b[0m\u001b[0;34m.\u001b[0m\u001b[0mpath\u001b[0m\u001b[0;34m.\u001b[0m\u001b[0mjoin\u001b[0m\u001b[0;34m(\u001b[0m\u001b[0moutput_dir\u001b[0m\u001b[0;34m,\u001b[0m \u001b[0mOPTIMIZER_NAME\u001b[0m\u001b[0;34m)\u001b[0m\u001b[0;34m)\u001b[0m\u001b[0;34m\u001b[0m\u001b[0;34m\u001b[0m\u001b[0m\n\u001b[0m\u001b[1;32m   1588\u001b[0m             \u001b[0;32mwith\u001b[0m \u001b[0mwarnings\u001b[0m\u001b[0;34m.\u001b[0m\u001b[0mcatch_warnings\u001b[0m\u001b[0;34m(\u001b[0m\u001b[0mrecord\u001b[0m\u001b[0;34m=\u001b[0m\u001b[0;32mTrue\u001b[0m\u001b[0;34m)\u001b[0m \u001b[0;32mas\u001b[0m \u001b[0mcaught_warnings\u001b[0m\u001b[0;34m:\u001b[0m\u001b[0;34m\u001b[0m\u001b[0;34m\u001b[0m\u001b[0m\n\u001b[1;32m   1589\u001b[0m                 \u001b[0mtorch\u001b[0m\u001b[0;34m.\u001b[0m\u001b[0msave\u001b[0m\u001b[0;34m(\u001b[0m\u001b[0mself\u001b[0m\u001b[0;34m.\u001b[0m\u001b[0mlr_scheduler\u001b[0m\u001b[0;34m.\u001b[0m\u001b[0mstate_dict\u001b[0m\u001b[0;34m(\u001b[0m\u001b[0;34m)\u001b[0m\u001b[0;34m,\u001b[0m \u001b[0mos\u001b[0m\u001b[0;34m.\u001b[0m\u001b[0mpath\u001b[0m\u001b[0;34m.\u001b[0m\u001b[0mjoin\u001b[0m\u001b[0;34m(\u001b[0m\u001b[0moutput_dir\u001b[0m\u001b[0;34m,\u001b[0m \u001b[0mSCHEDULER_NAME\u001b[0m\u001b[0;34m)\u001b[0m\u001b[0;34m)\u001b[0m\u001b[0;34m\u001b[0m\u001b[0;34m\u001b[0m\u001b[0m\n",
            "\u001b[0;32m/usr/local/lib/python3.7/dist-packages/torch/serialization.py\u001b[0m in \u001b[0;36msave\u001b[0;34m(obj, f, pickle_module, pickle_protocol, _use_new_zipfile_serialization)\u001b[0m\n\u001b[1;32m    378\u001b[0m             \u001b[0;32mwith\u001b[0m \u001b[0m_open_zipfile_writer\u001b[0m\u001b[0;34m(\u001b[0m\u001b[0mopened_file\u001b[0m\u001b[0;34m)\u001b[0m \u001b[0;32mas\u001b[0m \u001b[0mopened_zipfile\u001b[0m\u001b[0;34m:\u001b[0m\u001b[0;34m\u001b[0m\u001b[0;34m\u001b[0m\u001b[0m\n\u001b[1;32m    379\u001b[0m                 \u001b[0m_save\u001b[0m\u001b[0;34m(\u001b[0m\u001b[0mobj\u001b[0m\u001b[0;34m,\u001b[0m \u001b[0mopened_zipfile\u001b[0m\u001b[0;34m,\u001b[0m \u001b[0mpickle_module\u001b[0m\u001b[0;34m,\u001b[0m \u001b[0mpickle_protocol\u001b[0m\u001b[0;34m)\u001b[0m\u001b[0;34m\u001b[0m\u001b[0;34m\u001b[0m\u001b[0m\n\u001b[0;32m--> 380\u001b[0;31m                 \u001b[0;32mreturn\u001b[0m\u001b[0;34m\u001b[0m\u001b[0;34m\u001b[0m\u001b[0m\n\u001b[0m\u001b[1;32m    381\u001b[0m         \u001b[0m_legacy_save\u001b[0m\u001b[0;34m(\u001b[0m\u001b[0mobj\u001b[0m\u001b[0;34m,\u001b[0m \u001b[0mopened_file\u001b[0m\u001b[0;34m,\u001b[0m \u001b[0mpickle_module\u001b[0m\u001b[0;34m,\u001b[0m \u001b[0mpickle_protocol\u001b[0m\u001b[0;34m)\u001b[0m\u001b[0;34m\u001b[0m\u001b[0;34m\u001b[0m\u001b[0m\n\u001b[1;32m    382\u001b[0m \u001b[0;34m\u001b[0m\u001b[0m\n",
            "\u001b[0;32m/usr/local/lib/python3.7/dist-packages/torch/serialization.py\u001b[0m in \u001b[0;36m__exit__\u001b[0;34m(self, *args)\u001b[0m\n\u001b[1;32m    257\u001b[0m \u001b[0;34m\u001b[0m\u001b[0m\n\u001b[1;32m    258\u001b[0m     \u001b[0;32mdef\u001b[0m \u001b[0m__exit__\u001b[0m\u001b[0;34m(\u001b[0m\u001b[0mself\u001b[0m\u001b[0;34m,\u001b[0m \u001b[0;34m*\u001b[0m\u001b[0margs\u001b[0m\u001b[0;34m)\u001b[0m \u001b[0;34m->\u001b[0m \u001b[0;32mNone\u001b[0m\u001b[0;34m:\u001b[0m\u001b[0;34m\u001b[0m\u001b[0;34m\u001b[0m\u001b[0m\n\u001b[0;32m--> 259\u001b[0;31m         \u001b[0mself\u001b[0m\u001b[0;34m.\u001b[0m\u001b[0mfile_like\u001b[0m\u001b[0;34m.\u001b[0m\u001b[0mwrite_end_of_file\u001b[0m\u001b[0;34m(\u001b[0m\u001b[0;34m)\u001b[0m\u001b[0;34m\u001b[0m\u001b[0;34m\u001b[0m\u001b[0m\n\u001b[0m\u001b[1;32m    260\u001b[0m         \u001b[0mself\u001b[0m\u001b[0;34m.\u001b[0m\u001b[0mbuffer\u001b[0m\u001b[0;34m.\u001b[0m\u001b[0mflush\u001b[0m\u001b[0;34m(\u001b[0m\u001b[0;34m)\u001b[0m\u001b[0;34m\u001b[0m\u001b[0;34m\u001b[0m\u001b[0m\n\u001b[1;32m    261\u001b[0m \u001b[0;34m\u001b[0m\u001b[0m\n",
            "\u001b[0;31mRuntimeError\u001b[0m: [enforce fail at inline_container.cc:300] . unexpected pos 2078023040 vs 2078022928"
          ]
        }
      ]
    },
    {
      "cell_type": "markdown",
      "metadata": {
        "id": "a9q4mgMZplr_"
      },
      "source": [
        "The training loss and validation WER go down nicely."
      ]
    },
    {
      "cell_type": "markdown",
      "metadata": {
        "id": "4Ya7WEy0pd13"
      },
      "source": [
        "You can now upload the result of the training to the 🤗 Hub, just execute this instruction:"
      ]
    },
    {
      "cell_type": "code",
      "metadata": {
        "colab": {
          "background_save": true
        },
        "id": "ArG1Thf6NBWm"
      },
      "source": [
        "trainer.push_to_hub()"
      ],
      "execution_count": null,
      "outputs": []
    },
    {
      "cell_type": "markdown",
      "metadata": {
        "id": "RHIVc44_fY2N"
      },
      "source": [
        "You can now share this model with all your friends, family, favorite pets: they can all load it with the identifier \"your-username/the-name-you-picked\" so for instance:"
      ]
    },
    {
      "cell_type": "markdown",
      "metadata": {
        "id": "5lWWIKyBpx1h"
      },
      "source": [
        "```python\n",
        "from transformers import AutoModelForCTC, Wav2Vec2Processor\n",
        "\n",
        "model = AutoModelForCTC.from_pretrained(\"patrickvonplaten/wav2vec2-large-xls-r-300m-tr-colab\")\n",
        "processor = Wav2Vec2Processor.from_pretrained(\"patrickvonplaten/wav2vec2-large-xls-r-300m-tr-colab\")\n",
        "```"
      ]
    },
    {
      "cell_type": "markdown",
      "metadata": {
        "id": "pmi1cX0fRBit"
      },
      "source": [
        "For more examples of how XLS-R can be fine-tuned, please take a look at the [official speech recognition examples](https://github.com/huggingface/transformers/tree/master/examples/pytorch/speech-recognition#examples)."
      ]
    },
    {
      "cell_type": "markdown",
      "metadata": {
        "id": "L8b8Qkoy3KyS"
      },
      "source": [
        "### Evaluation\n",
        "\n",
        "As a final check, let's load the model and verify that it indeed has learned to transcribe Persian speech.\n",
        "\n",
        "Let's first load the pretrained checkpoint."
      ]
    },
    {
      "cell_type": "code",
      "metadata": {
        "colab": {
          "background_save": true
        },
        "id": "R351I9IQp_9D"
      },
      "source": [
        "model = Wav2Vec2ForCTC.from_pretrained(repo_name).to(\"cuda\")\n",
        "processor = Wav2Vec2Processor.from_pretrained(repo_name)"
      ],
      "execution_count": null,
      "outputs": []
    },
    {
      "cell_type": "markdown",
      "metadata": {
        "id": "jD7TZ1YS3S_K"
      },
      "source": [
        "\n",
        "Now, we will just take the first example of the test set, run it through the model and take the `argmax(...)` of the logits to retrieve the predicted token ids."
      ]
    },
    {
      "cell_type": "code",
      "metadata": {
        "colab": {
          "background_save": true
        },
        "id": "pax07TnL3WZn"
      },
      "source": [
        "input_dict = processor(common_voice_test[0][\"input_values\"], return_tensors=\"pt\", padding=True)\n",
        "\n",
        "logits = model(input_dict.input_values.to(\"cuda\")).logits\n",
        "\n",
        "pred_ids = torch.argmax(logits, dim=-1)[0]"
      ],
      "execution_count": null,
      "outputs": []
    },
    {
      "cell_type": "markdown",
      "metadata": {
        "id": "7nkzSQu53Zs2"
      },
      "source": [
        "We adapted `common_voice_test` quite a bit so that the dataset instance does not contain the original sentence label anymore. Thus, we re-use the original dataset to get the label of the first example."
      ]
    },
    {
      "cell_type": "code",
      "metadata": {
        "colab": {
          "background_save": true
        },
        "id": "fe2AE-2xqKHx"
      },
      "source": [
        "common_voice_test_transcription = load_dataset(\"common_voice\", \"tr\", data_dir=\"./cv-corpus-6.1-2020-12-11\", split=\"test\")"
      ],
      "execution_count": null,
      "outputs": []
    },
    {
      "cell_type": "markdown",
      "metadata": {
        "id": "epu8kCQZ3h70"
      },
      "source": [
        "\n",
        "Finally, we can decode the example."
      ]
    },
    {
      "cell_type": "code",
      "metadata": {
        "colab": {
          "background_save": true
        },
        "id": "K4xWqmk_qMn0"
      },
      "source": [
        "print(\"Prediction:\")\n",
        "print(processor.decode(pred_ids))\n",
        "\n",
        "print(\"\\nReference:\")\n",
        "print(common_voice_test_transcription[0][\"sentence\"].lower())"
      ],
      "execution_count": null,
      "outputs": []
    },
    {
      "cell_type": "markdown",
      "metadata": {
        "id": "HwhyoMml3oOT"
      },
      "source": [
        "Alright! The transcription can definitely be recognized from our prediction, but it is not perfect yet. Training the model a bit longer, spending more time on the data preprocessing, and especially using a language model for decoding would certainly improve the model's overall performance.\n",
        "\n",
        "For a demonstration model on a low-resource language, the results are quite acceptable however 🤗."
      ]
    }
  ]
}