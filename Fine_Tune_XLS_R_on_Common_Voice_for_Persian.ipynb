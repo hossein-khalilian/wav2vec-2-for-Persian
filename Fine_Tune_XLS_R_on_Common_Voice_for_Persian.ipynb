{
  "nbformat": 4,
  "nbformat_minor": 0,
  "metadata": {
    "colab": {
      "name": "Fine-Tune XLS-R on Common Voice for Persian.ipynb",
      "provenance": [],
      "collapsed_sections": [],
      "machine_shape": "hm",
      "include_colab_link": true
    },
    "kernelspec": {
      "display_name": "Python 3",
      "name": "python3"
    },
    "widgets": {
      "application/vnd.jupyter.widget-state+json": {
        "12c7586ca2bb451d81a0849a84cf8350": {
          "model_module": "@jupyter-widgets/controls",
          "model_name": "HBoxModel",
          "model_module_version": "1.5.0",
          "state": {
            "_view_name": "HBoxView",
            "_dom_classes": [],
            "_model_name": "HBoxModel",
            "_view_module": "@jupyter-widgets/controls",
            "_model_module_version": "1.5.0",
            "_view_count": null,
            "_view_module_version": "1.5.0",
            "box_style": "",
            "layout": "IPY_MODEL_27396976c0ed45c39358e29e1def126e",
            "_model_module": "@jupyter-widgets/controls",
            "children": [
              "IPY_MODEL_e1327dd973d84d54858b173d10ea44e9",
              "IPY_MODEL_de394ee933294d53b6a749be60170873",
              "IPY_MODEL_f916bdcf4a834a98b1d2bb668da0d4f4"
            ]
          }
        },
        "27396976c0ed45c39358e29e1def126e": {
          "model_module": "@jupyter-widgets/base",
          "model_name": "LayoutModel",
          "model_module_version": "1.2.0",
          "state": {
            "_view_name": "LayoutView",
            "grid_template_rows": null,
            "right": null,
            "justify_content": null,
            "_view_module": "@jupyter-widgets/base",
            "overflow": null,
            "_model_module_version": "1.2.0",
            "_view_count": null,
            "flex_flow": null,
            "width": null,
            "min_width": null,
            "border": null,
            "align_items": null,
            "bottom": null,
            "_model_module": "@jupyter-widgets/base",
            "top": null,
            "grid_column": null,
            "overflow_y": null,
            "overflow_x": null,
            "grid_auto_flow": null,
            "grid_area": null,
            "grid_template_columns": null,
            "flex": null,
            "_model_name": "LayoutModel",
            "justify_items": null,
            "grid_row": null,
            "max_height": null,
            "align_content": null,
            "visibility": null,
            "align_self": null,
            "height": null,
            "min_height": null,
            "padding": null,
            "grid_auto_rows": null,
            "grid_gap": null,
            "max_width": null,
            "order": null,
            "_view_module_version": "1.2.0",
            "grid_template_areas": null,
            "object_position": null,
            "object_fit": null,
            "grid_auto_columns": null,
            "margin": null,
            "display": null,
            "left": null
          }
        },
        "e1327dd973d84d54858b173d10ea44e9": {
          "model_module": "@jupyter-widgets/controls",
          "model_name": "HTMLModel",
          "model_module_version": "1.5.0",
          "state": {
            "_view_name": "HTMLView",
            "style": "IPY_MODEL_b8042165d65642039ca1be8dbd27fbcb",
            "_dom_classes": [],
            "description": "",
            "_model_name": "HTMLModel",
            "placeholder": "​",
            "_view_module": "@jupyter-widgets/controls",
            "_model_module_version": "1.5.0",
            "value": "100%",
            "_view_count": null,
            "_view_module_version": "1.5.0",
            "description_tooltip": null,
            "_model_module": "@jupyter-widgets/controls",
            "layout": "IPY_MODEL_ba41f5d7b0b94c1eaad1738a02843e40"
          }
        },
        "de394ee933294d53b6a749be60170873": {
          "model_module": "@jupyter-widgets/controls",
          "model_name": "FloatProgressModel",
          "model_module_version": "1.5.0",
          "state": {
            "_view_name": "ProgressView",
            "style": "IPY_MODEL_b16c35f727ae483fb625af3738069db2",
            "_dom_classes": [],
            "description": "",
            "_model_name": "FloatProgressModel",
            "bar_style": "success",
            "max": 5213,
            "_view_module": "@jupyter-widgets/controls",
            "_model_module_version": "1.5.0",
            "value": 5213,
            "_view_count": null,
            "_view_module_version": "1.5.0",
            "orientation": "horizontal",
            "min": 0,
            "description_tooltip": null,
            "_model_module": "@jupyter-widgets/controls",
            "layout": "IPY_MODEL_3081c93446f64410bf10e3c2f5daacbb"
          }
        },
        "f916bdcf4a834a98b1d2bb668da0d4f4": {
          "model_module": "@jupyter-widgets/controls",
          "model_name": "HTMLModel",
          "model_module_version": "1.5.0",
          "state": {
            "_view_name": "HTMLView",
            "style": "IPY_MODEL_546821e96d3449fcafc0b5d1a94979cf",
            "_dom_classes": [],
            "description": "",
            "_model_name": "HTMLModel",
            "placeholder": "​",
            "_view_module": "@jupyter-widgets/controls",
            "_model_module_version": "1.5.0",
            "value": " 5213/5213 [00:09&lt;00:00, 556.64ex/s]",
            "_view_count": null,
            "_view_module_version": "1.5.0",
            "description_tooltip": null,
            "_model_module": "@jupyter-widgets/controls",
            "layout": "IPY_MODEL_178e7ec323c04d49accda4c7ba68657c"
          }
        },
        "b8042165d65642039ca1be8dbd27fbcb": {
          "model_module": "@jupyter-widgets/controls",
          "model_name": "DescriptionStyleModel",
          "model_module_version": "1.5.0",
          "state": {
            "_view_name": "StyleView",
            "_model_name": "DescriptionStyleModel",
            "description_width": "",
            "_view_module": "@jupyter-widgets/base",
            "_model_module_version": "1.5.0",
            "_view_count": null,
            "_view_module_version": "1.2.0",
            "_model_module": "@jupyter-widgets/controls"
          }
        },
        "ba41f5d7b0b94c1eaad1738a02843e40": {
          "model_module": "@jupyter-widgets/base",
          "model_name": "LayoutModel",
          "model_module_version": "1.2.0",
          "state": {
            "_view_name": "LayoutView",
            "grid_template_rows": null,
            "right": null,
            "justify_content": null,
            "_view_module": "@jupyter-widgets/base",
            "overflow": null,
            "_model_module_version": "1.2.0",
            "_view_count": null,
            "flex_flow": null,
            "width": null,
            "min_width": null,
            "border": null,
            "align_items": null,
            "bottom": null,
            "_model_module": "@jupyter-widgets/base",
            "top": null,
            "grid_column": null,
            "overflow_y": null,
            "overflow_x": null,
            "grid_auto_flow": null,
            "grid_area": null,
            "grid_template_columns": null,
            "flex": null,
            "_model_name": "LayoutModel",
            "justify_items": null,
            "grid_row": null,
            "max_height": null,
            "align_content": null,
            "visibility": null,
            "align_self": null,
            "height": null,
            "min_height": null,
            "padding": null,
            "grid_auto_rows": null,
            "grid_gap": null,
            "max_width": null,
            "order": null,
            "_view_module_version": "1.2.0",
            "grid_template_areas": null,
            "object_position": null,
            "object_fit": null,
            "grid_auto_columns": null,
            "margin": null,
            "display": null,
            "left": null
          }
        },
        "b16c35f727ae483fb625af3738069db2": {
          "model_module": "@jupyter-widgets/controls",
          "model_name": "ProgressStyleModel",
          "model_module_version": "1.5.0",
          "state": {
            "_view_name": "StyleView",
            "_model_name": "ProgressStyleModel",
            "description_width": "",
            "_view_module": "@jupyter-widgets/base",
            "_model_module_version": "1.5.0",
            "_view_count": null,
            "_view_module_version": "1.2.0",
            "bar_color": null,
            "_model_module": "@jupyter-widgets/controls"
          }
        },
        "3081c93446f64410bf10e3c2f5daacbb": {
          "model_module": "@jupyter-widgets/base",
          "model_name": "LayoutModel",
          "model_module_version": "1.2.0",
          "state": {
            "_view_name": "LayoutView",
            "grid_template_rows": null,
            "right": null,
            "justify_content": null,
            "_view_module": "@jupyter-widgets/base",
            "overflow": null,
            "_model_module_version": "1.2.0",
            "_view_count": null,
            "flex_flow": null,
            "width": null,
            "min_width": null,
            "border": null,
            "align_items": null,
            "bottom": null,
            "_model_module": "@jupyter-widgets/base",
            "top": null,
            "grid_column": null,
            "overflow_y": null,
            "overflow_x": null,
            "grid_auto_flow": null,
            "grid_area": null,
            "grid_template_columns": null,
            "flex": null,
            "_model_name": "LayoutModel",
            "justify_items": null,
            "grid_row": null,
            "max_height": null,
            "align_content": null,
            "visibility": null,
            "align_self": null,
            "height": null,
            "min_height": null,
            "padding": null,
            "grid_auto_rows": null,
            "grid_gap": null,
            "max_width": null,
            "order": null,
            "_view_module_version": "1.2.0",
            "grid_template_areas": null,
            "object_position": null,
            "object_fit": null,
            "grid_auto_columns": null,
            "margin": null,
            "display": null,
            "left": null
          }
        },
        "546821e96d3449fcafc0b5d1a94979cf": {
          "model_module": "@jupyter-widgets/controls",
          "model_name": "DescriptionStyleModel",
          "model_module_version": "1.5.0",
          "state": {
            "_view_name": "StyleView",
            "_model_name": "DescriptionStyleModel",
            "description_width": "",
            "_view_module": "@jupyter-widgets/base",
            "_model_module_version": "1.5.0",
            "_view_count": null,
            "_view_module_version": "1.2.0",
            "_model_module": "@jupyter-widgets/controls"
          }
        },
        "178e7ec323c04d49accda4c7ba68657c": {
          "model_module": "@jupyter-widgets/base",
          "model_name": "LayoutModel",
          "model_module_version": "1.2.0",
          "state": {
            "_view_name": "LayoutView",
            "grid_template_rows": null,
            "right": null,
            "justify_content": null,
            "_view_module": "@jupyter-widgets/base",
            "overflow": null,
            "_model_module_version": "1.2.0",
            "_view_count": null,
            "flex_flow": null,
            "width": null,
            "min_width": null,
            "border": null,
            "align_items": null,
            "bottom": null,
            "_model_module": "@jupyter-widgets/base",
            "top": null,
            "grid_column": null,
            "overflow_y": null,
            "overflow_x": null,
            "grid_auto_flow": null,
            "grid_area": null,
            "grid_template_columns": null,
            "flex": null,
            "_model_name": "LayoutModel",
            "justify_items": null,
            "grid_row": null,
            "max_height": null,
            "align_content": null,
            "visibility": null,
            "align_self": null,
            "height": null,
            "min_height": null,
            "padding": null,
            "grid_auto_rows": null,
            "grid_gap": null,
            "max_width": null,
            "order": null,
            "_view_module_version": "1.2.0",
            "grid_template_areas": null,
            "object_position": null,
            "object_fit": null,
            "grid_auto_columns": null,
            "margin": null,
            "display": null,
            "left": null
          }
        },
        "5abe9b69f2a7485a837f6f5f3f6df0fa": {
          "model_module": "@jupyter-widgets/controls",
          "model_name": "HBoxModel",
          "model_module_version": "1.5.0",
          "state": {
            "_view_name": "HBoxView",
            "_dom_classes": [],
            "_model_name": "HBoxModel",
            "_view_module": "@jupyter-widgets/controls",
            "_model_module_version": "1.5.0",
            "_view_count": null,
            "_view_module_version": "1.5.0",
            "box_style": "",
            "layout": "IPY_MODEL_5e05396bd28e485496dfc48fa57c9523",
            "_model_module": "@jupyter-widgets/controls",
            "children": [
              "IPY_MODEL_39d1849459074af58cbb1b7be70f9cc8",
              "IPY_MODEL_ddd16f53a9914f9c95484d63049856ea",
              "IPY_MODEL_59040fc2de8344438b40bc228118f6d8"
            ]
          }
        },
        "5e05396bd28e485496dfc48fa57c9523": {
          "model_module": "@jupyter-widgets/base",
          "model_name": "LayoutModel",
          "model_module_version": "1.2.0",
          "state": {
            "_view_name": "LayoutView",
            "grid_template_rows": null,
            "right": null,
            "justify_content": null,
            "_view_module": "@jupyter-widgets/base",
            "overflow": null,
            "_model_module_version": "1.2.0",
            "_view_count": null,
            "flex_flow": null,
            "width": null,
            "min_width": null,
            "border": null,
            "align_items": null,
            "bottom": null,
            "_model_module": "@jupyter-widgets/base",
            "top": null,
            "grid_column": null,
            "overflow_y": null,
            "overflow_x": null,
            "grid_auto_flow": null,
            "grid_area": null,
            "grid_template_columns": null,
            "flex": null,
            "_model_name": "LayoutModel",
            "justify_items": null,
            "grid_row": null,
            "max_height": null,
            "align_content": null,
            "visibility": null,
            "align_self": null,
            "height": null,
            "min_height": null,
            "padding": null,
            "grid_auto_rows": null,
            "grid_gap": null,
            "max_width": null,
            "order": null,
            "_view_module_version": "1.2.0",
            "grid_template_areas": null,
            "object_position": null,
            "object_fit": null,
            "grid_auto_columns": null,
            "margin": null,
            "display": null,
            "left": null
          }
        },
        "39d1849459074af58cbb1b7be70f9cc8": {
          "model_module": "@jupyter-widgets/controls",
          "model_name": "HTMLModel",
          "model_module_version": "1.5.0",
          "state": {
            "_view_name": "HTMLView",
            "style": "IPY_MODEL_54e1a1764d9543b0b6925c9cf7c48223",
            "_dom_classes": [],
            "description": "",
            "_model_name": "HTMLModel",
            "placeholder": "​",
            "_view_module": "@jupyter-widgets/controls",
            "_model_module_version": "1.5.0",
            "value": "100%",
            "_view_count": null,
            "_view_module_version": "1.5.0",
            "description_tooltip": null,
            "_model_module": "@jupyter-widgets/controls",
            "layout": "IPY_MODEL_cc0ca6cf17c64002907a10ed5161c112"
          }
        },
        "ddd16f53a9914f9c95484d63049856ea": {
          "model_module": "@jupyter-widgets/controls",
          "model_name": "FloatProgressModel",
          "model_module_version": "1.5.0",
          "state": {
            "_view_name": "ProgressView",
            "style": "IPY_MODEL_549a2388e2d54602a703a821f6967e0a",
            "_dom_classes": [],
            "description": "",
            "_model_name": "FloatProgressModel",
            "bar_style": "success",
            "max": 12806,
            "_view_module": "@jupyter-widgets/controls",
            "_model_module_version": "1.5.0",
            "value": 12806,
            "_view_count": null,
            "_view_module_version": "1.5.0",
            "orientation": "horizontal",
            "min": 0,
            "description_tooltip": null,
            "_model_module": "@jupyter-widgets/controls",
            "layout": "IPY_MODEL_25a5434ebcda44f993f850dcb63bdcde"
          }
        },
        "59040fc2de8344438b40bc228118f6d8": {
          "model_module": "@jupyter-widgets/controls",
          "model_name": "HTMLModel",
          "model_module_version": "1.5.0",
          "state": {
            "_view_name": "HTMLView",
            "style": "IPY_MODEL_f11748351e734c68919c546290075d31",
            "_dom_classes": [],
            "description": "",
            "_model_name": "HTMLModel",
            "placeholder": "​",
            "_view_module": "@jupyter-widgets/controls",
            "_model_module_version": "1.5.0",
            "value": " 12806/12806 [00:22&lt;00:00, 607.78ex/s]",
            "_view_count": null,
            "_view_module_version": "1.5.0",
            "description_tooltip": null,
            "_model_module": "@jupyter-widgets/controls",
            "layout": "IPY_MODEL_89a2a2ecbaac4e02b338bcab6fef9f78"
          }
        },
        "54e1a1764d9543b0b6925c9cf7c48223": {
          "model_module": "@jupyter-widgets/controls",
          "model_name": "DescriptionStyleModel",
          "model_module_version": "1.5.0",
          "state": {
            "_view_name": "StyleView",
            "_model_name": "DescriptionStyleModel",
            "description_width": "",
            "_view_module": "@jupyter-widgets/base",
            "_model_module_version": "1.5.0",
            "_view_count": null,
            "_view_module_version": "1.2.0",
            "_model_module": "@jupyter-widgets/controls"
          }
        },
        "cc0ca6cf17c64002907a10ed5161c112": {
          "model_module": "@jupyter-widgets/base",
          "model_name": "LayoutModel",
          "model_module_version": "1.2.0",
          "state": {
            "_view_name": "LayoutView",
            "grid_template_rows": null,
            "right": null,
            "justify_content": null,
            "_view_module": "@jupyter-widgets/base",
            "overflow": null,
            "_model_module_version": "1.2.0",
            "_view_count": null,
            "flex_flow": null,
            "width": null,
            "min_width": null,
            "border": null,
            "align_items": null,
            "bottom": null,
            "_model_module": "@jupyter-widgets/base",
            "top": null,
            "grid_column": null,
            "overflow_y": null,
            "overflow_x": null,
            "grid_auto_flow": null,
            "grid_area": null,
            "grid_template_columns": null,
            "flex": null,
            "_model_name": "LayoutModel",
            "justify_items": null,
            "grid_row": null,
            "max_height": null,
            "align_content": null,
            "visibility": null,
            "align_self": null,
            "height": null,
            "min_height": null,
            "padding": null,
            "grid_auto_rows": null,
            "grid_gap": null,
            "max_width": null,
            "order": null,
            "_view_module_version": "1.2.0",
            "grid_template_areas": null,
            "object_position": null,
            "object_fit": null,
            "grid_auto_columns": null,
            "margin": null,
            "display": null,
            "left": null
          }
        },
        "549a2388e2d54602a703a821f6967e0a": {
          "model_module": "@jupyter-widgets/controls",
          "model_name": "ProgressStyleModel",
          "model_module_version": "1.5.0",
          "state": {
            "_view_name": "StyleView",
            "_model_name": "ProgressStyleModel",
            "description_width": "",
            "_view_module": "@jupyter-widgets/base",
            "_model_module_version": "1.5.0",
            "_view_count": null,
            "_view_module_version": "1.2.0",
            "bar_color": null,
            "_model_module": "@jupyter-widgets/controls"
          }
        },
        "25a5434ebcda44f993f850dcb63bdcde": {
          "model_module": "@jupyter-widgets/base",
          "model_name": "LayoutModel",
          "model_module_version": "1.2.0",
          "state": {
            "_view_name": "LayoutView",
            "grid_template_rows": null,
            "right": null,
            "justify_content": null,
            "_view_module": "@jupyter-widgets/base",
            "overflow": null,
            "_model_module_version": "1.2.0",
            "_view_count": null,
            "flex_flow": null,
            "width": null,
            "min_width": null,
            "border": null,
            "align_items": null,
            "bottom": null,
            "_model_module": "@jupyter-widgets/base",
            "top": null,
            "grid_column": null,
            "overflow_y": null,
            "overflow_x": null,
            "grid_auto_flow": null,
            "grid_area": null,
            "grid_template_columns": null,
            "flex": null,
            "_model_name": "LayoutModel",
            "justify_items": null,
            "grid_row": null,
            "max_height": null,
            "align_content": null,
            "visibility": null,
            "align_self": null,
            "height": null,
            "min_height": null,
            "padding": null,
            "grid_auto_rows": null,
            "grid_gap": null,
            "max_width": null,
            "order": null,
            "_view_module_version": "1.2.0",
            "grid_template_areas": null,
            "object_position": null,
            "object_fit": null,
            "grid_auto_columns": null,
            "margin": null,
            "display": null,
            "left": null
          }
        },
        "f11748351e734c68919c546290075d31": {
          "model_module": "@jupyter-widgets/controls",
          "model_name": "DescriptionStyleModel",
          "model_module_version": "1.5.0",
          "state": {
            "_view_name": "StyleView",
            "_model_name": "DescriptionStyleModel",
            "description_width": "",
            "_view_module": "@jupyter-widgets/base",
            "_model_module_version": "1.5.0",
            "_view_count": null,
            "_view_module_version": "1.2.0",
            "_model_module": "@jupyter-widgets/controls"
          }
        },
        "89a2a2ecbaac4e02b338bcab6fef9f78": {
          "model_module": "@jupyter-widgets/base",
          "model_name": "LayoutModel",
          "model_module_version": "1.2.0",
          "state": {
            "_view_name": "LayoutView",
            "grid_template_rows": null,
            "right": null,
            "justify_content": null,
            "_view_module": "@jupyter-widgets/base",
            "overflow": null,
            "_model_module_version": "1.2.0",
            "_view_count": null,
            "flex_flow": null,
            "width": null,
            "min_width": null,
            "border": null,
            "align_items": null,
            "bottom": null,
            "_model_module": "@jupyter-widgets/base",
            "top": null,
            "grid_column": null,
            "overflow_y": null,
            "overflow_x": null,
            "grid_auto_flow": null,
            "grid_area": null,
            "grid_template_columns": null,
            "flex": null,
            "_model_name": "LayoutModel",
            "justify_items": null,
            "grid_row": null,
            "max_height": null,
            "align_content": null,
            "visibility": null,
            "align_self": null,
            "height": null,
            "min_height": null,
            "padding": null,
            "grid_auto_rows": null,
            "grid_gap": null,
            "max_width": null,
            "order": null,
            "_view_module_version": "1.2.0",
            "grid_template_areas": null,
            "object_position": null,
            "object_fit": null,
            "grid_auto_columns": null,
            "margin": null,
            "display": null,
            "left": null
          }
        },
        "cb3b5e028ba74404bb6b13070fb3ab96": {
          "model_module": "@jupyter-widgets/controls",
          "model_name": "HBoxModel",
          "model_module_version": "1.5.0",
          "state": {
            "_view_name": "HBoxView",
            "_dom_classes": [],
            "_model_name": "HBoxModel",
            "_view_module": "@jupyter-widgets/controls",
            "_model_module_version": "1.5.0",
            "_view_count": null,
            "_view_module_version": "1.5.0",
            "box_style": "",
            "layout": "IPY_MODEL_5189d6ff2557406eaed7ce32b92b52f5",
            "_model_module": "@jupyter-widgets/controls",
            "children": [
              "IPY_MODEL_a078575e2b234c6fb70ea2d6351a5218",
              "IPY_MODEL_3bf20c9dfe754d68a41c581e517ea1a6",
              "IPY_MODEL_d6eda98dca7746e4a2a5cdbb704aba86"
            ]
          }
        },
        "5189d6ff2557406eaed7ce32b92b52f5": {
          "model_module": "@jupyter-widgets/base",
          "model_name": "LayoutModel",
          "model_module_version": "1.2.0",
          "state": {
            "_view_name": "LayoutView",
            "grid_template_rows": null,
            "right": null,
            "justify_content": null,
            "_view_module": "@jupyter-widgets/base",
            "overflow": null,
            "_model_module_version": "1.2.0",
            "_view_count": null,
            "flex_flow": null,
            "width": null,
            "min_width": null,
            "border": null,
            "align_items": null,
            "bottom": null,
            "_model_module": "@jupyter-widgets/base",
            "top": null,
            "grid_column": null,
            "overflow_y": null,
            "overflow_x": null,
            "grid_auto_flow": null,
            "grid_area": null,
            "grid_template_columns": null,
            "flex": null,
            "_model_name": "LayoutModel",
            "justify_items": null,
            "grid_row": null,
            "max_height": null,
            "align_content": null,
            "visibility": null,
            "align_self": null,
            "height": null,
            "min_height": null,
            "padding": null,
            "grid_auto_rows": null,
            "grid_gap": null,
            "max_width": null,
            "order": null,
            "_view_module_version": "1.2.0",
            "grid_template_areas": null,
            "object_position": null,
            "object_fit": null,
            "grid_auto_columns": null,
            "margin": null,
            "display": null,
            "left": null
          }
        },
        "a078575e2b234c6fb70ea2d6351a5218": {
          "model_module": "@jupyter-widgets/controls",
          "model_name": "HTMLModel",
          "model_module_version": "1.5.0",
          "state": {
            "_view_name": "HTMLView",
            "style": "IPY_MODEL_28eadb0a3c914f418b43745d2c8b8b7c",
            "_dom_classes": [],
            "description": "",
            "_model_name": "HTMLModel",
            "placeholder": "​",
            "_view_module": "@jupyter-widgets/controls",
            "_model_module_version": "1.5.0",
            "value": "100%",
            "_view_count": null,
            "_view_module_version": "1.5.0",
            "description_tooltip": null,
            "_model_module": "@jupyter-widgets/controls",
            "layout": "IPY_MODEL_f6cf27bfe95145b38000219dea405af0"
          }
        },
        "3bf20c9dfe754d68a41c581e517ea1a6": {
          "model_module": "@jupyter-widgets/controls",
          "model_name": "FloatProgressModel",
          "model_module_version": "1.5.0",
          "state": {
            "_view_name": "ProgressView",
            "style": "IPY_MODEL_318b0f0f8585467eb25ae597afc7c215",
            "_dom_classes": [],
            "description": "",
            "_model_name": "FloatProgressModel",
            "bar_style": "success",
            "max": 1,
            "_view_module": "@jupyter-widgets/controls",
            "_model_module_version": "1.5.0",
            "value": 1,
            "_view_count": null,
            "_view_module_version": "1.5.0",
            "orientation": "horizontal",
            "min": 0,
            "description_tooltip": null,
            "_model_module": "@jupyter-widgets/controls",
            "layout": "IPY_MODEL_8e3d978f86f44a9782d9f3d41dac557d"
          }
        },
        "d6eda98dca7746e4a2a5cdbb704aba86": {
          "model_module": "@jupyter-widgets/controls",
          "model_name": "HTMLModel",
          "model_module_version": "1.5.0",
          "state": {
            "_view_name": "HTMLView",
            "style": "IPY_MODEL_7a7117937c004592916349ef61e6e510",
            "_dom_classes": [],
            "description": "",
            "_model_name": "HTMLModel",
            "placeholder": "​",
            "_view_module": "@jupyter-widgets/controls",
            "_model_module_version": "1.5.0",
            "value": " 1/1 [00:00&lt;00:00,  7.47ba/s]",
            "_view_count": null,
            "_view_module_version": "1.5.0",
            "description_tooltip": null,
            "_model_module": "@jupyter-widgets/controls",
            "layout": "IPY_MODEL_b0f660431f4a4edd86d794022ce54247"
          }
        },
        "28eadb0a3c914f418b43745d2c8b8b7c": {
          "model_module": "@jupyter-widgets/controls",
          "model_name": "DescriptionStyleModel",
          "model_module_version": "1.5.0",
          "state": {
            "_view_name": "StyleView",
            "_model_name": "DescriptionStyleModel",
            "description_width": "",
            "_view_module": "@jupyter-widgets/base",
            "_model_module_version": "1.5.0",
            "_view_count": null,
            "_view_module_version": "1.2.0",
            "_model_module": "@jupyter-widgets/controls"
          }
        },
        "f6cf27bfe95145b38000219dea405af0": {
          "model_module": "@jupyter-widgets/base",
          "model_name": "LayoutModel",
          "model_module_version": "1.2.0",
          "state": {
            "_view_name": "LayoutView",
            "grid_template_rows": null,
            "right": null,
            "justify_content": null,
            "_view_module": "@jupyter-widgets/base",
            "overflow": null,
            "_model_module_version": "1.2.0",
            "_view_count": null,
            "flex_flow": null,
            "width": null,
            "min_width": null,
            "border": null,
            "align_items": null,
            "bottom": null,
            "_model_module": "@jupyter-widgets/base",
            "top": null,
            "grid_column": null,
            "overflow_y": null,
            "overflow_x": null,
            "grid_auto_flow": null,
            "grid_area": null,
            "grid_template_columns": null,
            "flex": null,
            "_model_name": "LayoutModel",
            "justify_items": null,
            "grid_row": null,
            "max_height": null,
            "align_content": null,
            "visibility": null,
            "align_self": null,
            "height": null,
            "min_height": null,
            "padding": null,
            "grid_auto_rows": null,
            "grid_gap": null,
            "max_width": null,
            "order": null,
            "_view_module_version": "1.2.0",
            "grid_template_areas": null,
            "object_position": null,
            "object_fit": null,
            "grid_auto_columns": null,
            "margin": null,
            "display": null,
            "left": null
          }
        },
        "318b0f0f8585467eb25ae597afc7c215": {
          "model_module": "@jupyter-widgets/controls",
          "model_name": "ProgressStyleModel",
          "model_module_version": "1.5.0",
          "state": {
            "_view_name": "StyleView",
            "_model_name": "ProgressStyleModel",
            "description_width": "",
            "_view_module": "@jupyter-widgets/base",
            "_model_module_version": "1.5.0",
            "_view_count": null,
            "_view_module_version": "1.2.0",
            "bar_color": null,
            "_model_module": "@jupyter-widgets/controls"
          }
        },
        "8e3d978f86f44a9782d9f3d41dac557d": {
          "model_module": "@jupyter-widgets/base",
          "model_name": "LayoutModel",
          "model_module_version": "1.2.0",
          "state": {
            "_view_name": "LayoutView",
            "grid_template_rows": null,
            "right": null,
            "justify_content": null,
            "_view_module": "@jupyter-widgets/base",
            "overflow": null,
            "_model_module_version": "1.2.0",
            "_view_count": null,
            "flex_flow": null,
            "width": null,
            "min_width": null,
            "border": null,
            "align_items": null,
            "bottom": null,
            "_model_module": "@jupyter-widgets/base",
            "top": null,
            "grid_column": null,
            "overflow_y": null,
            "overflow_x": null,
            "grid_auto_flow": null,
            "grid_area": null,
            "grid_template_columns": null,
            "flex": null,
            "_model_name": "LayoutModel",
            "justify_items": null,
            "grid_row": null,
            "max_height": null,
            "align_content": null,
            "visibility": null,
            "align_self": null,
            "height": null,
            "min_height": null,
            "padding": null,
            "grid_auto_rows": null,
            "grid_gap": null,
            "max_width": null,
            "order": null,
            "_view_module_version": "1.2.0",
            "grid_template_areas": null,
            "object_position": null,
            "object_fit": null,
            "grid_auto_columns": null,
            "margin": null,
            "display": null,
            "left": null
          }
        },
        "7a7117937c004592916349ef61e6e510": {
          "model_module": "@jupyter-widgets/controls",
          "model_name": "DescriptionStyleModel",
          "model_module_version": "1.5.0",
          "state": {
            "_view_name": "StyleView",
            "_model_name": "DescriptionStyleModel",
            "description_width": "",
            "_view_module": "@jupyter-widgets/base",
            "_model_module_version": "1.5.0",
            "_view_count": null,
            "_view_module_version": "1.2.0",
            "_model_module": "@jupyter-widgets/controls"
          }
        },
        "b0f660431f4a4edd86d794022ce54247": {
          "model_module": "@jupyter-widgets/base",
          "model_name": "LayoutModel",
          "model_module_version": "1.2.0",
          "state": {
            "_view_name": "LayoutView",
            "grid_template_rows": null,
            "right": null,
            "justify_content": null,
            "_view_module": "@jupyter-widgets/base",
            "overflow": null,
            "_model_module_version": "1.2.0",
            "_view_count": null,
            "flex_flow": null,
            "width": null,
            "min_width": null,
            "border": null,
            "align_items": null,
            "bottom": null,
            "_model_module": "@jupyter-widgets/base",
            "top": null,
            "grid_column": null,
            "overflow_y": null,
            "overflow_x": null,
            "grid_auto_flow": null,
            "grid_area": null,
            "grid_template_columns": null,
            "flex": null,
            "_model_name": "LayoutModel",
            "justify_items": null,
            "grid_row": null,
            "max_height": null,
            "align_content": null,
            "visibility": null,
            "align_self": null,
            "height": null,
            "min_height": null,
            "padding": null,
            "grid_auto_rows": null,
            "grid_gap": null,
            "max_width": null,
            "order": null,
            "_view_module_version": "1.2.0",
            "grid_template_areas": null,
            "object_position": null,
            "object_fit": null,
            "grid_auto_columns": null,
            "margin": null,
            "display": null,
            "left": null
          }
        },
        "25b2079ac05542cb9c80e37ff5a60173": {
          "model_module": "@jupyter-widgets/controls",
          "model_name": "HBoxModel",
          "model_module_version": "1.5.0",
          "state": {
            "_view_name": "HBoxView",
            "_dom_classes": [],
            "_model_name": "HBoxModel",
            "_view_module": "@jupyter-widgets/controls",
            "_model_module_version": "1.5.0",
            "_view_count": null,
            "_view_module_version": "1.5.0",
            "box_style": "",
            "layout": "IPY_MODEL_c6728d0c52f9494ebd5246e088f5b13f",
            "_model_module": "@jupyter-widgets/controls",
            "children": [
              "IPY_MODEL_59bf199c7546489f95844bbd50d82fe9",
              "IPY_MODEL_e816bca1e98245349d8465e2fc1672cb",
              "IPY_MODEL_76e98a4bebcb48f58e9d8d06e454248a"
            ]
          }
        },
        "c6728d0c52f9494ebd5246e088f5b13f": {
          "model_module": "@jupyter-widgets/base",
          "model_name": "LayoutModel",
          "model_module_version": "1.2.0",
          "state": {
            "_view_name": "LayoutView",
            "grid_template_rows": null,
            "right": null,
            "justify_content": null,
            "_view_module": "@jupyter-widgets/base",
            "overflow": null,
            "_model_module_version": "1.2.0",
            "_view_count": null,
            "flex_flow": null,
            "width": null,
            "min_width": null,
            "border": null,
            "align_items": null,
            "bottom": null,
            "_model_module": "@jupyter-widgets/base",
            "top": null,
            "grid_column": null,
            "overflow_y": null,
            "overflow_x": null,
            "grid_auto_flow": null,
            "grid_area": null,
            "grid_template_columns": null,
            "flex": null,
            "_model_name": "LayoutModel",
            "justify_items": null,
            "grid_row": null,
            "max_height": null,
            "align_content": null,
            "visibility": null,
            "align_self": null,
            "height": null,
            "min_height": null,
            "padding": null,
            "grid_auto_rows": null,
            "grid_gap": null,
            "max_width": null,
            "order": null,
            "_view_module_version": "1.2.0",
            "grid_template_areas": null,
            "object_position": null,
            "object_fit": null,
            "grid_auto_columns": null,
            "margin": null,
            "display": null,
            "left": null
          }
        },
        "59bf199c7546489f95844bbd50d82fe9": {
          "model_module": "@jupyter-widgets/controls",
          "model_name": "HTMLModel",
          "model_module_version": "1.5.0",
          "state": {
            "_view_name": "HTMLView",
            "style": "IPY_MODEL_7967aacebf734fbfab613a8195b9f87f",
            "_dom_classes": [],
            "description": "",
            "_model_name": "HTMLModel",
            "placeholder": "​",
            "_view_module": "@jupyter-widgets/controls",
            "_model_module_version": "1.5.0",
            "value": "100%",
            "_view_count": null,
            "_view_module_version": "1.5.0",
            "description_tooltip": null,
            "_model_module": "@jupyter-widgets/controls",
            "layout": "IPY_MODEL_7f6a6d8100b942c785b512bb4e222859"
          }
        },
        "e816bca1e98245349d8465e2fc1672cb": {
          "model_module": "@jupyter-widgets/controls",
          "model_name": "FloatProgressModel",
          "model_module_version": "1.5.0",
          "state": {
            "_view_name": "ProgressView",
            "style": "IPY_MODEL_6fc7646c7eba4170b4e42e2bafd45dcd",
            "_dom_classes": [],
            "description": "",
            "_model_name": "FloatProgressModel",
            "bar_style": "success",
            "max": 1,
            "_view_module": "@jupyter-widgets/controls",
            "_model_module_version": "1.5.0",
            "value": 1,
            "_view_count": null,
            "_view_module_version": "1.5.0",
            "orientation": "horizontal",
            "min": 0,
            "description_tooltip": null,
            "_model_module": "@jupyter-widgets/controls",
            "layout": "IPY_MODEL_3116ba833ef1447abe1f4986d200bcef"
          }
        },
        "76e98a4bebcb48f58e9d8d06e454248a": {
          "model_module": "@jupyter-widgets/controls",
          "model_name": "HTMLModel",
          "model_module_version": "1.5.0",
          "state": {
            "_view_name": "HTMLView",
            "style": "IPY_MODEL_69fa23c9ff564cb8a16c6661a9574316",
            "_dom_classes": [],
            "description": "",
            "_model_name": "HTMLModel",
            "placeholder": "​",
            "_view_module": "@jupyter-widgets/controls",
            "_model_module_version": "1.5.0",
            "value": " 1/1 [00:00&lt;00:00, 10.11ba/s]",
            "_view_count": null,
            "_view_module_version": "1.5.0",
            "description_tooltip": null,
            "_model_module": "@jupyter-widgets/controls",
            "layout": "IPY_MODEL_2807eb9f78664c70a10efdd365acd682"
          }
        },
        "7967aacebf734fbfab613a8195b9f87f": {
          "model_module": "@jupyter-widgets/controls",
          "model_name": "DescriptionStyleModel",
          "model_module_version": "1.5.0",
          "state": {
            "_view_name": "StyleView",
            "_model_name": "DescriptionStyleModel",
            "description_width": "",
            "_view_module": "@jupyter-widgets/base",
            "_model_module_version": "1.5.0",
            "_view_count": null,
            "_view_module_version": "1.2.0",
            "_model_module": "@jupyter-widgets/controls"
          }
        },
        "7f6a6d8100b942c785b512bb4e222859": {
          "model_module": "@jupyter-widgets/base",
          "model_name": "LayoutModel",
          "model_module_version": "1.2.0",
          "state": {
            "_view_name": "LayoutView",
            "grid_template_rows": null,
            "right": null,
            "justify_content": null,
            "_view_module": "@jupyter-widgets/base",
            "overflow": null,
            "_model_module_version": "1.2.0",
            "_view_count": null,
            "flex_flow": null,
            "width": null,
            "min_width": null,
            "border": null,
            "align_items": null,
            "bottom": null,
            "_model_module": "@jupyter-widgets/base",
            "top": null,
            "grid_column": null,
            "overflow_y": null,
            "overflow_x": null,
            "grid_auto_flow": null,
            "grid_area": null,
            "grid_template_columns": null,
            "flex": null,
            "_model_name": "LayoutModel",
            "justify_items": null,
            "grid_row": null,
            "max_height": null,
            "align_content": null,
            "visibility": null,
            "align_self": null,
            "height": null,
            "min_height": null,
            "padding": null,
            "grid_auto_rows": null,
            "grid_gap": null,
            "max_width": null,
            "order": null,
            "_view_module_version": "1.2.0",
            "grid_template_areas": null,
            "object_position": null,
            "object_fit": null,
            "grid_auto_columns": null,
            "margin": null,
            "display": null,
            "left": null
          }
        },
        "6fc7646c7eba4170b4e42e2bafd45dcd": {
          "model_module": "@jupyter-widgets/controls",
          "model_name": "ProgressStyleModel",
          "model_module_version": "1.5.0",
          "state": {
            "_view_name": "StyleView",
            "_model_name": "ProgressStyleModel",
            "description_width": "",
            "_view_module": "@jupyter-widgets/base",
            "_model_module_version": "1.5.0",
            "_view_count": null,
            "_view_module_version": "1.2.0",
            "bar_color": null,
            "_model_module": "@jupyter-widgets/controls"
          }
        },
        "3116ba833ef1447abe1f4986d200bcef": {
          "model_module": "@jupyter-widgets/base",
          "model_name": "LayoutModel",
          "model_module_version": "1.2.0",
          "state": {
            "_view_name": "LayoutView",
            "grid_template_rows": null,
            "right": null,
            "justify_content": null,
            "_view_module": "@jupyter-widgets/base",
            "overflow": null,
            "_model_module_version": "1.2.0",
            "_view_count": null,
            "flex_flow": null,
            "width": null,
            "min_width": null,
            "border": null,
            "align_items": null,
            "bottom": null,
            "_model_module": "@jupyter-widgets/base",
            "top": null,
            "grid_column": null,
            "overflow_y": null,
            "overflow_x": null,
            "grid_auto_flow": null,
            "grid_area": null,
            "grid_template_columns": null,
            "flex": null,
            "_model_name": "LayoutModel",
            "justify_items": null,
            "grid_row": null,
            "max_height": null,
            "align_content": null,
            "visibility": null,
            "align_self": null,
            "height": null,
            "min_height": null,
            "padding": null,
            "grid_auto_rows": null,
            "grid_gap": null,
            "max_width": null,
            "order": null,
            "_view_module_version": "1.2.0",
            "grid_template_areas": null,
            "object_position": null,
            "object_fit": null,
            "grid_auto_columns": null,
            "margin": null,
            "display": null,
            "left": null
          }
        },
        "69fa23c9ff564cb8a16c6661a9574316": {
          "model_module": "@jupyter-widgets/controls",
          "model_name": "DescriptionStyleModel",
          "model_module_version": "1.5.0",
          "state": {
            "_view_name": "StyleView",
            "_model_name": "DescriptionStyleModel",
            "description_width": "",
            "_view_module": "@jupyter-widgets/base",
            "_model_module_version": "1.5.0",
            "_view_count": null,
            "_view_module_version": "1.2.0",
            "_model_module": "@jupyter-widgets/controls"
          }
        },
        "2807eb9f78664c70a10efdd365acd682": {
          "model_module": "@jupyter-widgets/base",
          "model_name": "LayoutModel",
          "model_module_version": "1.2.0",
          "state": {
            "_view_name": "LayoutView",
            "grid_template_rows": null,
            "right": null,
            "justify_content": null,
            "_view_module": "@jupyter-widgets/base",
            "overflow": null,
            "_model_module_version": "1.2.0",
            "_view_count": null,
            "flex_flow": null,
            "width": null,
            "min_width": null,
            "border": null,
            "align_items": null,
            "bottom": null,
            "_model_module": "@jupyter-widgets/base",
            "top": null,
            "grid_column": null,
            "overflow_y": null,
            "overflow_x": null,
            "grid_auto_flow": null,
            "grid_area": null,
            "grid_template_columns": null,
            "flex": null,
            "_model_name": "LayoutModel",
            "justify_items": null,
            "grid_row": null,
            "max_height": null,
            "align_content": null,
            "visibility": null,
            "align_self": null,
            "height": null,
            "min_height": null,
            "padding": null,
            "grid_auto_rows": null,
            "grid_gap": null,
            "max_width": null,
            "order": null,
            "_view_module_version": "1.2.0",
            "grid_template_areas": null,
            "object_position": null,
            "object_fit": null,
            "grid_auto_columns": null,
            "margin": null,
            "display": null,
            "left": null
          }
        },
        "3a010c1e14df47cf8f8e3dbd4e70745f": {
          "model_module": "@jupyter-widgets/controls",
          "model_name": "HBoxModel",
          "model_module_version": "1.5.0",
          "state": {
            "_view_name": "HBoxView",
            "_dom_classes": [],
            "_model_name": "HBoxModel",
            "_view_module": "@jupyter-widgets/controls",
            "_model_module_version": "1.5.0",
            "_view_count": null,
            "_view_module_version": "1.5.0",
            "box_style": "",
            "layout": "IPY_MODEL_de65771e3eb143c198894303acce0f9a",
            "_model_module": "@jupyter-widgets/controls",
            "children": [
              "IPY_MODEL_678c9957abe24fd090e91a00f6e0a219",
              "IPY_MODEL_6d2e6c0dbcf64c419e88daaff7a3ada7",
              "IPY_MODEL_6b2bdaaae81f47ff81ac394b26f011a9"
            ]
          }
        },
        "de65771e3eb143c198894303acce0f9a": {
          "model_module": "@jupyter-widgets/base",
          "model_name": "LayoutModel",
          "model_module_version": "1.2.0",
          "state": {
            "_view_name": "LayoutView",
            "grid_template_rows": null,
            "right": null,
            "justify_content": null,
            "_view_module": "@jupyter-widgets/base",
            "overflow": null,
            "_model_module_version": "1.2.0",
            "_view_count": null,
            "flex_flow": null,
            "width": null,
            "min_width": null,
            "border": null,
            "align_items": null,
            "bottom": null,
            "_model_module": "@jupyter-widgets/base",
            "top": null,
            "grid_column": null,
            "overflow_y": null,
            "overflow_x": null,
            "grid_auto_flow": null,
            "grid_area": null,
            "grid_template_columns": null,
            "flex": null,
            "_model_name": "LayoutModel",
            "justify_items": null,
            "grid_row": null,
            "max_height": null,
            "align_content": null,
            "visibility": null,
            "align_self": null,
            "height": null,
            "min_height": null,
            "padding": null,
            "grid_auto_rows": null,
            "grid_gap": null,
            "max_width": null,
            "order": null,
            "_view_module_version": "1.2.0",
            "grid_template_areas": null,
            "object_position": null,
            "object_fit": null,
            "grid_auto_columns": null,
            "margin": null,
            "display": null,
            "left": null
          }
        },
        "678c9957abe24fd090e91a00f6e0a219": {
          "model_module": "@jupyter-widgets/controls",
          "model_name": "HTMLModel",
          "model_module_version": "1.5.0",
          "state": {
            "_view_name": "HTMLView",
            "style": "IPY_MODEL_6f7f5115a55e4cc68d839f769124baf4",
            "_dom_classes": [],
            "description": "",
            "_model_name": "HTMLModel",
            "placeholder": "​",
            "_view_module": "@jupyter-widgets/controls",
            "_model_module_version": "1.5.0",
            "value": "100%",
            "_view_count": null,
            "_view_module_version": "1.5.0",
            "description_tooltip": null,
            "_model_module": "@jupyter-widgets/controls",
            "layout": "IPY_MODEL_c096a63a38494cd6aba3c40dbf1b89f3"
          }
        },
        "6d2e6c0dbcf64c419e88daaff7a3ada7": {
          "model_module": "@jupyter-widgets/controls",
          "model_name": "FloatProgressModel",
          "model_module_version": "1.5.0",
          "state": {
            "_view_name": "ProgressView",
            "style": "IPY_MODEL_fa770b88788a43a8853a052be0c6c198",
            "_dom_classes": [],
            "description": "",
            "_model_name": "FloatProgressModel",
            "bar_style": "success",
            "max": 12806,
            "_view_module": "@jupyter-widgets/controls",
            "_model_module_version": "1.5.0",
            "value": 12806,
            "_view_count": null,
            "_view_module_version": "1.5.0",
            "orientation": "horizontal",
            "min": 0,
            "description_tooltip": null,
            "_model_module": "@jupyter-widgets/controls",
            "layout": "IPY_MODEL_c907420296614d84a039848e1507a22a"
          }
        },
        "6b2bdaaae81f47ff81ac394b26f011a9": {
          "model_module": "@jupyter-widgets/controls",
          "model_name": "HTMLModel",
          "model_module_version": "1.5.0",
          "state": {
            "_view_name": "HTMLView",
            "style": "IPY_MODEL_8b62d44f5e6c48d5b282689801fce3d1",
            "_dom_classes": [],
            "description": "",
            "_model_name": "HTMLModel",
            "placeholder": "​",
            "_view_module": "@jupyter-widgets/controls",
            "_model_module_version": "1.5.0",
            "value": " 12806/12806 [02:42&lt;00:00, 77.61ex/s]",
            "_view_count": null,
            "_view_module_version": "1.5.0",
            "description_tooltip": null,
            "_model_module": "@jupyter-widgets/controls",
            "layout": "IPY_MODEL_ec0f025a01424aff8dd5a06b2675dd04"
          }
        },
        "6f7f5115a55e4cc68d839f769124baf4": {
          "model_module": "@jupyter-widgets/controls",
          "model_name": "DescriptionStyleModel",
          "model_module_version": "1.5.0",
          "state": {
            "_view_name": "StyleView",
            "_model_name": "DescriptionStyleModel",
            "description_width": "",
            "_view_module": "@jupyter-widgets/base",
            "_model_module_version": "1.5.0",
            "_view_count": null,
            "_view_module_version": "1.2.0",
            "_model_module": "@jupyter-widgets/controls"
          }
        },
        "c096a63a38494cd6aba3c40dbf1b89f3": {
          "model_module": "@jupyter-widgets/base",
          "model_name": "LayoutModel",
          "model_module_version": "1.2.0",
          "state": {
            "_view_name": "LayoutView",
            "grid_template_rows": null,
            "right": null,
            "justify_content": null,
            "_view_module": "@jupyter-widgets/base",
            "overflow": null,
            "_model_module_version": "1.2.0",
            "_view_count": null,
            "flex_flow": null,
            "width": null,
            "min_width": null,
            "border": null,
            "align_items": null,
            "bottom": null,
            "_model_module": "@jupyter-widgets/base",
            "top": null,
            "grid_column": null,
            "overflow_y": null,
            "overflow_x": null,
            "grid_auto_flow": null,
            "grid_area": null,
            "grid_template_columns": null,
            "flex": null,
            "_model_name": "LayoutModel",
            "justify_items": null,
            "grid_row": null,
            "max_height": null,
            "align_content": null,
            "visibility": null,
            "align_self": null,
            "height": null,
            "min_height": null,
            "padding": null,
            "grid_auto_rows": null,
            "grid_gap": null,
            "max_width": null,
            "order": null,
            "_view_module_version": "1.2.0",
            "grid_template_areas": null,
            "object_position": null,
            "object_fit": null,
            "grid_auto_columns": null,
            "margin": null,
            "display": null,
            "left": null
          }
        },
        "fa770b88788a43a8853a052be0c6c198": {
          "model_module": "@jupyter-widgets/controls",
          "model_name": "ProgressStyleModel",
          "model_module_version": "1.5.0",
          "state": {
            "_view_name": "StyleView",
            "_model_name": "ProgressStyleModel",
            "description_width": "",
            "_view_module": "@jupyter-widgets/base",
            "_model_module_version": "1.5.0",
            "_view_count": null,
            "_view_module_version": "1.2.0",
            "bar_color": null,
            "_model_module": "@jupyter-widgets/controls"
          }
        },
        "c907420296614d84a039848e1507a22a": {
          "model_module": "@jupyter-widgets/base",
          "model_name": "LayoutModel",
          "model_module_version": "1.2.0",
          "state": {
            "_view_name": "LayoutView",
            "grid_template_rows": null,
            "right": null,
            "justify_content": null,
            "_view_module": "@jupyter-widgets/base",
            "overflow": null,
            "_model_module_version": "1.2.0",
            "_view_count": null,
            "flex_flow": null,
            "width": null,
            "min_width": null,
            "border": null,
            "align_items": null,
            "bottom": null,
            "_model_module": "@jupyter-widgets/base",
            "top": null,
            "grid_column": null,
            "overflow_y": null,
            "overflow_x": null,
            "grid_auto_flow": null,
            "grid_area": null,
            "grid_template_columns": null,
            "flex": null,
            "_model_name": "LayoutModel",
            "justify_items": null,
            "grid_row": null,
            "max_height": null,
            "align_content": null,
            "visibility": null,
            "align_self": null,
            "height": null,
            "min_height": null,
            "padding": null,
            "grid_auto_rows": null,
            "grid_gap": null,
            "max_width": null,
            "order": null,
            "_view_module_version": "1.2.0",
            "grid_template_areas": null,
            "object_position": null,
            "object_fit": null,
            "grid_auto_columns": null,
            "margin": null,
            "display": null,
            "left": null
          }
        },
        "8b62d44f5e6c48d5b282689801fce3d1": {
          "model_module": "@jupyter-widgets/controls",
          "model_name": "DescriptionStyleModel",
          "model_module_version": "1.5.0",
          "state": {
            "_view_name": "StyleView",
            "_model_name": "DescriptionStyleModel",
            "description_width": "",
            "_view_module": "@jupyter-widgets/base",
            "_model_module_version": "1.5.0",
            "_view_count": null,
            "_view_module_version": "1.2.0",
            "_model_module": "@jupyter-widgets/controls"
          }
        },
        "ec0f025a01424aff8dd5a06b2675dd04": {
          "model_module": "@jupyter-widgets/base",
          "model_name": "LayoutModel",
          "model_module_version": "1.2.0",
          "state": {
            "_view_name": "LayoutView",
            "grid_template_rows": null,
            "right": null,
            "justify_content": null,
            "_view_module": "@jupyter-widgets/base",
            "overflow": null,
            "_model_module_version": "1.2.0",
            "_view_count": null,
            "flex_flow": null,
            "width": null,
            "min_width": null,
            "border": null,
            "align_items": null,
            "bottom": null,
            "_model_module": "@jupyter-widgets/base",
            "top": null,
            "grid_column": null,
            "overflow_y": null,
            "overflow_x": null,
            "grid_auto_flow": null,
            "grid_area": null,
            "grid_template_columns": null,
            "flex": null,
            "_model_name": "LayoutModel",
            "justify_items": null,
            "grid_row": null,
            "max_height": null,
            "align_content": null,
            "visibility": null,
            "align_self": null,
            "height": null,
            "min_height": null,
            "padding": null,
            "grid_auto_rows": null,
            "grid_gap": null,
            "max_width": null,
            "order": null,
            "_view_module_version": "1.2.0",
            "grid_template_areas": null,
            "object_position": null,
            "object_fit": null,
            "grid_auto_columns": null,
            "margin": null,
            "display": null,
            "left": null
          }
        },
        "59e0c0fbcdad43f28e15d4385ee1f3f1": {
          "model_module": "@jupyter-widgets/controls",
          "model_name": "HBoxModel",
          "model_module_version": "1.5.0",
          "state": {
            "_view_name": "HBoxView",
            "_dom_classes": [],
            "_model_name": "HBoxModel",
            "_view_module": "@jupyter-widgets/controls",
            "_model_module_version": "1.5.0",
            "_view_count": null,
            "_view_module_version": "1.5.0",
            "box_style": "",
            "layout": "IPY_MODEL_6b7074f9862146f3bc20928479ee0d73",
            "_model_module": "@jupyter-widgets/controls",
            "children": [
              "IPY_MODEL_707eae9bfb6f4dd2bf79e61f86ddef6d",
              "IPY_MODEL_fe4f3f0465a1447b8beb693935d87333",
              "IPY_MODEL_a7039ef7b18d4ff3851fafaa5c3bd5a9"
            ]
          }
        },
        "6b7074f9862146f3bc20928479ee0d73": {
          "model_module": "@jupyter-widgets/base",
          "model_name": "LayoutModel",
          "model_module_version": "1.2.0",
          "state": {
            "_view_name": "LayoutView",
            "grid_template_rows": null,
            "right": null,
            "justify_content": null,
            "_view_module": "@jupyter-widgets/base",
            "overflow": null,
            "_model_module_version": "1.2.0",
            "_view_count": null,
            "flex_flow": null,
            "width": null,
            "min_width": null,
            "border": null,
            "align_items": null,
            "bottom": null,
            "_model_module": "@jupyter-widgets/base",
            "top": null,
            "grid_column": null,
            "overflow_y": null,
            "overflow_x": null,
            "grid_auto_flow": null,
            "grid_area": null,
            "grid_template_columns": null,
            "flex": null,
            "_model_name": "LayoutModel",
            "justify_items": null,
            "grid_row": null,
            "max_height": null,
            "align_content": null,
            "visibility": null,
            "align_self": null,
            "height": null,
            "min_height": null,
            "padding": null,
            "grid_auto_rows": null,
            "grid_gap": null,
            "max_width": null,
            "order": null,
            "_view_module_version": "1.2.0",
            "grid_template_areas": null,
            "object_position": null,
            "object_fit": null,
            "grid_auto_columns": null,
            "margin": null,
            "display": null,
            "left": null
          }
        },
        "707eae9bfb6f4dd2bf79e61f86ddef6d": {
          "model_module": "@jupyter-widgets/controls",
          "model_name": "HTMLModel",
          "model_module_version": "1.5.0",
          "state": {
            "_view_name": "HTMLView",
            "style": "IPY_MODEL_321f6a9765b2472b84c734a7e17bb51b",
            "_dom_classes": [],
            "description": "",
            "_model_name": "HTMLModel",
            "placeholder": "​",
            "_view_module": "@jupyter-widgets/controls",
            "_model_module_version": "1.5.0",
            "value": "100%",
            "_view_count": null,
            "_view_module_version": "1.5.0",
            "description_tooltip": null,
            "_model_module": "@jupyter-widgets/controls",
            "layout": "IPY_MODEL_e6fc81165e5d4ce59bd25c8589d22048"
          }
        },
        "fe4f3f0465a1447b8beb693935d87333": {
          "model_module": "@jupyter-widgets/controls",
          "model_name": "FloatProgressModel",
          "model_module_version": "1.5.0",
          "state": {
            "_view_name": "ProgressView",
            "style": "IPY_MODEL_7846f9db76a34cc89602c41e0d60c21e",
            "_dom_classes": [],
            "description": "",
            "_model_name": "FloatProgressModel",
            "bar_style": "success",
            "max": 5213,
            "_view_module": "@jupyter-widgets/controls",
            "_model_module_version": "1.5.0",
            "value": 5213,
            "_view_count": null,
            "_view_module_version": "1.5.0",
            "orientation": "horizontal",
            "min": 0,
            "description_tooltip": null,
            "_model_module": "@jupyter-widgets/controls",
            "layout": "IPY_MODEL_668ebfae57ed4f05b1e28a03e0bc5f2d"
          }
        },
        "a7039ef7b18d4ff3851fafaa5c3bd5a9": {
          "model_module": "@jupyter-widgets/controls",
          "model_name": "HTMLModel",
          "model_module_version": "1.5.0",
          "state": {
            "_view_name": "HTMLView",
            "style": "IPY_MODEL_d8e70e09bcfa4048be077b8e4722b93c",
            "_dom_classes": [],
            "description": "",
            "_model_name": "HTMLModel",
            "placeholder": "​",
            "_view_module": "@jupyter-widgets/controls",
            "_model_module_version": "1.5.0",
            "value": " 5213/5213 [01:20&lt;00:00, 73.88ex/s]",
            "_view_count": null,
            "_view_module_version": "1.5.0",
            "description_tooltip": null,
            "_model_module": "@jupyter-widgets/controls",
            "layout": "IPY_MODEL_35b840aac3d0449c95507497030c5fc1"
          }
        },
        "321f6a9765b2472b84c734a7e17bb51b": {
          "model_module": "@jupyter-widgets/controls",
          "model_name": "DescriptionStyleModel",
          "model_module_version": "1.5.0",
          "state": {
            "_view_name": "StyleView",
            "_model_name": "DescriptionStyleModel",
            "description_width": "",
            "_view_module": "@jupyter-widgets/base",
            "_model_module_version": "1.5.0",
            "_view_count": null,
            "_view_module_version": "1.2.0",
            "_model_module": "@jupyter-widgets/controls"
          }
        },
        "e6fc81165e5d4ce59bd25c8589d22048": {
          "model_module": "@jupyter-widgets/base",
          "model_name": "LayoutModel",
          "model_module_version": "1.2.0",
          "state": {
            "_view_name": "LayoutView",
            "grid_template_rows": null,
            "right": null,
            "justify_content": null,
            "_view_module": "@jupyter-widgets/base",
            "overflow": null,
            "_model_module_version": "1.2.0",
            "_view_count": null,
            "flex_flow": null,
            "width": null,
            "min_width": null,
            "border": null,
            "align_items": null,
            "bottom": null,
            "_model_module": "@jupyter-widgets/base",
            "top": null,
            "grid_column": null,
            "overflow_y": null,
            "overflow_x": null,
            "grid_auto_flow": null,
            "grid_area": null,
            "grid_template_columns": null,
            "flex": null,
            "_model_name": "LayoutModel",
            "justify_items": null,
            "grid_row": null,
            "max_height": null,
            "align_content": null,
            "visibility": null,
            "align_self": null,
            "height": null,
            "min_height": null,
            "padding": null,
            "grid_auto_rows": null,
            "grid_gap": null,
            "max_width": null,
            "order": null,
            "_view_module_version": "1.2.0",
            "grid_template_areas": null,
            "object_position": null,
            "object_fit": null,
            "grid_auto_columns": null,
            "margin": null,
            "display": null,
            "left": null
          }
        },
        "7846f9db76a34cc89602c41e0d60c21e": {
          "model_module": "@jupyter-widgets/controls",
          "model_name": "ProgressStyleModel",
          "model_module_version": "1.5.0",
          "state": {
            "_view_name": "StyleView",
            "_model_name": "ProgressStyleModel",
            "description_width": "",
            "_view_module": "@jupyter-widgets/base",
            "_model_module_version": "1.5.0",
            "_view_count": null,
            "_view_module_version": "1.2.0",
            "bar_color": null,
            "_model_module": "@jupyter-widgets/controls"
          }
        },
        "668ebfae57ed4f05b1e28a03e0bc5f2d": {
          "model_module": "@jupyter-widgets/base",
          "model_name": "LayoutModel",
          "model_module_version": "1.2.0",
          "state": {
            "_view_name": "LayoutView",
            "grid_template_rows": null,
            "right": null,
            "justify_content": null,
            "_view_module": "@jupyter-widgets/base",
            "overflow": null,
            "_model_module_version": "1.2.0",
            "_view_count": null,
            "flex_flow": null,
            "width": null,
            "min_width": null,
            "border": null,
            "align_items": null,
            "bottom": null,
            "_model_module": "@jupyter-widgets/base",
            "top": null,
            "grid_column": null,
            "overflow_y": null,
            "overflow_x": null,
            "grid_auto_flow": null,
            "grid_area": null,
            "grid_template_columns": null,
            "flex": null,
            "_model_name": "LayoutModel",
            "justify_items": null,
            "grid_row": null,
            "max_height": null,
            "align_content": null,
            "visibility": null,
            "align_self": null,
            "height": null,
            "min_height": null,
            "padding": null,
            "grid_auto_rows": null,
            "grid_gap": null,
            "max_width": null,
            "order": null,
            "_view_module_version": "1.2.0",
            "grid_template_areas": null,
            "object_position": null,
            "object_fit": null,
            "grid_auto_columns": null,
            "margin": null,
            "display": null,
            "left": null
          }
        },
        "d8e70e09bcfa4048be077b8e4722b93c": {
          "model_module": "@jupyter-widgets/controls",
          "model_name": "DescriptionStyleModel",
          "model_module_version": "1.5.0",
          "state": {
            "_view_name": "StyleView",
            "_model_name": "DescriptionStyleModel",
            "description_width": "",
            "_view_module": "@jupyter-widgets/base",
            "_model_module_version": "1.5.0",
            "_view_count": null,
            "_view_module_version": "1.2.0",
            "_model_module": "@jupyter-widgets/controls"
          }
        },
        "35b840aac3d0449c95507497030c5fc1": {
          "model_module": "@jupyter-widgets/base",
          "model_name": "LayoutModel",
          "model_module_version": "1.2.0",
          "state": {
            "_view_name": "LayoutView",
            "grid_template_rows": null,
            "right": null,
            "justify_content": null,
            "_view_module": "@jupyter-widgets/base",
            "overflow": null,
            "_model_module_version": "1.2.0",
            "_view_count": null,
            "flex_flow": null,
            "width": null,
            "min_width": null,
            "border": null,
            "align_items": null,
            "bottom": null,
            "_model_module": "@jupyter-widgets/base",
            "top": null,
            "grid_column": null,
            "overflow_y": null,
            "overflow_x": null,
            "grid_auto_flow": null,
            "grid_area": null,
            "grid_template_columns": null,
            "flex": null,
            "_model_name": "LayoutModel",
            "justify_items": null,
            "grid_row": null,
            "max_height": null,
            "align_content": null,
            "visibility": null,
            "align_self": null,
            "height": null,
            "min_height": null,
            "padding": null,
            "grid_auto_rows": null,
            "grid_gap": null,
            "max_width": null,
            "order": null,
            "_view_module_version": "1.2.0",
            "grid_template_areas": null,
            "object_position": null,
            "object_fit": null,
            "grid_auto_columns": null,
            "margin": null,
            "display": null,
            "left": null
          }
        },
        "e9c8ad78f9424379bea24c812ee669d4": {
          "model_module": "@jupyter-widgets/controls",
          "model_name": "HBoxModel",
          "model_module_version": "1.5.0",
          "state": {
            "_view_name": "HBoxView",
            "_dom_classes": [],
            "_model_name": "HBoxModel",
            "_view_module": "@jupyter-widgets/controls",
            "_model_module_version": "1.5.0",
            "_view_count": null,
            "_view_module_version": "1.5.0",
            "box_style": "",
            "layout": "IPY_MODEL_903d3302d0c449218a95b604180eb14a",
            "_model_module": "@jupyter-widgets/controls",
            "children": [
              "IPY_MODEL_8d7de2403dee43c08ea4859edb69c843",
              "IPY_MODEL_f0c93933f5424ff9a8401e9bf0897109",
              "IPY_MODEL_3e0f6262509e429eb353bab8b6eb810c"
            ]
          }
        },
        "903d3302d0c449218a95b604180eb14a": {
          "model_module": "@jupyter-widgets/base",
          "model_name": "LayoutModel",
          "model_module_version": "1.2.0",
          "state": {
            "_view_name": "LayoutView",
            "grid_template_rows": null,
            "right": null,
            "justify_content": null,
            "_view_module": "@jupyter-widgets/base",
            "overflow": null,
            "_model_module_version": "1.2.0",
            "_view_count": null,
            "flex_flow": null,
            "width": null,
            "min_width": null,
            "border": null,
            "align_items": null,
            "bottom": null,
            "_model_module": "@jupyter-widgets/base",
            "top": null,
            "grid_column": null,
            "overflow_y": null,
            "overflow_x": null,
            "grid_auto_flow": null,
            "grid_area": null,
            "grid_template_columns": null,
            "flex": null,
            "_model_name": "LayoutModel",
            "justify_items": null,
            "grid_row": null,
            "max_height": null,
            "align_content": null,
            "visibility": null,
            "align_self": null,
            "height": null,
            "min_height": null,
            "padding": null,
            "grid_auto_rows": null,
            "grid_gap": null,
            "max_width": null,
            "order": null,
            "_view_module_version": "1.2.0",
            "grid_template_areas": null,
            "object_position": null,
            "object_fit": null,
            "grid_auto_columns": null,
            "margin": null,
            "display": null,
            "left": null
          }
        },
        "8d7de2403dee43c08ea4859edb69c843": {
          "model_module": "@jupyter-widgets/controls",
          "model_name": "HTMLModel",
          "model_module_version": "1.5.0",
          "state": {
            "_view_name": "HTMLView",
            "style": "IPY_MODEL_737eac303db34787bdddde766366d095",
            "_dom_classes": [],
            "description": "",
            "_model_name": "HTMLModel",
            "placeholder": "​",
            "_view_module": "@jupyter-widgets/controls",
            "_model_module_version": "1.5.0",
            "value": "100%",
            "_view_count": null,
            "_view_module_version": "1.5.0",
            "description_tooltip": null,
            "_model_module": "@jupyter-widgets/controls",
            "layout": "IPY_MODEL_f9e793a1735947bc8c021065fda1c56f"
          }
        },
        "f0c93933f5424ff9a8401e9bf0897109": {
          "model_module": "@jupyter-widgets/controls",
          "model_name": "FloatProgressModel",
          "model_module_version": "1.5.0",
          "state": {
            "_view_name": "ProgressView",
            "style": "IPY_MODEL_e7d12a0ca07e4e89be5af1f1dbc3bcbc",
            "_dom_classes": [],
            "description": "",
            "_model_name": "FloatProgressModel",
            "bar_style": "success",
            "max": 13,
            "_view_module": "@jupyter-widgets/controls",
            "_model_module_version": "1.5.0",
            "value": 13,
            "_view_count": null,
            "_view_module_version": "1.5.0",
            "orientation": "horizontal",
            "min": 0,
            "description_tooltip": null,
            "_model_module": "@jupyter-widgets/controls",
            "layout": "IPY_MODEL_2dc6e0755b054706b34fb4465d0241a8"
          }
        },
        "3e0f6262509e429eb353bab8b6eb810c": {
          "model_module": "@jupyter-widgets/controls",
          "model_name": "HTMLModel",
          "model_module_version": "1.5.0",
          "state": {
            "_view_name": "HTMLView",
            "style": "IPY_MODEL_1a67105f4ee44176a15d525d5174c3e0",
            "_dom_classes": [],
            "description": "",
            "_model_name": "HTMLModel",
            "placeholder": "​",
            "_view_module": "@jupyter-widgets/controls",
            "_model_module_version": "1.5.0",
            "value": " 13/13 [00:00&lt;00:00, 119.38ba/s]",
            "_view_count": null,
            "_view_module_version": "1.5.0",
            "description_tooltip": null,
            "_model_module": "@jupyter-widgets/controls",
            "layout": "IPY_MODEL_33aaedd2f72849a7b0bec6a086db5b71"
          }
        },
        "737eac303db34787bdddde766366d095": {
          "model_module": "@jupyter-widgets/controls",
          "model_name": "DescriptionStyleModel",
          "model_module_version": "1.5.0",
          "state": {
            "_view_name": "StyleView",
            "_model_name": "DescriptionStyleModel",
            "description_width": "",
            "_view_module": "@jupyter-widgets/base",
            "_model_module_version": "1.5.0",
            "_view_count": null,
            "_view_module_version": "1.2.0",
            "_model_module": "@jupyter-widgets/controls"
          }
        },
        "f9e793a1735947bc8c021065fda1c56f": {
          "model_module": "@jupyter-widgets/base",
          "model_name": "LayoutModel",
          "model_module_version": "1.2.0",
          "state": {
            "_view_name": "LayoutView",
            "grid_template_rows": null,
            "right": null,
            "justify_content": null,
            "_view_module": "@jupyter-widgets/base",
            "overflow": null,
            "_model_module_version": "1.2.0",
            "_view_count": null,
            "flex_flow": null,
            "width": null,
            "min_width": null,
            "border": null,
            "align_items": null,
            "bottom": null,
            "_model_module": "@jupyter-widgets/base",
            "top": null,
            "grid_column": null,
            "overflow_y": null,
            "overflow_x": null,
            "grid_auto_flow": null,
            "grid_area": null,
            "grid_template_columns": null,
            "flex": null,
            "_model_name": "LayoutModel",
            "justify_items": null,
            "grid_row": null,
            "max_height": null,
            "align_content": null,
            "visibility": null,
            "align_self": null,
            "height": null,
            "min_height": null,
            "padding": null,
            "grid_auto_rows": null,
            "grid_gap": null,
            "max_width": null,
            "order": null,
            "_view_module_version": "1.2.0",
            "grid_template_areas": null,
            "object_position": null,
            "object_fit": null,
            "grid_auto_columns": null,
            "margin": null,
            "display": null,
            "left": null
          }
        },
        "e7d12a0ca07e4e89be5af1f1dbc3bcbc": {
          "model_module": "@jupyter-widgets/controls",
          "model_name": "ProgressStyleModel",
          "model_module_version": "1.5.0",
          "state": {
            "_view_name": "StyleView",
            "_model_name": "ProgressStyleModel",
            "description_width": "",
            "_view_module": "@jupyter-widgets/base",
            "_model_module_version": "1.5.0",
            "_view_count": null,
            "_view_module_version": "1.2.0",
            "bar_color": null,
            "_model_module": "@jupyter-widgets/controls"
          }
        },
        "2dc6e0755b054706b34fb4465d0241a8": {
          "model_module": "@jupyter-widgets/base",
          "model_name": "LayoutModel",
          "model_module_version": "1.2.0",
          "state": {
            "_view_name": "LayoutView",
            "grid_template_rows": null,
            "right": null,
            "justify_content": null,
            "_view_module": "@jupyter-widgets/base",
            "overflow": null,
            "_model_module_version": "1.2.0",
            "_view_count": null,
            "flex_flow": null,
            "width": null,
            "min_width": null,
            "border": null,
            "align_items": null,
            "bottom": null,
            "_model_module": "@jupyter-widgets/base",
            "top": null,
            "grid_column": null,
            "overflow_y": null,
            "overflow_x": null,
            "grid_auto_flow": null,
            "grid_area": null,
            "grid_template_columns": null,
            "flex": null,
            "_model_name": "LayoutModel",
            "justify_items": null,
            "grid_row": null,
            "max_height": null,
            "align_content": null,
            "visibility": null,
            "align_self": null,
            "height": null,
            "min_height": null,
            "padding": null,
            "grid_auto_rows": null,
            "grid_gap": null,
            "max_width": null,
            "order": null,
            "_view_module_version": "1.2.0",
            "grid_template_areas": null,
            "object_position": null,
            "object_fit": null,
            "grid_auto_columns": null,
            "margin": null,
            "display": null,
            "left": null
          }
        },
        "1a67105f4ee44176a15d525d5174c3e0": {
          "model_module": "@jupyter-widgets/controls",
          "model_name": "DescriptionStyleModel",
          "model_module_version": "1.5.0",
          "state": {
            "_view_name": "StyleView",
            "_model_name": "DescriptionStyleModel",
            "description_width": "",
            "_view_module": "@jupyter-widgets/base",
            "_model_module_version": "1.5.0",
            "_view_count": null,
            "_view_module_version": "1.2.0",
            "_model_module": "@jupyter-widgets/controls"
          }
        },
        "33aaedd2f72849a7b0bec6a086db5b71": {
          "model_module": "@jupyter-widgets/base",
          "model_name": "LayoutModel",
          "model_module_version": "1.2.0",
          "state": {
            "_view_name": "LayoutView",
            "grid_template_rows": null,
            "right": null,
            "justify_content": null,
            "_view_module": "@jupyter-widgets/base",
            "overflow": null,
            "_model_module_version": "1.2.0",
            "_view_count": null,
            "flex_flow": null,
            "width": null,
            "min_width": null,
            "border": null,
            "align_items": null,
            "bottom": null,
            "_model_module": "@jupyter-widgets/base",
            "top": null,
            "grid_column": null,
            "overflow_y": null,
            "overflow_x": null,
            "grid_auto_flow": null,
            "grid_area": null,
            "grid_template_columns": null,
            "flex": null,
            "_model_name": "LayoutModel",
            "justify_items": null,
            "grid_row": null,
            "max_height": null,
            "align_content": null,
            "visibility": null,
            "align_self": null,
            "height": null,
            "min_height": null,
            "padding": null,
            "grid_auto_rows": null,
            "grid_gap": null,
            "max_width": null,
            "order": null,
            "_view_module_version": "1.2.0",
            "grid_template_areas": null,
            "object_position": null,
            "object_fit": null,
            "grid_auto_columns": null,
            "margin": null,
            "display": null,
            "left": null
          }
        },
        "d14d425a0e304df1b26ae46563385515": {
          "model_module": "@jupyter-widgets/controls",
          "model_name": "HBoxModel",
          "model_module_version": "1.5.0",
          "state": {
            "_view_name": "HBoxView",
            "_dom_classes": [],
            "_model_name": "HBoxModel",
            "_view_module": "@jupyter-widgets/controls",
            "_model_module_version": "1.5.0",
            "_view_count": null,
            "_view_module_version": "1.5.0",
            "box_style": "",
            "layout": "IPY_MODEL_a2f49df972874069a4c35bbfad9b333f",
            "_model_module": "@jupyter-widgets/controls",
            "children": [
              "IPY_MODEL_f7067a4d3f0e4752aa0c9f4c717b2351",
              "IPY_MODEL_9efad7c5da9047c794416691a8d112b4",
              "IPY_MODEL_b4dc500e47db47cbafffa073dd851d2f"
            ]
          }
        },
        "a2f49df972874069a4c35bbfad9b333f": {
          "model_module": "@jupyter-widgets/base",
          "model_name": "LayoutModel",
          "model_module_version": "1.2.0",
          "state": {
            "_view_name": "LayoutView",
            "grid_template_rows": null,
            "right": null,
            "justify_content": null,
            "_view_module": "@jupyter-widgets/base",
            "overflow": null,
            "_model_module_version": "1.2.0",
            "_view_count": null,
            "flex_flow": null,
            "width": null,
            "min_width": null,
            "border": null,
            "align_items": null,
            "bottom": null,
            "_model_module": "@jupyter-widgets/base",
            "top": null,
            "grid_column": null,
            "overflow_y": null,
            "overflow_x": null,
            "grid_auto_flow": null,
            "grid_area": null,
            "grid_template_columns": null,
            "flex": null,
            "_model_name": "LayoutModel",
            "justify_items": null,
            "grid_row": null,
            "max_height": null,
            "align_content": null,
            "visibility": null,
            "align_self": null,
            "height": null,
            "min_height": null,
            "padding": null,
            "grid_auto_rows": null,
            "grid_gap": null,
            "max_width": null,
            "order": null,
            "_view_module_version": "1.2.0",
            "grid_template_areas": null,
            "object_position": null,
            "object_fit": null,
            "grid_auto_columns": null,
            "margin": null,
            "display": null,
            "left": null
          }
        },
        "f7067a4d3f0e4752aa0c9f4c717b2351": {
          "model_module": "@jupyter-widgets/controls",
          "model_name": "HTMLModel",
          "model_module_version": "1.5.0",
          "state": {
            "_view_name": "HTMLView",
            "style": "IPY_MODEL_f9c8db3187714c58b8c978e81783d161",
            "_dom_classes": [],
            "description": "",
            "_model_name": "HTMLModel",
            "placeholder": "​",
            "_view_module": "@jupyter-widgets/controls",
            "_model_module_version": "1.5.0",
            "value": "Downloading: ",
            "_view_count": null,
            "_view_module_version": "1.5.0",
            "description_tooltip": null,
            "_model_module": "@jupyter-widgets/controls",
            "layout": "IPY_MODEL_ec5690df47d94f0ba9680b1eb3ec93e5"
          }
        },
        "9efad7c5da9047c794416691a8d112b4": {
          "model_module": "@jupyter-widgets/controls",
          "model_name": "FloatProgressModel",
          "model_module_version": "1.5.0",
          "state": {
            "_view_name": "ProgressView",
            "style": "IPY_MODEL_db9dac014a4c45eda13cddc80b79cd7d",
            "_dom_classes": [],
            "description": "",
            "_model_name": "FloatProgressModel",
            "bar_style": "success",
            "max": 1947,
            "_view_module": "@jupyter-widgets/controls",
            "_model_module_version": "1.5.0",
            "value": 1947,
            "_view_count": null,
            "_view_module_version": "1.5.0",
            "orientation": "horizontal",
            "min": 0,
            "description_tooltip": null,
            "_model_module": "@jupyter-widgets/controls",
            "layout": "IPY_MODEL_66a6bcf99b814dabb7a1c095e7cb1099"
          }
        },
        "b4dc500e47db47cbafffa073dd851d2f": {
          "model_module": "@jupyter-widgets/controls",
          "model_name": "HTMLModel",
          "model_module_version": "1.5.0",
          "state": {
            "_view_name": "HTMLView",
            "style": "IPY_MODEL_b3aa8c43546949cc95272eb1e9e5dfc8",
            "_dom_classes": [],
            "description": "",
            "_model_name": "HTMLModel",
            "placeholder": "​",
            "_view_module": "@jupyter-widgets/controls",
            "_model_module_version": "1.5.0",
            "value": " 4.55k/? [00:00&lt;00:00, 107kB/s]",
            "_view_count": null,
            "_view_module_version": "1.5.0",
            "description_tooltip": null,
            "_model_module": "@jupyter-widgets/controls",
            "layout": "IPY_MODEL_196de78d27734613bb97a37b24c7752f"
          }
        },
        "f9c8db3187714c58b8c978e81783d161": {
          "model_module": "@jupyter-widgets/controls",
          "model_name": "DescriptionStyleModel",
          "model_module_version": "1.5.0",
          "state": {
            "_view_name": "StyleView",
            "_model_name": "DescriptionStyleModel",
            "description_width": "",
            "_view_module": "@jupyter-widgets/base",
            "_model_module_version": "1.5.0",
            "_view_count": null,
            "_view_module_version": "1.2.0",
            "_model_module": "@jupyter-widgets/controls"
          }
        },
        "ec5690df47d94f0ba9680b1eb3ec93e5": {
          "model_module": "@jupyter-widgets/base",
          "model_name": "LayoutModel",
          "model_module_version": "1.2.0",
          "state": {
            "_view_name": "LayoutView",
            "grid_template_rows": null,
            "right": null,
            "justify_content": null,
            "_view_module": "@jupyter-widgets/base",
            "overflow": null,
            "_model_module_version": "1.2.0",
            "_view_count": null,
            "flex_flow": null,
            "width": null,
            "min_width": null,
            "border": null,
            "align_items": null,
            "bottom": null,
            "_model_module": "@jupyter-widgets/base",
            "top": null,
            "grid_column": null,
            "overflow_y": null,
            "overflow_x": null,
            "grid_auto_flow": null,
            "grid_area": null,
            "grid_template_columns": null,
            "flex": null,
            "_model_name": "LayoutModel",
            "justify_items": null,
            "grid_row": null,
            "max_height": null,
            "align_content": null,
            "visibility": null,
            "align_self": null,
            "height": null,
            "min_height": null,
            "padding": null,
            "grid_auto_rows": null,
            "grid_gap": null,
            "max_width": null,
            "order": null,
            "_view_module_version": "1.2.0",
            "grid_template_areas": null,
            "object_position": null,
            "object_fit": null,
            "grid_auto_columns": null,
            "margin": null,
            "display": null,
            "left": null
          }
        },
        "db9dac014a4c45eda13cddc80b79cd7d": {
          "model_module": "@jupyter-widgets/controls",
          "model_name": "ProgressStyleModel",
          "model_module_version": "1.5.0",
          "state": {
            "_view_name": "StyleView",
            "_model_name": "ProgressStyleModel",
            "description_width": "",
            "_view_module": "@jupyter-widgets/base",
            "_model_module_version": "1.5.0",
            "_view_count": null,
            "_view_module_version": "1.2.0",
            "bar_color": null,
            "_model_module": "@jupyter-widgets/controls"
          }
        },
        "66a6bcf99b814dabb7a1c095e7cb1099": {
          "model_module": "@jupyter-widgets/base",
          "model_name": "LayoutModel",
          "model_module_version": "1.2.0",
          "state": {
            "_view_name": "LayoutView",
            "grid_template_rows": null,
            "right": null,
            "justify_content": null,
            "_view_module": "@jupyter-widgets/base",
            "overflow": null,
            "_model_module_version": "1.2.0",
            "_view_count": null,
            "flex_flow": null,
            "width": null,
            "min_width": null,
            "border": null,
            "align_items": null,
            "bottom": null,
            "_model_module": "@jupyter-widgets/base",
            "top": null,
            "grid_column": null,
            "overflow_y": null,
            "overflow_x": null,
            "grid_auto_flow": null,
            "grid_area": null,
            "grid_template_columns": null,
            "flex": null,
            "_model_name": "LayoutModel",
            "justify_items": null,
            "grid_row": null,
            "max_height": null,
            "align_content": null,
            "visibility": null,
            "align_self": null,
            "height": null,
            "min_height": null,
            "padding": null,
            "grid_auto_rows": null,
            "grid_gap": null,
            "max_width": null,
            "order": null,
            "_view_module_version": "1.2.0",
            "grid_template_areas": null,
            "object_position": null,
            "object_fit": null,
            "grid_auto_columns": null,
            "margin": null,
            "display": null,
            "left": null
          }
        },
        "b3aa8c43546949cc95272eb1e9e5dfc8": {
          "model_module": "@jupyter-widgets/controls",
          "model_name": "DescriptionStyleModel",
          "model_module_version": "1.5.0",
          "state": {
            "_view_name": "StyleView",
            "_model_name": "DescriptionStyleModel",
            "description_width": "",
            "_view_module": "@jupyter-widgets/base",
            "_model_module_version": "1.5.0",
            "_view_count": null,
            "_view_module_version": "1.2.0",
            "_model_module": "@jupyter-widgets/controls"
          }
        },
        "196de78d27734613bb97a37b24c7752f": {
          "model_module": "@jupyter-widgets/base",
          "model_name": "LayoutModel",
          "model_module_version": "1.2.0",
          "state": {
            "_view_name": "LayoutView",
            "grid_template_rows": null,
            "right": null,
            "justify_content": null,
            "_view_module": "@jupyter-widgets/base",
            "overflow": null,
            "_model_module_version": "1.2.0",
            "_view_count": null,
            "flex_flow": null,
            "width": null,
            "min_width": null,
            "border": null,
            "align_items": null,
            "bottom": null,
            "_model_module": "@jupyter-widgets/base",
            "top": null,
            "grid_column": null,
            "overflow_y": null,
            "overflow_x": null,
            "grid_auto_flow": null,
            "grid_area": null,
            "grid_template_columns": null,
            "flex": null,
            "_model_name": "LayoutModel",
            "justify_items": null,
            "grid_row": null,
            "max_height": null,
            "align_content": null,
            "visibility": null,
            "align_self": null,
            "height": null,
            "min_height": null,
            "padding": null,
            "grid_auto_rows": null,
            "grid_gap": null,
            "max_width": null,
            "order": null,
            "_view_module_version": "1.2.0",
            "grid_template_areas": null,
            "object_position": null,
            "object_fit": null,
            "grid_auto_columns": null,
            "margin": null,
            "display": null,
            "left": null
          }
        },
        "59bbb702361249e598440cf0963ae3d9": {
          "model_module": "@jupyter-widgets/controls",
          "model_name": "HBoxModel",
          "model_module_version": "1.5.0",
          "state": {
            "_view_name": "HBoxView",
            "_dom_classes": [],
            "_model_name": "HBoxModel",
            "_view_module": "@jupyter-widgets/controls",
            "_model_module_version": "1.5.0",
            "_view_count": null,
            "_view_module_version": "1.5.0",
            "box_style": "",
            "layout": "IPY_MODEL_a78b1be00b1d4491830016d9b8e9e1c1",
            "_model_module": "@jupyter-widgets/controls",
            "children": [
              "IPY_MODEL_8bbdb3e1a1b2467bb31a4d146a5bff48",
              "IPY_MODEL_84550416c6404707a4eb8c107452749a",
              "IPY_MODEL_2fff78e3b10f4f8296774a10e5ffa484"
            ]
          }
        },
        "a78b1be00b1d4491830016d9b8e9e1c1": {
          "model_module": "@jupyter-widgets/base",
          "model_name": "LayoutModel",
          "model_module_version": "1.2.0",
          "state": {
            "_view_name": "LayoutView",
            "grid_template_rows": null,
            "right": null,
            "justify_content": null,
            "_view_module": "@jupyter-widgets/base",
            "overflow": null,
            "_model_module_version": "1.2.0",
            "_view_count": null,
            "flex_flow": null,
            "width": null,
            "min_width": null,
            "border": null,
            "align_items": null,
            "bottom": null,
            "_model_module": "@jupyter-widgets/base",
            "top": null,
            "grid_column": null,
            "overflow_y": null,
            "overflow_x": null,
            "grid_auto_flow": null,
            "grid_area": null,
            "grid_template_columns": null,
            "flex": null,
            "_model_name": "LayoutModel",
            "justify_items": null,
            "grid_row": null,
            "max_height": null,
            "align_content": null,
            "visibility": null,
            "align_self": null,
            "height": null,
            "min_height": null,
            "padding": null,
            "grid_auto_rows": null,
            "grid_gap": null,
            "max_width": null,
            "order": null,
            "_view_module_version": "1.2.0",
            "grid_template_areas": null,
            "object_position": null,
            "object_fit": null,
            "grid_auto_columns": null,
            "margin": null,
            "display": null,
            "left": null
          }
        },
        "8bbdb3e1a1b2467bb31a4d146a5bff48": {
          "model_module": "@jupyter-widgets/controls",
          "model_name": "HTMLModel",
          "model_module_version": "1.5.0",
          "state": {
            "_view_name": "HTMLView",
            "style": "IPY_MODEL_bcfe202f813845c1a5b9e6ebffd304f9",
            "_dom_classes": [],
            "description": "",
            "_model_name": "HTMLModel",
            "placeholder": "​",
            "_view_module": "@jupyter-widgets/controls",
            "_model_module_version": "1.5.0",
            "value": "Downloading: 100%",
            "_view_count": null,
            "_view_module_version": "1.5.0",
            "description_tooltip": null,
            "_model_module": "@jupyter-widgets/controls",
            "layout": "IPY_MODEL_3a5197d10d19417ab4c312df1504c620"
          }
        },
        "84550416c6404707a4eb8c107452749a": {
          "model_module": "@jupyter-widgets/controls",
          "model_name": "FloatProgressModel",
          "model_module_version": "1.5.0",
          "state": {
            "_view_name": "ProgressView",
            "style": "IPY_MODEL_17419c69e6e54188ad00b998ce429e49",
            "_dom_classes": [],
            "description": "",
            "_model_name": "FloatProgressModel",
            "bar_style": "success",
            "max": 1568,
            "_view_module": "@jupyter-widgets/controls",
            "_model_module_version": "1.5.0",
            "value": 1568,
            "_view_count": null,
            "_view_module_version": "1.5.0",
            "orientation": "horizontal",
            "min": 0,
            "description_tooltip": null,
            "_model_module": "@jupyter-widgets/controls",
            "layout": "IPY_MODEL_7297b29e0b8c4df4829239dc14a1dd20"
          }
        },
        "2fff78e3b10f4f8296774a10e5ffa484": {
          "model_module": "@jupyter-widgets/controls",
          "model_name": "HTMLModel",
          "model_module_version": "1.5.0",
          "state": {
            "_view_name": "HTMLView",
            "style": "IPY_MODEL_ef9f8adb25e249e0aaa3a0265acfe4f5",
            "_dom_classes": [],
            "description": "",
            "_model_name": "HTMLModel",
            "placeholder": "​",
            "_view_module": "@jupyter-widgets/controls",
            "_model_module_version": "1.5.0",
            "value": " 1.53k/1.53k [00:00&lt;00:00, 36.9kB/s]",
            "_view_count": null,
            "_view_module_version": "1.5.0",
            "description_tooltip": null,
            "_model_module": "@jupyter-widgets/controls",
            "layout": "IPY_MODEL_8fa0bc583c9f4a97b62f2e3f6d727c17"
          }
        },
        "bcfe202f813845c1a5b9e6ebffd304f9": {
          "model_module": "@jupyter-widgets/controls",
          "model_name": "DescriptionStyleModel",
          "model_module_version": "1.5.0",
          "state": {
            "_view_name": "StyleView",
            "_model_name": "DescriptionStyleModel",
            "description_width": "",
            "_view_module": "@jupyter-widgets/base",
            "_model_module_version": "1.5.0",
            "_view_count": null,
            "_view_module_version": "1.2.0",
            "_model_module": "@jupyter-widgets/controls"
          }
        },
        "3a5197d10d19417ab4c312df1504c620": {
          "model_module": "@jupyter-widgets/base",
          "model_name": "LayoutModel",
          "model_module_version": "1.2.0",
          "state": {
            "_view_name": "LayoutView",
            "grid_template_rows": null,
            "right": null,
            "justify_content": null,
            "_view_module": "@jupyter-widgets/base",
            "overflow": null,
            "_model_module_version": "1.2.0",
            "_view_count": null,
            "flex_flow": null,
            "width": null,
            "min_width": null,
            "border": null,
            "align_items": null,
            "bottom": null,
            "_model_module": "@jupyter-widgets/base",
            "top": null,
            "grid_column": null,
            "overflow_y": null,
            "overflow_x": null,
            "grid_auto_flow": null,
            "grid_area": null,
            "grid_template_columns": null,
            "flex": null,
            "_model_name": "LayoutModel",
            "justify_items": null,
            "grid_row": null,
            "max_height": null,
            "align_content": null,
            "visibility": null,
            "align_self": null,
            "height": null,
            "min_height": null,
            "padding": null,
            "grid_auto_rows": null,
            "grid_gap": null,
            "max_width": null,
            "order": null,
            "_view_module_version": "1.2.0",
            "grid_template_areas": null,
            "object_position": null,
            "object_fit": null,
            "grid_auto_columns": null,
            "margin": null,
            "display": null,
            "left": null
          }
        },
        "17419c69e6e54188ad00b998ce429e49": {
          "model_module": "@jupyter-widgets/controls",
          "model_name": "ProgressStyleModel",
          "model_module_version": "1.5.0",
          "state": {
            "_view_name": "StyleView",
            "_model_name": "ProgressStyleModel",
            "description_width": "",
            "_view_module": "@jupyter-widgets/base",
            "_model_module_version": "1.5.0",
            "_view_count": null,
            "_view_module_version": "1.2.0",
            "bar_color": null,
            "_model_module": "@jupyter-widgets/controls"
          }
        },
        "7297b29e0b8c4df4829239dc14a1dd20": {
          "model_module": "@jupyter-widgets/base",
          "model_name": "LayoutModel",
          "model_module_version": "1.2.0",
          "state": {
            "_view_name": "LayoutView",
            "grid_template_rows": null,
            "right": null,
            "justify_content": null,
            "_view_module": "@jupyter-widgets/base",
            "overflow": null,
            "_model_module_version": "1.2.0",
            "_view_count": null,
            "flex_flow": null,
            "width": null,
            "min_width": null,
            "border": null,
            "align_items": null,
            "bottom": null,
            "_model_module": "@jupyter-widgets/base",
            "top": null,
            "grid_column": null,
            "overflow_y": null,
            "overflow_x": null,
            "grid_auto_flow": null,
            "grid_area": null,
            "grid_template_columns": null,
            "flex": null,
            "_model_name": "LayoutModel",
            "justify_items": null,
            "grid_row": null,
            "max_height": null,
            "align_content": null,
            "visibility": null,
            "align_self": null,
            "height": null,
            "min_height": null,
            "padding": null,
            "grid_auto_rows": null,
            "grid_gap": null,
            "max_width": null,
            "order": null,
            "_view_module_version": "1.2.0",
            "grid_template_areas": null,
            "object_position": null,
            "object_fit": null,
            "grid_auto_columns": null,
            "margin": null,
            "display": null,
            "left": null
          }
        },
        "ef9f8adb25e249e0aaa3a0265acfe4f5": {
          "model_module": "@jupyter-widgets/controls",
          "model_name": "DescriptionStyleModel",
          "model_module_version": "1.5.0",
          "state": {
            "_view_name": "StyleView",
            "_model_name": "DescriptionStyleModel",
            "description_width": "",
            "_view_module": "@jupyter-widgets/base",
            "_model_module_version": "1.5.0",
            "_view_count": null,
            "_view_module_version": "1.2.0",
            "_model_module": "@jupyter-widgets/controls"
          }
        },
        "8fa0bc583c9f4a97b62f2e3f6d727c17": {
          "model_module": "@jupyter-widgets/base",
          "model_name": "LayoutModel",
          "model_module_version": "1.2.0",
          "state": {
            "_view_name": "LayoutView",
            "grid_template_rows": null,
            "right": null,
            "justify_content": null,
            "_view_module": "@jupyter-widgets/base",
            "overflow": null,
            "_model_module_version": "1.2.0",
            "_view_count": null,
            "flex_flow": null,
            "width": null,
            "min_width": null,
            "border": null,
            "align_items": null,
            "bottom": null,
            "_model_module": "@jupyter-widgets/base",
            "top": null,
            "grid_column": null,
            "overflow_y": null,
            "overflow_x": null,
            "grid_auto_flow": null,
            "grid_area": null,
            "grid_template_columns": null,
            "flex": null,
            "_model_name": "LayoutModel",
            "justify_items": null,
            "grid_row": null,
            "max_height": null,
            "align_content": null,
            "visibility": null,
            "align_self": null,
            "height": null,
            "min_height": null,
            "padding": null,
            "grid_auto_rows": null,
            "grid_gap": null,
            "max_width": null,
            "order": null,
            "_view_module_version": "1.2.0",
            "grid_template_areas": null,
            "object_position": null,
            "object_fit": null,
            "grid_auto_columns": null,
            "margin": null,
            "display": null,
            "left": null
          }
        },
        "9f0bf8804d1841ff90f3207c377f635b": {
          "model_module": "@jupyter-widgets/controls",
          "model_name": "HBoxModel",
          "model_module_version": "1.5.0",
          "state": {
            "_view_name": "HBoxView",
            "_dom_classes": [],
            "_model_name": "HBoxModel",
            "_view_module": "@jupyter-widgets/controls",
            "_model_module_version": "1.5.0",
            "_view_count": null,
            "_view_module_version": "1.5.0",
            "box_style": "",
            "layout": "IPY_MODEL_4a525feef19541fca04e89ccea702d7d",
            "_model_module": "@jupyter-widgets/controls",
            "children": [
              "IPY_MODEL_df9bceda74b24b2e81c7d1ea60dbfc62",
              "IPY_MODEL_b0e1b58e832f40859b1e7cf2ace77e4d",
              "IPY_MODEL_ca05210b4ee94f0281c013435dc00f47"
            ]
          }
        },
        "4a525feef19541fca04e89ccea702d7d": {
          "model_module": "@jupyter-widgets/base",
          "model_name": "LayoutModel",
          "model_module_version": "1.2.0",
          "state": {
            "_view_name": "LayoutView",
            "grid_template_rows": null,
            "right": null,
            "justify_content": null,
            "_view_module": "@jupyter-widgets/base",
            "overflow": null,
            "_model_module_version": "1.2.0",
            "_view_count": null,
            "flex_flow": null,
            "width": null,
            "min_width": null,
            "border": null,
            "align_items": null,
            "bottom": null,
            "_model_module": "@jupyter-widgets/base",
            "top": null,
            "grid_column": null,
            "overflow_y": null,
            "overflow_x": null,
            "grid_auto_flow": null,
            "grid_area": null,
            "grid_template_columns": null,
            "flex": null,
            "_model_name": "LayoutModel",
            "justify_items": null,
            "grid_row": null,
            "max_height": null,
            "align_content": null,
            "visibility": null,
            "align_self": null,
            "height": null,
            "min_height": null,
            "padding": null,
            "grid_auto_rows": null,
            "grid_gap": null,
            "max_width": null,
            "order": null,
            "_view_module_version": "1.2.0",
            "grid_template_areas": null,
            "object_position": null,
            "object_fit": null,
            "grid_auto_columns": null,
            "margin": null,
            "display": null,
            "left": null
          }
        },
        "df9bceda74b24b2e81c7d1ea60dbfc62": {
          "model_module": "@jupyter-widgets/controls",
          "model_name": "HTMLModel",
          "model_module_version": "1.5.0",
          "state": {
            "_view_name": "HTMLView",
            "style": "IPY_MODEL_5716d344cce3452d912272ee56f4be32",
            "_dom_classes": [],
            "description": "",
            "_model_name": "HTMLModel",
            "placeholder": "​",
            "_view_module": "@jupyter-widgets/controls",
            "_model_module_version": "1.5.0",
            "value": "Downloading: 100%",
            "_view_count": null,
            "_view_module_version": "1.5.0",
            "description_tooltip": null,
            "_model_module": "@jupyter-widgets/controls",
            "layout": "IPY_MODEL_6e3fae241fd7404b99f7af5904966555"
          }
        },
        "b0e1b58e832f40859b1e7cf2ace77e4d": {
          "model_module": "@jupyter-widgets/controls",
          "model_name": "FloatProgressModel",
          "model_module_version": "1.5.0",
          "state": {
            "_view_name": "ProgressView",
            "style": "IPY_MODEL_8739c392b09747489ac15e0e29831ac2",
            "_dom_classes": [],
            "description": "",
            "_model_name": "FloatProgressModel",
            "bar_style": "success",
            "max": 1269737156,
            "_view_module": "@jupyter-widgets/controls",
            "_model_module_version": "1.5.0",
            "value": 1269737156,
            "_view_count": null,
            "_view_module_version": "1.5.0",
            "orientation": "horizontal",
            "min": 0,
            "description_tooltip": null,
            "_model_module": "@jupyter-widgets/controls",
            "layout": "IPY_MODEL_d97aa9fbe3584533a0fc80f97f268d37"
          }
        },
        "ca05210b4ee94f0281c013435dc00f47": {
          "model_module": "@jupyter-widgets/controls",
          "model_name": "HTMLModel",
          "model_module_version": "1.5.0",
          "state": {
            "_view_name": "HTMLView",
            "style": "IPY_MODEL_9786c0eada834652a375f0929964303d",
            "_dom_classes": [],
            "description": "",
            "_model_name": "HTMLModel",
            "placeholder": "​",
            "_view_module": "@jupyter-widgets/controls",
            "_model_module_version": "1.5.0",
            "value": " 1.18G/1.18G [00:46&lt;00:00, 28.6MB/s]",
            "_view_count": null,
            "_view_module_version": "1.5.0",
            "description_tooltip": null,
            "_model_module": "@jupyter-widgets/controls",
            "layout": "IPY_MODEL_cf6e2965099645229b99b905a5920d26"
          }
        },
        "5716d344cce3452d912272ee56f4be32": {
          "model_module": "@jupyter-widgets/controls",
          "model_name": "DescriptionStyleModel",
          "model_module_version": "1.5.0",
          "state": {
            "_view_name": "StyleView",
            "_model_name": "DescriptionStyleModel",
            "description_width": "",
            "_view_module": "@jupyter-widgets/base",
            "_model_module_version": "1.5.0",
            "_view_count": null,
            "_view_module_version": "1.2.0",
            "_model_module": "@jupyter-widgets/controls"
          }
        },
        "6e3fae241fd7404b99f7af5904966555": {
          "model_module": "@jupyter-widgets/base",
          "model_name": "LayoutModel",
          "model_module_version": "1.2.0",
          "state": {
            "_view_name": "LayoutView",
            "grid_template_rows": null,
            "right": null,
            "justify_content": null,
            "_view_module": "@jupyter-widgets/base",
            "overflow": null,
            "_model_module_version": "1.2.0",
            "_view_count": null,
            "flex_flow": null,
            "width": null,
            "min_width": null,
            "border": null,
            "align_items": null,
            "bottom": null,
            "_model_module": "@jupyter-widgets/base",
            "top": null,
            "grid_column": null,
            "overflow_y": null,
            "overflow_x": null,
            "grid_auto_flow": null,
            "grid_area": null,
            "grid_template_columns": null,
            "flex": null,
            "_model_name": "LayoutModel",
            "justify_items": null,
            "grid_row": null,
            "max_height": null,
            "align_content": null,
            "visibility": null,
            "align_self": null,
            "height": null,
            "min_height": null,
            "padding": null,
            "grid_auto_rows": null,
            "grid_gap": null,
            "max_width": null,
            "order": null,
            "_view_module_version": "1.2.0",
            "grid_template_areas": null,
            "object_position": null,
            "object_fit": null,
            "grid_auto_columns": null,
            "margin": null,
            "display": null,
            "left": null
          }
        },
        "8739c392b09747489ac15e0e29831ac2": {
          "model_module": "@jupyter-widgets/controls",
          "model_name": "ProgressStyleModel",
          "model_module_version": "1.5.0",
          "state": {
            "_view_name": "StyleView",
            "_model_name": "ProgressStyleModel",
            "description_width": "",
            "_view_module": "@jupyter-widgets/base",
            "_model_module_version": "1.5.0",
            "_view_count": null,
            "_view_module_version": "1.2.0",
            "bar_color": null,
            "_model_module": "@jupyter-widgets/controls"
          }
        },
        "d97aa9fbe3584533a0fc80f97f268d37": {
          "model_module": "@jupyter-widgets/base",
          "model_name": "LayoutModel",
          "model_module_version": "1.2.0",
          "state": {
            "_view_name": "LayoutView",
            "grid_template_rows": null,
            "right": null,
            "justify_content": null,
            "_view_module": "@jupyter-widgets/base",
            "overflow": null,
            "_model_module_version": "1.2.0",
            "_view_count": null,
            "flex_flow": null,
            "width": null,
            "min_width": null,
            "border": null,
            "align_items": null,
            "bottom": null,
            "_model_module": "@jupyter-widgets/base",
            "top": null,
            "grid_column": null,
            "overflow_y": null,
            "overflow_x": null,
            "grid_auto_flow": null,
            "grid_area": null,
            "grid_template_columns": null,
            "flex": null,
            "_model_name": "LayoutModel",
            "justify_items": null,
            "grid_row": null,
            "max_height": null,
            "align_content": null,
            "visibility": null,
            "align_self": null,
            "height": null,
            "min_height": null,
            "padding": null,
            "grid_auto_rows": null,
            "grid_gap": null,
            "max_width": null,
            "order": null,
            "_view_module_version": "1.2.0",
            "grid_template_areas": null,
            "object_position": null,
            "object_fit": null,
            "grid_auto_columns": null,
            "margin": null,
            "display": null,
            "left": null
          }
        },
        "9786c0eada834652a375f0929964303d": {
          "model_module": "@jupyter-widgets/controls",
          "model_name": "DescriptionStyleModel",
          "model_module_version": "1.5.0",
          "state": {
            "_view_name": "StyleView",
            "_model_name": "DescriptionStyleModel",
            "description_width": "",
            "_view_module": "@jupyter-widgets/base",
            "_model_module_version": "1.5.0",
            "_view_count": null,
            "_view_module_version": "1.2.0",
            "_model_module": "@jupyter-widgets/controls"
          }
        },
        "cf6e2965099645229b99b905a5920d26": {
          "model_module": "@jupyter-widgets/base",
          "model_name": "LayoutModel",
          "model_module_version": "1.2.0",
          "state": {
            "_view_name": "LayoutView",
            "grid_template_rows": null,
            "right": null,
            "justify_content": null,
            "_view_module": "@jupyter-widgets/base",
            "overflow": null,
            "_model_module_version": "1.2.0",
            "_view_count": null,
            "flex_flow": null,
            "width": null,
            "min_width": null,
            "border": null,
            "align_items": null,
            "bottom": null,
            "_model_module": "@jupyter-widgets/base",
            "top": null,
            "grid_column": null,
            "overflow_y": null,
            "overflow_x": null,
            "grid_auto_flow": null,
            "grid_area": null,
            "grid_template_columns": null,
            "flex": null,
            "_model_name": "LayoutModel",
            "justify_items": null,
            "grid_row": null,
            "max_height": null,
            "align_content": null,
            "visibility": null,
            "align_self": null,
            "height": null,
            "min_height": null,
            "padding": null,
            "grid_auto_rows": null,
            "grid_gap": null,
            "max_width": null,
            "order": null,
            "_view_module_version": "1.2.0",
            "grid_template_areas": null,
            "object_position": null,
            "object_fit": null,
            "grid_auto_columns": null,
            "margin": null,
            "display": null,
            "left": null
          }
        }
      }
    },
    "accelerator": "GPU"
  },
  "cells": [
    {
      "cell_type": "markdown",
      "metadata": {
        "id": "view-in-github",
        "colab_type": "text"
      },
      "source": [
        "<a href=\"https://colab.research.google.com/github/hossein-khalilian/wav2vec-2-for-Persian/blob/main/Fine_Tune_XLS_R_on_Common_Voice_for_Persian.ipynb\" target=\"_parent\"><img src=\"https://colab.research.google.com/assets/colab-badge.svg\" alt=\"Open In Colab\"/></a>"
      ]
    },
    {
      "cell_type": "markdown",
      "metadata": {
        "id": "LBSYoWbi-45k"
      },
      "source": [
        "# **Fine-tuning XLS-R for Multi-Lingual ASR with 🤗 Transformers for Persian(fa)**\n"
      ]
    },
    {
      "cell_type": "markdown",
      "metadata": {
        "id": "V7YOT2mnUiea"
      },
      "source": [
        "**Wav2Vec2** is a pretrained model for Automatic Speech Recognition (ASR) and was released in [September 2020](https://ai.facebook.com/blog/wav2vec-20-learning-the-structure-of-speech-from-raw-audio/) by *Alexei Baevski, Michael Auli, and Alex Conneau*.  Soon after the superior performance of Wav2Vec2 was demonstrated on one of the most popular English datasets for ASR, called [LibriSpeech](https://huggingface.co/datasets/librispeech_asr), *Facebook AI* presented a multi-lingual version of Wav2Vec2, called [XLSR](https://arxiv.org/abs/2006.13979). XLSR stands for *cross-lingual speech representations* and refers to model's ability to learn speech representations that are useful across multiple languages.\n",
        "\n",
        "XLSR's successor, simply called **XLS-R** (refering to the [*''XLM-R*](https://ai.facebook.com/blog/-xlm-r-state-of-the-art-cross-lingual-understanding-through-self-supervision/) *for Speech''*), was released in [November 2021](https://ai.facebook.com/blog/xls-r-self-supervised-speech-processing-for-128-languages) by *Arun Babu, Changhan Wang, Andros Tjandra, et al.* XLS-R used almost **half a million** hours of audio data in 128 languages for self-supervised pre-training and comes in sizes ranging from 300 milion up to **two billion** parameters. You can find the pretrained checkpoints on the 🤗 Hub:\n",
        "\n",
        "- [**Wav2Vec2-XLS-R-300M**](https://huggingface.co/facebook/wav2vec2-xls-r-300m)\n",
        "- [**Wav2Vec2-XLS-R-1B**](https://huggingface.co/facebook/wav2vec2-xls-r-1b)\n",
        "- [**Wav2Vec2-XLS-R-2B**](https://huggingface.co/facebook/wav2vec2-xls-r-2b)\n",
        "\n",
        "Similar to [BERT's masked language modeling objective](http://jalammar.github.io/illustrated-bert/), XLS-R learns contextualized speech representations by randomly masking feature vectors before passing them to a transformer network during self-supervised pre-training (*i.e.* diagram on the left below). \n",
        "\n",
        "For fine-tuning, a single linear layer is added on top of the pre-trained network to train the model on labeled data of audio downstream tasks such as speech recognition, speech translation and audio classification (*i.e.* diagram on the right below).\n",
        "\n",
        "![wav2vec2_structure](https://raw.githubusercontent.com/patrickvonplaten/scientific_images/master/xls_r.png)\n",
        "\n",
        "XLS-R shows impressive improvements over previous state-of-the-art results on both speech recognition, speech translation and speaker/language identification, *cf.* with Table 3-6, Table 7-10, and Table 11-12 respectively of the official [paper](https://ai.facebook.com/blog/xls-r-self-supervised-speech-processing-for-128-languages)."
      ]
    },
    {
      "cell_type": "markdown",
      "metadata": {
        "id": "nT_QrfWtsxIz"
      },
      "source": [
        "## Notebook Setup"
      ]
    },
    {
      "cell_type": "markdown",
      "metadata": {
        "id": "kruqixOYHaIo"
      },
      "source": [
        "\n",
        "In this notebook, we will fine-tune an XLS-R - more specifically the pre-trained checkpoint [**Wav2Vec2-XLS-R-300M**](https://huggingface.co/facebook/wav2vec2-xls-r-300m) - for Persian Common Voice dataset.  \n"
      ]
    },
    {
      "cell_type": "markdown",
      "metadata": {
        "id": "Gx9OdDYrCtQ1"
      },
      "source": [
        "XLS-R is fine-tuned using Connectionist Temporal Classification (CTC), which is an algorithm that is used to train neural networks for sequence-to-sequence problems, such as ASR and handwriting recognition. \n",
        "\n",
        "I highly recommend reading the well-written blog post [*Sequence Modeling with CTC (2017)*](https://distill.pub/2017/ctc/) by Awni Hannun."
      ]
    },
    {
      "cell_type": "markdown",
      "metadata": {
        "id": "wcHuXIaWyHZU"
      },
      "source": [
        "First, let's try to get a good GPU in our colab! With Google Colab's free version it's sadly becoming much harder to get access to a good GPU. With Google Colab Pro, however, one should easily get either a V100 or P100 GPU."
      ]
    },
    {
      "cell_type": "code",
      "metadata": {
        "colab": {
          "base_uri": "https://localhost:8080/"
        },
        "id": "YELVqGxMxnbG",
        "outputId": "564d8a15-b469-4a20-c4fa-2a8c4facf2c3"
      },
      "source": [
        "gpu_info = !nvidia-smi\n",
        "gpu_info = '\\n'.join(gpu_info)\n",
        "if gpu_info.find('failed') >= 0:\n",
        "  print('Not connected to a GPU')\n",
        "else:\n",
        "  print(gpu_info)"
      ],
      "execution_count": null,
      "outputs": [
        {
          "output_type": "stream",
          "name": "stdout",
          "text": [
            "Wed Dec  1 09:59:51 2021       \n",
            "+-----------------------------------------------------------------------------+\n",
            "| NVIDIA-SMI 495.44       Driver Version: 460.32.03    CUDA Version: 11.2     |\n",
            "|-------------------------------+----------------------+----------------------+\n",
            "| GPU  Name        Persistence-M| Bus-Id        Disp.A | Volatile Uncorr. ECC |\n",
            "| Fan  Temp  Perf  Pwr:Usage/Cap|         Memory-Usage | GPU-Util  Compute M. |\n",
            "|                               |                      |               MIG M. |\n",
            "|===============================+======================+======================|\n",
            "|   0  Tesla K80           Off  | 00000000:00:04.0 Off |                    0 |\n",
            "| N/A   36C    P8    28W / 149W |      0MiB / 11441MiB |      0%      Default |\n",
            "|                               |                      |                  N/A |\n",
            "+-------------------------------+----------------------+----------------------+\n",
            "                                                                               \n",
            "+-----------------------------------------------------------------------------+\n",
            "| Processes:                                                                  |\n",
            "|  GPU   GI   CI        PID   Type   Process name                  GPU Memory |\n",
            "|        ID   ID                                                   Usage      |\n",
            "|=============================================================================|\n",
            "|  No running processes found                                                 |\n",
            "+-----------------------------------------------------------------------------+\n"
          ]
        }
      ]
    },
    {
      "cell_type": "markdown",
      "metadata": {
        "id": "e335hPmdtASZ"
      },
      "source": [
        "Before we start, let's install `datasets` and `transformers`. Also, we need the `torchaudio` to load audio files and `jiwer` to evaluate our fine-tuned model using the [word error rate (WER)](https://huggingface.co/metrics/wer) metric ${}^1$."
      ]
    },
    {
      "cell_type": "code",
      "metadata": {
        "id": "c8eh87Hoee5d"
      },
      "source": [
        "%%capture\n",
        "!pip install datasets==1.13.3\n",
        "!pip install transformers==4.11.3\n",
        "!pip install huggingface_hub==0.1\n",
        "!pip install torchaudio==0.10.0+cu113 -f https://download.pytorch.org/whl/cu113/torch_stable.html\n",
        "!pip install jiwer"
      ],
      "execution_count": 1,
      "outputs": []
    },
    {
      "cell_type": "markdown",
      "metadata": {
        "id": "0xxt_LwxDQlO"
      },
      "source": [
        "We strongly suggest to upload your training checkpoints directly to the [🤗 Hub](https://huggingface.co/) while training. The [🤗 Hub](https://huggingface.co/) has integrated version control so you can be sure that no model checkpoint is getting lost during training. \n",
        "\n",
        "To do so you have to store your authentication token from the Hugging Face website (sign up [here](https://huggingface.co/join) if you haven't already!)"
      ]
    },
    {
      "cell_type": "code",
      "metadata": {
        "id": "mlMSH3T3EazV"
      },
      "source": [
        "# from huggingface_hub import notebook_login\n",
        "\n",
        "# notebook_login()"
      ],
      "execution_count": 3,
      "outputs": []
    },
    {
      "cell_type": "markdown",
      "metadata": {
        "id": "ujdZ2TxhElk6"
      },
      "source": [
        "\n",
        "Then you need to install Git-LFS to upload your model checkpoints:"
      ]
    },
    {
      "cell_type": "code",
      "metadata": {
        "id": "WcR-d83OEkqb"
      },
      "source": [
        "# %%capture\n",
        "# !apt install git-lfs"
      ],
      "execution_count": 4,
      "outputs": []
    },
    {
      "cell_type": "markdown",
      "metadata": {
        "id": "Mn9swf6EQ9Vd"
      },
      "source": [
        "\n",
        "\n",
        "\n",
        "---\n",
        "\n",
        "${}^1$ In the [paper](https://arxiv.org/pdf/2006.13979.pdf), the model was evaluated using the phoneme error rate (PER), but by far the most common metric in ASR is the word error rate (WER). To keep this notebook as general as possible we decided to evaluate the model using WER."
      ]
    },
    {
      "cell_type": "markdown",
      "metadata": {
        "id": "0mW-C1Nt-j7k"
      },
      "source": [
        "## Prepare Data, Tokenizer, Feature Extractor"
      ]
    },
    {
      "cell_type": "markdown",
      "metadata": {
        "id": "BeBosnY9BH3e"
      },
      "source": [
        "ASR models transcribe speech to text, which means that we both need a feature extractor that processes the speech signal to the model's input format, *e.g.* a feature vector, and a tokenizer that processes the model's output format to text. \n",
        "\n",
        "In 🤗 Transformers, the XLS-R model is thus accompanied by both a tokenizer, called [Wav2Vec2CTCTokenizer](https://huggingface.co/transformers/master/model_doc/wav2vec2.html#wav2vec2ctctokenizer), and a feature extractor, called [Wav2Vec2FeatureExtractor](https://huggingface.co/transformers/master/model_doc/wav2vec2.html#wav2vec2featureextractor).\n",
        "\n",
        "Let's start by creating the tokenizer to decode the predicted output classes to the output transcription."
      ]
    },
    {
      "cell_type": "markdown",
      "metadata": {
        "id": "sEXEWEJGQPqD"
      },
      "source": [
        "### Create `Wav2Vec2CTCTokenizer`"
      ]
    },
    {
      "cell_type": "markdown",
      "metadata": {
        "id": "tWmMikuNEKl_"
      },
      "source": [
        "A pre-trained XLS-R model maps the speech signal to a sequence of context representations as illustrated in the figure above. However, for speech recognition the model has to to map this sequence of context representations to its corresponding transcription which means that a linear layer has to be added on top of the transformer block (shown in yellow in the diagram above). This linear layer is used to classifies each context representation to a token class analogous how, *e.g.*, after pretraining a linear layer is added on top of BERT's embeddings for further classification - *cf.* with *'BERT'* section of this [blog post](https://huggingface.co/blog/warm-starting-encoder-decoder)."
      ]
    },
    {
      "cell_type": "markdown",
      "metadata": {
        "id": "v5oRE8XjIUH3"
      },
      "source": [
        "The output size of this layer corresponds to the number of tokens in the vocabulary, which does **not** depend onXLS-R's pretraining task, but only on the labeled dataset used for fine-tuning. So in the first step, we will take a look at the chosen dataset of Common Voice and define a vocabulary based on the transcriptions."
      ]
    },
    {
      "cell_type": "markdown",
      "metadata": {
        "id": "idBczw8mWzgt"
      },
      "source": [
        "First, let's go to Common Voice [official website](https://commonvoice.mozilla.org/en/datasets) and pick a language to fine-tune XLS-R on. For this notebook, we will use Persian. \n",
        "\n",
        "For each language-specific dataset, you can find a language code corresponding to your chosen language. On [Common Voice](https://commonvoice.mozilla.org/en/datasets), look for the field \"Version\". The language code then corresponds to the prefix before the underscore. For Persian, *e.g.* the language code is `\"fa\"`.\n",
        "\n",
        "Great, now we can use 🤗 Datasets' simple API to download the data. The dataset name is `\"common_voice\"`, the configuration name corresponds to the language code, which is `\"fa\"` in our case."
      ]
    },
    {
      "cell_type": "markdown",
      "metadata": {
        "id": "bee4g9rpLxll"
      },
      "source": [
        "Common Voice has many different splits including `invalidated`, which refers to data that was not rated as \"clean enough\" to be considered useful. In this notebook, we will only make use of the splits `\"train\"`, `\"validation\"` and `\"test\"`. \n",
        "\n",
        "Because the Persian dataset is so small, we will merge both the validation and training data into a training dataset and only use the test data for validation."
      ]
    },
    {
      "cell_type": "code",
      "metadata": {
        "id": "2MMXcWFFgCXU"
      },
      "source": [
        "from datasets import load_dataset, load_metric, Audio\n",
        "\n",
        "common_voice_train = load_dataset(\"common_voice\", \"fa\", split=\"train+validation\")\n",
        "common_voice_test = load_dataset(\"common_voice\", \"fa\", split=\"test\")"
      ],
      "execution_count": 9,
      "outputs": []
    },
    {
      "cell_type": "code",
      "metadata": {
        "id": "aUZJPcF-Ks2n"
      },
      "source": [
        "# common_voice_test['audio'][0]"
      ],
      "execution_count": 10,
      "outputs": []
    },
    {
      "cell_type": "markdown",
      "metadata": {
        "id": "ri5y5N_HMANq"
      },
      "source": [
        "Many ASR datasets only provide the target text, `'sentence'` for each audio array `'audio'` and file `'path'`. Common Voice actually provides much more information about each audio file, such as the `'accent'`, etc. Keeping the notebook as general as possible, we only consider the transcribed text for fine-tuning.\n",
        "\n"
      ]
    },
    {
      "cell_type": "code",
      "metadata": {
        "id": "kbyq6lDgQc2a"
      },
      "source": [
        "common_voice_train = common_voice_train.remove_columns([\"accent\", \"age\", \"client_id\", \"down_votes\", \"gender\", \"locale\", \"segment\", \"up_votes\"])\n",
        "common_voice_test = common_voice_test.remove_columns([\"accent\", \"age\", \"client_id\", \"down_votes\", \"gender\", \"locale\", \"segment\", \"up_votes\"])"
      ],
      "execution_count": null,
      "outputs": []
    },
    {
      "cell_type": "markdown",
      "metadata": {
        "id": "Go9Hq4e4NDT9"
      },
      "source": [
        "Let's write a short function to display some random samples of the dataset and run it a couple of times to get a feeling for the transcriptions."
      ]
    },
    {
      "cell_type": "code",
      "metadata": {
        "id": "72737oog2F6U",
        "colab": {
          "base_uri": "https://localhost:8080/"
        },
        "outputId": "1d1c961d-5c96-4933-e88a-7e2213f033b2"
      },
      "source": [
        "from datasets import ClassLabel\n",
        "import random\n",
        "import pandas as pd\n",
        "from IPython.display import display, HTML\n",
        "\n",
        "def show_random_elements(dataset, num_examples=10):\n",
        "    assert num_examples <= len(dataset), \"Can't pick more elements than there are in the dataset.\"\n",
        "    picks = []\n",
        "    for _ in range(num_examples):\n",
        "        pick = random.randint(0, len(dataset)-1)\n",
        "        while pick in picks:\n",
        "            pick = random.randint(0, len(dataset)-1)\n",
        "        picks.append(pick)\n",
        "    \n",
        "    df = pd.DataFrame(dataset[picks])\n",
        "    display(HTML(df.to_html()))\n",
        "\n",
        "show_random_elements(common_voice_train.remove_columns([\"path\", \"audio\"]), num_examples=10)"
      ],
      "execution_count": null,
      "outputs": [
        {
          "output_type": "display_data",
          "data": {
            "text/html": [
              "<table border=\"1\" class=\"dataframe\">\n",
              "  <thead>\n",
              "    <tr style=\"text-align: right;\">\n",
              "      <th></th>\n",
              "      <th>sentence</th>\n",
              "    </tr>\n",
              "  </thead>\n",
              "  <tbody>\n",
              "    <tr>\n",
              "      <th>0</th>\n",
              "      <td>اگه قراره کسی از این خونه بره شما هستین.</td>\n",
              "    </tr>\n",
              "    <tr>\n",
              "      <th>1</th>\n",
              "      <td>چاد</td>\n",
              "    </tr>\n",
              "    <tr>\n",
              "      <th>2</th>\n",
              "      <td>اوه ، خداي من. چي شده؟</td>\n",
              "    </tr>\n",
              "    <tr>\n",
              "      <th>3</th>\n",
              "      <td>متاسفم نمی توانید آن را ببرید.</td>\n",
              "    </tr>\n",
              "    <tr>\n",
              "      <th>4</th>\n",
              "      <td>می توانم یک پتو داشته باشم؟</td>\n",
              "    </tr>\n",
              "    <tr>\n",
              "      <th>5</th>\n",
              "      <td>آیا برادرت از تو بزرگتر است؟</td>\n",
              "    </tr>\n",
              "    <tr>\n",
              "      <th>6</th>\n",
              "      <td>آن ماشین را دنبال کن!</td>\n",
              "    </tr>\n",
              "    <tr>\n",
              "      <th>7</th>\n",
              "      <td>باید یک گزارش رسمی تهیه کنید.</td>\n",
              "    </tr>\n",
              "    <tr>\n",
              "      <th>8</th>\n",
              "      <td>او ناچار است به اطاعت</td>\n",
              "    </tr>\n",
              "    <tr>\n",
              "      <th>9</th>\n",
              "      <td>اونم اگه بیان</td>\n",
              "    </tr>\n",
              "  </tbody>\n",
              "</table>"
            ],
            "text/plain": [
              "<IPython.core.display.HTML object>"
            ]
          },
          "metadata": {}
        }
      ]
    },
    {
      "cell_type": "markdown",
      "metadata": {
        "id": "fowcOllGNNju"
      },
      "source": [
        "Alright! The transcriptions look fairly clean. Having translated the transcribed sentences, it seems that the language corresponds more to written-out text than noisy dialogue. This makes sense considering that [Common Voice](https://huggingface.co/datasets/common_voice) is a crowd-sourced read speech corpus."
      ]
    },
    {
      "cell_type": "markdown",
      "metadata": {
        "id": "vq7OR50LN49m"
      },
      "source": [
        "We can see that the transcriptions contain some special characters, such as `,.?!;:`. Without a language model, it is much harder to classify speech chunks to such special characters because they don't really correspond to a characteristic sound unit. *E.g.*, the letter `\"s\"` has a more or less clear sound, whereas the special character `\".\"` does not.\n",
        "Also in order to understand the meaning of a speech signal, it is usually not necessary to include special characters in the transcription.\n",
        "\n",
        "Let's simply remove all characters that don't contribute to the meaning of a word and cannot really be represented by an acoustic sound and normalize the text."
      ]
    },
    {
      "cell_type": "code",
      "metadata": {
        "id": "LSh4_Dt4Aqz2"
      },
      "source": [
        "%%capture\n",
        "# Normalizer\n",
        "!wget 'https://huggingface.co/m3hrdadfi/wav2vec2-large-xlsr-persian-v3/raw/main/dictionary.py' -O - > normalizer.py\n",
        "!echo \"\" >> normalizer.py\n",
        "!wget 'https://huggingface.co/m3hrdadfi/wav2vec2-large-xlsr-persian-v3/raw/main/normalizer.py' -O - >> normalizer.py\n",
        "!pip install parsivar\n",
        "!pip install num2fawords\n",
        "from normalizer import normalizer"
      ],
      "execution_count": null,
      "outputs": []
    },
    {
      "cell_type": "code",
      "metadata": {
        "id": "_XxtCyc8COdE"
      },
      "source": [
        "def cleaning(text):\n",
        "    if not isinstance(text, str):\n",
        "        return None\n",
        "    return normalizer({\"sentence\": text}, return_dict=False)\n",
        "\n",
        "def normalize(batch):\n",
        "    batch['sentence'] = cleaning(batch['sentence'])\n",
        "    return batch"
      ],
      "execution_count": null,
      "outputs": []
    },
    {
      "cell_type": "code",
      "metadata": {
        "colab": {
          "base_uri": "https://localhost:8080/",
          "height": 81,
          "referenced_widgets": [
            "12c7586ca2bb451d81a0849a84cf8350",
            "27396976c0ed45c39358e29e1def126e",
            "e1327dd973d84d54858b173d10ea44e9",
            "de394ee933294d53b6a749be60170873",
            "f916bdcf4a834a98b1d2bb668da0d4f4",
            "b8042165d65642039ca1be8dbd27fbcb",
            "ba41f5d7b0b94c1eaad1738a02843e40",
            "b16c35f727ae483fb625af3738069db2",
            "3081c93446f64410bf10e3c2f5daacbb",
            "546821e96d3449fcafc0b5d1a94979cf",
            "178e7ec323c04d49accda4c7ba68657c",
            "5abe9b69f2a7485a837f6f5f3f6df0fa",
            "5e05396bd28e485496dfc48fa57c9523",
            "39d1849459074af58cbb1b7be70f9cc8",
            "ddd16f53a9914f9c95484d63049856ea",
            "59040fc2de8344438b40bc228118f6d8",
            "54e1a1764d9543b0b6925c9cf7c48223",
            "cc0ca6cf17c64002907a10ed5161c112",
            "549a2388e2d54602a703a821f6967e0a",
            "25a5434ebcda44f993f850dcb63bdcde",
            "f11748351e734c68919c546290075d31",
            "89a2a2ecbaac4e02b338bcab6fef9f78"
          ]
        },
        "id": "rHzAYxjpCnEE",
        "outputId": "6a35d3c7-2421-420d-d1e9-7ab0e7e74813"
      },
      "source": [
        "common_voice_test = common_voice_test.map(normalize)\n",
        "common_voice_train = common_voice_train.map(normalize)"
      ],
      "execution_count": null,
      "outputs": [
        {
          "output_type": "display_data",
          "data": {
            "application/vnd.jupyter.widget-view+json": {
              "model_id": "12c7586ca2bb451d81a0849a84cf8350",
              "version_minor": 0,
              "version_major": 2
            },
            "text/plain": [
              "  0%|          | 0/5213 [00:00<?, ?ex/s]"
            ]
          },
          "metadata": {}
        },
        {
          "output_type": "display_data",
          "data": {
            "application/vnd.jupyter.widget-view+json": {
              "model_id": "5abe9b69f2a7485a837f6f5f3f6df0fa",
              "version_minor": 0,
              "version_major": 2
            },
            "text/plain": [
              "  0%|          | 0/12806 [00:00<?, ?ex/s]"
            ]
          },
          "metadata": {}
        }
      ]
    },
    {
      "cell_type": "markdown",
      "metadata": {
        "id": "TxnVS9gIhIma"
      },
      "source": [
        "Let's look at the processed text labels again."
      ]
    },
    {
      "cell_type": "code",
      "metadata": {
        "colab": {
          "base_uri": "https://localhost:8080/",
          "height": 363
        },
        "id": "RBDRAAYxRE6n",
        "outputId": "6988c389-7e90-4a28-9ad2-5e54d7742aac"
      },
      "source": [
        "show_random_elements(common_voice_train.remove_columns([\"path\",\"audio\"]))"
      ],
      "execution_count": null,
      "outputs": [
        {
          "output_type": "display_data",
          "data": {
            "text/html": [
              "<table border=\"1\" class=\"dataframe\">\n",
              "  <thead>\n",
              "    <tr style=\"text-align: right;\">\n",
              "      <th></th>\n",
              "      <th>sentence</th>\n",
              "    </tr>\n",
              "  </thead>\n",
              "  <tbody>\n",
              "    <tr>\n",
              "      <th>0</th>\n",
              "      <td>زمان بسیار زیادی است از وقتی که ما تماس داشتیم</td>\n",
              "    </tr>\n",
              "    <tr>\n",
              "      <th>1</th>\n",
              "      <td>بیمه درمانی رایگان وجود دارد</td>\n",
              "    </tr>\n",
              "    <tr>\n",
              "      <th>2</th>\n",
              "      <td>ساعت دوازده شب تماس می گیرند</td>\n",
              "    </tr>\n",
              "    <tr>\n",
              "      <th>3</th>\n",
              "      <td>امینا</td>\n",
              "    </tr>\n",
              "    <tr>\n",
              "      <th>4</th>\n",
              "      <td>هیچکسی بازی دارت دوست دارد</td>\n",
              "    </tr>\n",
              "    <tr>\n",
              "      <th>5</th>\n",
              "      <td>شما اینجا هیچ چکمه ای نمی فروشید</td>\n",
              "    </tr>\n",
              "    <tr>\n",
              "      <th>6</th>\n",
              "      <td>تازه این قسمت بدش نیست</td>\n",
              "    </tr>\n",
              "    <tr>\n",
              "      <th>7</th>\n",
              "      <td>من خون زیادی از دست داده ام</td>\n",
              "    </tr>\n",
              "    <tr>\n",
              "      <th>8</th>\n",
              "      <td>کاروان داری</td>\n",
              "    </tr>\n",
              "    <tr>\n",
              "      <th>9</th>\n",
              "      <td>او فنجان را وارونه کرد</td>\n",
              "    </tr>\n",
              "  </tbody>\n",
              "</table>"
            ],
            "text/plain": [
              "<IPython.core.display.HTML object>"
            ]
          },
          "metadata": {}
        }
      ]
    },
    {
      "cell_type": "markdown",
      "metadata": {
        "id": "3ORHDb2Th2TW"
      },
      "source": [
        "In CTC, it is common to classify speech chunks into letters, so we will do the same here. \n",
        "Let's extract all distinct letters of the training and test data and build our vocabulary from this set of letters.\n",
        "\n",
        "We write a mapping function that concatenates all transcriptions into one long transcription and then transforms the string into a set of chars. \n",
        "It is important to pass the argument `batched=True` to the `map(...)` function so that the mapping function has access to all transcriptions at once."
      ]
    },
    {
      "cell_type": "code",
      "metadata": {
        "id": "LwCshNbbeRZR"
      },
      "source": [
        "def extract_all_chars(batch):\n",
        "  all_text = \" \".join(batch[\"sentence\"])\n",
        "  vocab = list(set(all_text))\n",
        "  return {\"vocab\": [vocab], \"all_text\": [all_text]}"
      ],
      "execution_count": null,
      "outputs": []
    },
    {
      "cell_type": "code",
      "metadata": {
        "colab": {
          "base_uri": "https://localhost:8080/",
          "height": 81,
          "referenced_widgets": [
            "cb3b5e028ba74404bb6b13070fb3ab96",
            "5189d6ff2557406eaed7ce32b92b52f5",
            "a078575e2b234c6fb70ea2d6351a5218",
            "3bf20c9dfe754d68a41c581e517ea1a6",
            "d6eda98dca7746e4a2a5cdbb704aba86",
            "28eadb0a3c914f418b43745d2c8b8b7c",
            "f6cf27bfe95145b38000219dea405af0",
            "318b0f0f8585467eb25ae597afc7c215",
            "8e3d978f86f44a9782d9f3d41dac557d",
            "7a7117937c004592916349ef61e6e510",
            "b0f660431f4a4edd86d794022ce54247",
            "25b2079ac05542cb9c80e37ff5a60173",
            "c6728d0c52f9494ebd5246e088f5b13f",
            "59bf199c7546489f95844bbd50d82fe9",
            "e816bca1e98245349d8465e2fc1672cb",
            "76e98a4bebcb48f58e9d8d06e454248a",
            "7967aacebf734fbfab613a8195b9f87f",
            "7f6a6d8100b942c785b512bb4e222859",
            "6fc7646c7eba4170b4e42e2bafd45dcd",
            "3116ba833ef1447abe1f4986d200bcef",
            "69fa23c9ff564cb8a16c6661a9574316",
            "2807eb9f78664c70a10efdd365acd682"
          ]
        },
        "id": "_m6uUjjcfbjH",
        "outputId": "16e6451a-3ba4-44b3-9e34-3ceca23119f9"
      },
      "source": [
        "vocab_train = common_voice_train.map(extract_all_chars, batched=True, batch_size=-1, keep_in_memory=True, remove_columns=common_voice_train.column_names)\n",
        "vocab_test = common_voice_test.map(extract_all_chars, batched=True, batch_size=-1, keep_in_memory=True, remove_columns=common_voice_test.column_names)"
      ],
      "execution_count": null,
      "outputs": [
        {
          "output_type": "display_data",
          "data": {
            "application/vnd.jupyter.widget-view+json": {
              "model_id": "cb3b5e028ba74404bb6b13070fb3ab96",
              "version_minor": 0,
              "version_major": 2
            },
            "text/plain": [
              "  0%|          | 0/1 [00:00<?, ?ba/s]"
            ]
          },
          "metadata": {}
        },
        {
          "output_type": "display_data",
          "data": {
            "application/vnd.jupyter.widget-view+json": {
              "model_id": "25b2079ac05542cb9c80e37ff5a60173",
              "version_minor": 0,
              "version_major": 2
            },
            "text/plain": [
              "  0%|          | 0/1 [00:00<?, ?ba/s]"
            ]
          },
          "metadata": {}
        }
      ]
    },
    {
      "cell_type": "markdown",
      "metadata": {
        "id": "7oVgE8RZSJNP"
      },
      "source": [
        "Now, we create the union of all distinct letters in the training dataset and test dataset and convert the resulting list into an enumerated dictionary."
      ]
    },
    {
      "cell_type": "code",
      "metadata": {
        "id": "aQfneNsmlJI0"
      },
      "source": [
        "vocab_list = list(set(vocab_train[\"vocab\"][0]) | set(vocab_test[\"vocab\"][0]))"
      ],
      "execution_count": null,
      "outputs": []
    },
    {
      "cell_type": "code",
      "metadata": {
        "colab": {
          "base_uri": "https://localhost:8080/"
        },
        "id": "_0kRndSvqaKk",
        "outputId": "8d67937e-14c0-4862-dc7c-661714f836df"
      },
      "source": [
        "vocab_dict = {v: k for k, v in enumerate(sorted(vocab_list))}\n",
        "vocab_dict"
      ],
      "execution_count": null,
      "outputs": [
        {
          "output_type": "execute_result",
          "data": {
            "text/plain": [
              "{' ': 0,\n",
              " 'آ': 1,\n",
              " 'ئ': 2,\n",
              " 'ا': 3,\n",
              " 'ب': 4,\n",
              " 'ت': 5,\n",
              " 'ث': 6,\n",
              " 'ج': 7,\n",
              " 'ح': 8,\n",
              " 'خ': 9,\n",
              " 'د': 10,\n",
              " 'ذ': 11,\n",
              " 'ر': 12,\n",
              " 'ز': 13,\n",
              " 'س': 14,\n",
              " 'ش': 15,\n",
              " 'ص': 16,\n",
              " 'ض': 17,\n",
              " 'ط': 18,\n",
              " 'ظ': 19,\n",
              " 'ع': 20,\n",
              " 'غ': 21,\n",
              " 'ف': 22,\n",
              " 'ق': 23,\n",
              " 'ل': 24,\n",
              " 'م': 25,\n",
              " 'ن': 26,\n",
              " 'ه': 27,\n",
              " 'و': 28,\n",
              " 'پ': 29,\n",
              " 'چ': 30,\n",
              " 'ژ': 31,\n",
              " 'ک': 32,\n",
              " 'گ': 33,\n",
              " 'ی': 34,\n",
              " '\\u200c': 35}"
            ]
          },
          "metadata": {},
          "execution_count": 16
        }
      ]
    },
    {
      "cell_type": "markdown",
      "metadata": {
        "id": "JOSzbvs9SXT1"
      },
      "source": [
        "Cool, we see that all letters of the alphabet occur in the dataset (which is not really surprising) and we also extracted the special characters `\"\"` and `'`. Note that we did not exclude those special characters because: \n",
        "\n",
        "The model has to learn to predict when a word is finished or else the model prediction would always be a sequence of chars which would make it impossible to separate words from each other.\n",
        "\n",
        "One should always keep in mind that pre-processing is a very important step before training your model. E.g., we don't want our model to differentiate between `a` and `A` just because we forgot to normalize the data. The difference between `a` and `A` does not depend on the \"sound\" of the letter at all, but more on grammatical rules - *e.g.* use a capitalized letter at the beginning of the sentence. So it is sensible to remove the difference between capitalized and non-capitalized letters so that the model has an easier time learning to transcribe speech. "
      ]
    },
    {
      "cell_type": "markdown",
      "metadata": {
        "id": "b1fBRCn-TRaO"
      },
      "source": [
        "To make it clearer that `\" \"` has its own token class, we give it a more visible character `|`. In addition, we also add an \"unknown\" token so that the model can later deal with characters not encountered in Common Voice's training set. "
      ]
    },
    {
      "cell_type": "code",
      "metadata": {
        "id": "npbIbBoLgaFX"
      },
      "source": [
        "vocab_dict[\"|\"] = vocab_dict[\" \"]\n",
        "del vocab_dict[\" \"]"
      ],
      "execution_count": null,
      "outputs": []
    },
    {
      "cell_type": "markdown",
      "metadata": {
        "id": "_9yCWg4Sd0cb"
      },
      "source": [
        "Finally, we also add a padding token that corresponds to CTC's \"*blank token*\". The \"blank token\" is a core component of the CTC algorithm. For more information, please take a look at the \"Alignment\" section [here](https://distill.pub/2017/ctc/)."
      ]
    },
    {
      "cell_type": "code",
      "metadata": {
        "colab": {
          "base_uri": "https://localhost:8080/"
        },
        "id": "znF0bNunsjbl",
        "outputId": "34ac79c1-0ebb-4879-eff0-fbbf224418ee"
      },
      "source": [
        "vocab_dict[\"[UNK]\"] = len(vocab_dict)\n",
        "vocab_dict[\"[PAD]\"] = len(vocab_dict)\n",
        "len(vocab_dict)"
      ],
      "execution_count": null,
      "outputs": [
        {
          "output_type": "execute_result",
          "data": {
            "text/plain": [
              "38"
            ]
          },
          "metadata": {},
          "execution_count": 18
        }
      ]
    },
    {
      "cell_type": "markdown",
      "metadata": {
        "id": "SFPGfet8U5sL"
      },
      "source": [
        "Cool, now our vocabulary is complete and consists of 38 tokens, which means that the linear layer that we will add on top of the pretrained XLS-R checkpoint will have an output dimension of 38."
      ]
    },
    {
      "cell_type": "markdown",
      "metadata": {
        "id": "1CujRgBNVRaD"
      },
      "source": [
        "Let's now save the vocabulary as a json file."
      ]
    },
    {
      "cell_type": "code",
      "metadata": {
        "id": "ehyUoh9vk191"
      },
      "source": [
        "import json\n",
        "with open('vocab.json', 'w') as vocab_file:\n",
        "    json.dump(vocab_dict, vocab_file)"
      ],
      "execution_count": null,
      "outputs": []
    },
    {
      "cell_type": "markdown",
      "metadata": {
        "id": "SHJDaKlIVVim"
      },
      "source": [
        "In a final step, we use the json file to load the vocabulary into an instance of the `Wav2Vec2CTCTokenizer` class."
      ]
    },
    {
      "cell_type": "code",
      "metadata": {
        "colab": {
          "base_uri": "https://localhost:8080/"
        },
        "id": "xriFGEWQkO4M",
        "outputId": "250e8aa3-1174-4517-cf8f-7108235791af"
      },
      "source": [
        "from transformers import Wav2Vec2CTCTokenizer\n",
        "\n",
        "tokenizer = Wav2Vec2CTCTokenizer.from_pretrained(\"./\", unk_token=\"[UNK]\", pad_token=\"[PAD]\", word_delimiter_token=\"|\")"
      ],
      "execution_count": null,
      "outputs": [
        {
          "output_type": "stream",
          "name": "stderr",
          "text": [
            "file ./config.json not found\n",
            "Special tokens have been added in the vocabulary, make sure the associated word embeddings are fine-tuned or trained.\n"
          ]
        }
      ]
    },
    {
      "cell_type": "code",
      "metadata": {
        "colab": {
          "base_uri": "https://localhost:8080/"
        },
        "id": "911u4UH58WL_",
        "outputId": "2d9177f9-6f90-44b7-b102-0246c9302885"
      },
      "source": [
        "tokenizer"
      ],
      "execution_count": null,
      "outputs": [
        {
          "output_type": "execute_result",
          "data": {
            "text/plain": [
              "PreTrainedTokenizer(name_or_path='./', vocab_size=38, model_max_len=1000000000000000019884624838656, is_fast=False, padding_side='right', special_tokens={'bos_token': '<s>', 'eos_token': '</s>', 'unk_token': '[UNK]', 'pad_token': '[PAD]', 'additional_special_tokens': [AddedToken(\"<s>\", rstrip=False, lstrip=False, single_word=False, normalized=True), AddedToken(\"</s>\", rstrip=False, lstrip=False, single_word=False, normalized=True)]})"
            ]
          },
          "metadata": {},
          "execution_count": 21
        }
      ]
    },
    {
      "cell_type": "markdown",
      "metadata": {
        "id": "KvL12DrNV4cx"
      },
      "source": [
        "If one wants to re-use the just created tokenizer with the fine-tuned model of this notebook, it is strongly advised to upload the `tokenizer` to the [🤗 Hub](https://huggingface.co/). Let's call the repo to which we will upload the files\n",
        "`\"wav2vec2-large-xlsr-turkish-demo-colab\"`:"
      ]
    },
    {
      "cell_type": "code",
      "metadata": {
        "id": "A1XApZBAF2zr"
      },
      "source": [
        "repo_name = \"wav2vec2-large-xls-r-300m-persian-colab\""
      ],
      "execution_count": null,
      "outputs": []
    },
    {
      "cell_type": "markdown",
      "metadata": {
        "id": "B1BiezWZF16d"
      },
      "source": [
        "and upload the tokenizer to the [🤗 Hub](https://huggingface.co/)."
      ]
    },
    {
      "cell_type": "code",
      "metadata": {
        "id": "zytE1175GAKM"
      },
      "source": [
        "# tokenizer.push_to_hub(repo_name)"
      ],
      "execution_count": null,
      "outputs": []
    },
    {
      "cell_type": "markdown",
      "metadata": {
        "id": "SwQM8lH_GGuP"
      },
      "source": [
        "Great, you can see the just created repository under `https://huggingface.co/<your-username>/wav2vec2-large-xls-r-300m-tr-colab`"
      ]
    },
    {
      "cell_type": "markdown",
      "metadata": {
        "id": "mYcIiR2FQ96i"
      },
      "source": [
        "### Create `Wav2Vec2FeatureExtractor`"
      ]
    },
    {
      "cell_type": "markdown",
      "metadata": {
        "id": "Y6mDEyW719rx"
      },
      "source": [
        "Speech is a continuous signal and to be treated by computers, it first has to be discretized, which is usually called **sampling**. The sampling rate hereby plays an important role in that it defines how many data points of the speech signal are measured per second. Therefore, sampling with a higher sampling rate results in a better approximation of the *real* speech signal but also necessitates more values per second.\n",
        "\n",
        "A pretrained checkpoint expects its input data to have been sampled more or less from the same distribution as the data it was trained on. The same speech signals sampled at two different rates have a very different distribution, *e.g.*, doubling the sampling rate results in data points being twice as long. Thus, \n",
        "before fine-tuning a pretrained checkpoint of an ASR model, it is crucial to verify that the sampling rate of the data that was used to pretrain the model matches the sampling rate of the dataset used to fine-tune the model.\n",
        "\n",
        "XLS-R was pretrained on audio data of [Babel](http://www.reading.ac.uk/AcaDepts/ll/speechlab/babel/r), \n",
        "[Multilingual LibriSpeech (MLS)](https://huggingface.co/datasets/multilingual_librispeech), [Common Voice](https://huggingface.co/datasets/common_voice), [VoxPopuli](https://arxiv.org/abs/2101.00390), and [VoxLingua107](https://arxiv.org/abs/2011.12998) at a sampling rate of 16kHz. Common Voice, in its original form, has a sampling rate of 48kHz, thus we will have to downsample the fine-tuning data to 16kHz in the following.\n",
        "\n"
      ]
    },
    {
      "cell_type": "markdown",
      "metadata": {
        "id": "KuUbPW7oV-B5"
      },
      "source": [
        "A `Wav2Vec2FeatureExtractor` object requires the following parameters to be instantiated:\n",
        "\n",
        "- `feature_size`: Speech models take a sequence of feature vectors as an input. While the length of this sequence obviously varies, the feature size should not. In the case of Wav2Vec2, the feature size is 1 because the model was trained on the raw speech signal ${}^2$.\n",
        "- `sampling_rate`: The sampling rate at which the model is trained on.\n",
        "- `padding_value`: For batched inference, shorter inputs need to be padded with a specific value\n",
        "- `do_normalize`: Whether the input should be *zero-mean-unit-variance* normalized or not. Usually, speech models perform better when normalizing the input\n",
        "- `return_attention_mask`: Whether the model should make use of an `attention_mask` for batched inference. In general, XLS-R models checkpoints should **always** use the `attention_mask`."
      ]
    },
    {
      "cell_type": "code",
      "metadata": {
        "id": "kAR0-2KLkopp"
      },
      "source": [
        "from transformers import Wav2Vec2FeatureExtractor\n",
        "\n",
        "feature_extractor = Wav2Vec2FeatureExtractor(feature_size=1, sampling_rate=16000, padding_value=0.0, do_normalize=True, return_attention_mask=True)"
      ],
      "execution_count": null,
      "outputs": []
    },
    {
      "cell_type": "markdown",
      "metadata": {
        "id": "qUETetgqYC3W"
      },
      "source": [
        "Great, XLS-R's feature extraction pipeline is thereby fully defined!\n",
        "\n",
        "For improved user-friendliness, the feature extractor and tokenizer are *wrapped* into a single `Wav2Vec2Processor` class so that one only needs a `model` and `processor` object."
      ]
    },
    {
      "cell_type": "code",
      "metadata": {
        "id": "KYZtoW-tlZgl",
        "colab": {
          "base_uri": "https://localhost:8080/",
          "height": 203
        },
        "outputId": "272d9af2-1181-4364-9cdb-22f2e5607123"
      },
      "source": [
        "from transformers import Wav2Vec2Processor\n",
        "\n",
        "processor = Wav2Vec2Processor(feature_extractor=feature_extractor, tokenizer=tokenizer)"
      ],
      "execution_count": 6,
      "outputs": [
        {
          "output_type": "error",
          "ename": "NameError",
          "evalue": "ignored",
          "traceback": [
            "\u001b[0;31m---------------------------------------------------------------------------\u001b[0m",
            "\u001b[0;31mNameError\u001b[0m                                 Traceback (most recent call last)",
            "\u001b[0;32m<ipython-input-6-8de28d3b6110>\u001b[0m in \u001b[0;36m<module>\u001b[0;34m()\u001b[0m\n\u001b[1;32m      1\u001b[0m \u001b[0;32mfrom\u001b[0m \u001b[0mtransformers\u001b[0m \u001b[0;32mimport\u001b[0m \u001b[0mWav2Vec2Processor\u001b[0m\u001b[0;34m\u001b[0m\u001b[0;34m\u001b[0m\u001b[0m\n\u001b[1;32m      2\u001b[0m \u001b[0;34m\u001b[0m\u001b[0m\n\u001b[0;32m----> 3\u001b[0;31m \u001b[0mprocessor\u001b[0m \u001b[0;34m=\u001b[0m \u001b[0mWav2Vec2Processor\u001b[0m\u001b[0;34m(\u001b[0m\u001b[0mfeature_extractor\u001b[0m\u001b[0;34m=\u001b[0m\u001b[0mfeature_extractor\u001b[0m\u001b[0;34m,\u001b[0m \u001b[0mtokenizer\u001b[0m\u001b[0;34m=\u001b[0m\u001b[0mtokenizer\u001b[0m\u001b[0;34m)\u001b[0m\u001b[0;34m\u001b[0m\u001b[0;34m\u001b[0m\u001b[0m\n\u001b[0m",
            "\u001b[0;31mNameError\u001b[0m: name 'feature_extractor' is not defined"
          ]
        }
      ]
    },
    {
      "cell_type": "markdown",
      "metadata": {
        "id": "DrKnYuvDIoOO"
      },
      "source": [
        "Next, we can prepare the dataset."
      ]
    },
    {
      "cell_type": "markdown",
      "metadata": {
        "id": "YFmShnl7RE35"
      },
      "source": [
        "### Preprocess Data\n",
        "\n",
        "So far, we have not looked at the actual values of the speech signal but just the transcription. In addition to `sentence`, our datasets include two more column names `path` and `audio`. `path` states the absolute path of the audio file. Let's take a look.\n"
      ]
    },
    {
      "cell_type": "code",
      "metadata": {
        "colab": {
          "base_uri": "https://localhost:8080/",
          "height": 53
        },
        "id": "TTCS7W6XJ9BG",
        "outputId": "d3fe252f-711f-49be-e43e-7b645d3de91e"
      },
      "source": [
        "common_voice_train[0][\"path\"]"
      ],
      "execution_count": null,
      "outputs": [
        {
          "output_type": "execute_result",
          "data": {
            "application/vnd.google.colaboratory.intrinsic+json": {
              "type": "string"
            },
            "text/plain": [
              "'/root/.cache/huggingface/datasets/downloads/extracted/3b0e0ce56990e1c035c009dd3032760da75614498aab0a4090ea91c8d4e8a843/cv-corpus-6.1-2020-12-11/fa/clips/common_voice_fa_19258088.mp3'"
            ]
          },
          "metadata": {},
          "execution_count": 26
        }
      ]
    },
    {
      "cell_type": "markdown",
      "metadata": {
        "id": "T6ndIjHGFp0W"
      },
      "source": [
        "XLS-R expects the input in the format of a 1-dimensional array of 16 kHz. This means that the audio file has to be loaded and resampled.\n",
        "\n",
        " Thankfully, `datasets` does this automatically by calling the other column `audio`. Let try it out. "
      ]
    },
    {
      "cell_type": "code",
      "metadata": {
        "colab": {
          "base_uri": "https://localhost:8080/"
        },
        "id": "qj_z5Zc3GAs9",
        "outputId": "da902939-cd66-4beb-be58-839815d49e59"
      },
      "source": [
        "common_voice_train[0][\"audio\"]"
      ],
      "execution_count": null,
      "outputs": [
        {
          "output_type": "execute_result",
          "data": {
            "text/plain": [
              "{'array': array([0.        , 0.        , 0.        , ..., 0.00186443, 0.00183827,\n",
              "        0.00206774], dtype=float32),\n",
              " 'path': '/root/.cache/huggingface/datasets/downloads/extracted/3b0e0ce56990e1c035c009dd3032760da75614498aab0a4090ea91c8d4e8a843/cv-corpus-6.1-2020-12-11/fa/clips/common_voice_fa_19258088.mp3',\n",
              " 'sampling_rate': 48000}"
            ]
          },
          "metadata": {},
          "execution_count": 27
        }
      ]
    },
    {
      "cell_type": "markdown",
      "metadata": {
        "id": "WUUTgI1bGHW-"
      },
      "source": [
        "Great, we can see that the audio file has automatically been loaded. This is thanks to the new [`\"Audio\"` feature](https://huggingface.co/docs/datasets/package_reference/main_classes.html?highlight=audio#datasets.Audio) introduced in `datasets == 4.13.3`, which loads and resamples audio files on-the-fly upon calling.\n",
        "\n",
        "In the example above we can see that the audio data is loaded with a sampling rate of 48kHz whereas 16kHz are expected by the model. We can set the audio feature to the correct sampling rate by making use of [`cast_column`](https://huggingface.co/docs/datasets/package_reference/main_classes.html?highlight=cast_column#datasets.DatasetDict.cast_column):"
      ]
    },
    {
      "cell_type": "code",
      "metadata": {
        "id": "rrv65aj7G95i"
      },
      "source": [
        "common_voice_train = common_voice_train.cast_column(\"audio\", Audio(sampling_rate=16_000))\n",
        "common_voice_test = common_voice_test.cast_column(\"audio\", Audio(sampling_rate=16_000))"
      ],
      "execution_count": null,
      "outputs": []
    },
    {
      "cell_type": "markdown",
      "metadata": {
        "id": "PcnO4x-NGBEi"
      },
      "source": [
        "Let's take a look at `\"audio\"` again."
      ]
    },
    {
      "cell_type": "code",
      "metadata": {
        "colab": {
          "base_uri": "https://localhost:8080/"
        },
        "id": "aKtkc1o_HWHC",
        "outputId": "df3d3fd4-8db2-4495-d659-b34f48f4e488"
      },
      "source": [
        "common_voice_train[0][\"audio\"]"
      ],
      "execution_count": null,
      "outputs": [
        {
          "output_type": "execute_result",
          "data": {
            "text/plain": [
              "{'array': array([0.        , 0.        , 0.        , ..., 0.00235646, 0.00210611,\n",
              "        0.00211985], dtype=float32),\n",
              " 'path': '/root/.cache/huggingface/datasets/downloads/extracted/3b0e0ce56990e1c035c009dd3032760da75614498aab0a4090ea91c8d4e8a843/cv-corpus-6.1-2020-12-11/fa/clips/common_voice_fa_19258088.mp3',\n",
              " 'sampling_rate': 16000}"
            ]
          },
          "metadata": {},
          "execution_count": 29
        }
      ]
    },
    {
      "cell_type": "markdown",
      "metadata": {
        "id": "SOckzFd4Mbzq"
      },
      "source": [
        "This seemed to have worked! Let's listen to a couple of audio files to better understand the dataset and verify that the audio was correctly loaded. \n",
        "\n",
        "**Note**: *You can click the following cell a couple of times to listen to different speech samples.*"
      ]
    },
    {
      "cell_type": "code",
      "metadata": {
        "colab": {
          "base_uri": "https://localhost:8080/",
          "height": 79
        },
        "id": "dueM6U7Ev0OA",
        "outputId": "07175340-7242-483e-d30d-caa16bbe46eb"
      },
      "source": [
        "import IPython.display as ipd\n",
        "import numpy as np\n",
        "import random\n",
        "\n",
        "rand_int = random.randint(0, len(common_voice_train)-1)\n",
        "\n",
        "print(common_voice_train[rand_int][\"sentence\"])\n",
        "ipd.Audio(data=common_voice_train[rand_int][\"audio\"][\"array\"], autoplay=True, rate=16000)"
      ],
      "execution_count": null,
      "outputs": [
        {
          "output_type": "stream",
          "name": "stdout",
          "text": [
            "لرستان \n"
          ]
        },
        {
          "output_type": "execute_result",
          "data": {
            "text/html": [
              "\n",
              "                <audio controls=\"controls\" autoplay=\"autoplay\">\n",
              "                    <source src=\"data:audio/wav;base64,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\" type=\"audio/wav\" />\n",
              "                    Your browser does not support the audio element.\n",
              "                </audio>\n",
              "              "
            ],
            "text/plain": [
              "<IPython.lib.display.Audio object>"
            ]
          },
          "metadata": {},
          "execution_count": 30
        }
      ]
    },
    {
      "cell_type": "markdown",
      "metadata": {
        "id": "gY8m3vARHYTa"
      },
      "source": [
        "It seems like the data is now correctly loaded and resampled. "
      ]
    },
    {
      "cell_type": "markdown",
      "metadata": {
        "id": "1MaL9J2dNVtG"
      },
      "source": [
        "It can be heard, that the speakers change along with their speaking rate, accent, and background environment, etc. Overall, the recordings sound acceptably clear though, which is to be expected from a crowd-sourced read speech corpus.\n",
        "\n",
        "Let's do a final check that the data is correctly prepared, by printing the shape of the speech input, its transcription, and the corresponding sampling rate.\n",
        "\n",
        "**Note**: *You can click the following cell a couple of times to verify multiple samples.*"
      ]
    },
    {
      "cell_type": "code",
      "metadata": {
        "colab": {
          "base_uri": "https://localhost:8080/"
        },
        "id": "1Po2g7YPuRTx",
        "outputId": "549b039b-e9d4-4ec8-b686-2ec964b6d2f8"
      },
      "source": [
        "rand_int = random.randint(0, len(common_voice_train)-1)\n",
        "\n",
        "print(\"Target text:\", common_voice_train[rand_int][\"sentence\"])\n",
        "print(\"Input array shape:\", common_voice_train[rand_int][\"audio\"][\"array\"].shape)\n",
        "print(\"Sampling rate:\", common_voice_train[rand_int][\"audio\"][\"sampling_rate\"])"
      ],
      "execution_count": null,
      "outputs": [
        {
          "output_type": "stream",
          "name": "stdout",
          "text": [
            "Target text: او به زودی می آید \n",
            "Input array shape: (48000,)\n",
            "Sampling rate: 16000\n"
          ]
        }
      ]
    },
    {
      "cell_type": "markdown",
      "metadata": {
        "id": "M9teZcSwOBJ4"
      },
      "source": [
        "Good! Everything looks fine - the data is a 1-dimensional array, the sampling rate always corresponds to 16kHz, and the target text is normalized."
      ]
    },
    {
      "cell_type": "markdown",
      "metadata": {
        "id": "k3Pbn5WvOYZF"
      },
      "source": [
        "Finally, we can leverage `Wav2Vec2Processor` to process the data to the format expected by `Wav2Vec2ForCTC` for training. To do so let's make use of Dataset's [`map(...)`](https://huggingface.co/docs/datasets/package_reference/main_classes.html?highlight=map#datasets.DatasetDict.map) function.\n",
        "\n",
        "First, we load and resample the audio data, simply by calling `batch[\"audio\"]`.\n",
        "Second, we extract the `input_values` from the loaded audio file. In our case, the `Wav2Vec2Processor` only normalizes the data. For other speech models, however, this step can include more complex feature extraction, such as [Log-Mel feature extraction](https://en.wikipedia.org/wiki/Mel-frequency_cepstrum). \n",
        "Third, we encode the transcriptions to label ids.\n",
        "\n",
        "**Note**: This mapping function is a good example of how the `Wav2Vec2Processor` class should be used. In \"normal\" context, calling `processor(...)` is redirected to `Wav2Vec2FeatureExtractor`'s call method. When wrapping the processor into the `as_target_processor` context, however, the same method is redirected to `Wav2Vec2CTCTokenizer`'s call method.\n",
        "For more information please check the [docs](https://huggingface.co/transformers/master/model_doc/wav2vec2.html#transformers.Wav2Vec2Processor.__call__)."
      ]
    },
    {
      "cell_type": "code",
      "metadata": {
        "id": "eJY7I0XAwe9p"
      },
      "source": [
        "def prepare_dataset(batch):\n",
        "    audio = batch[\"audio\"]\n",
        "\n",
        "    # batched output is \"un-batched\"\n",
        "    batch[\"input_values\"] = processor(audio[\"array\"], sampling_rate=audio[\"sampling_rate\"]).input_values[0]\n",
        "    batch[\"input_length\"] = len(batch[\"input_values\"])\n",
        "    \n",
        "    with processor.as_target_processor():\n",
        "        batch[\"labels\"] = processor(batch[\"sentence\"]).input_ids\n",
        "    return batch"
      ],
      "execution_count": null,
      "outputs": []
    },
    {
      "cell_type": "markdown",
      "metadata": {
        "id": "q6Pg_WR3OGAP"
      },
      "source": [
        "Let's apply the data preparation function to all examples."
      ]
    },
    {
      "cell_type": "code",
      "metadata": {
        "colab": {
          "base_uri": "https://localhost:8080/",
          "height": 81,
          "referenced_widgets": [
            "3a010c1e14df47cf8f8e3dbd4e70745f",
            "de65771e3eb143c198894303acce0f9a",
            "678c9957abe24fd090e91a00f6e0a219",
            "6d2e6c0dbcf64c419e88daaff7a3ada7",
            "6b2bdaaae81f47ff81ac394b26f011a9",
            "6f7f5115a55e4cc68d839f769124baf4",
            "c096a63a38494cd6aba3c40dbf1b89f3",
            "fa770b88788a43a8853a052be0c6c198",
            "c907420296614d84a039848e1507a22a",
            "8b62d44f5e6c48d5b282689801fce3d1",
            "ec0f025a01424aff8dd5a06b2675dd04",
            "59e0c0fbcdad43f28e15d4385ee1f3f1",
            "6b7074f9862146f3bc20928479ee0d73",
            "707eae9bfb6f4dd2bf79e61f86ddef6d",
            "fe4f3f0465a1447b8beb693935d87333",
            "a7039ef7b18d4ff3851fafaa5c3bd5a9",
            "321f6a9765b2472b84c734a7e17bb51b",
            "e6fc81165e5d4ce59bd25c8589d22048",
            "7846f9db76a34cc89602c41e0d60c21e",
            "668ebfae57ed4f05b1e28a03e0bc5f2d",
            "d8e70e09bcfa4048be077b8e4722b93c",
            "35b840aac3d0449c95507497030c5fc1"
          ]
        },
        "id": "-np9xYK-wl8q",
        "outputId": "ad9a4e40-7024-4544-e20c-e4bcd465f3c9"
      },
      "source": [
        "common_voice_train = common_voice_train.map(prepare_dataset, remove_columns=common_voice_train.column_names)\n",
        "common_voice_test = common_voice_test.map(prepare_dataset, remove_columns=common_voice_test.column_names)"
      ],
      "execution_count": null,
      "outputs": [
        {
          "output_type": "display_data",
          "data": {
            "application/vnd.jupyter.widget-view+json": {
              "model_id": "3a010c1e14df47cf8f8e3dbd4e70745f",
              "version_minor": 0,
              "version_major": 2
            },
            "text/plain": [
              "  0%|          | 0/12806 [00:00<?, ?ex/s]"
            ]
          },
          "metadata": {}
        },
        {
          "output_type": "display_data",
          "data": {
            "application/vnd.jupyter.widget-view+json": {
              "model_id": "59e0c0fbcdad43f28e15d4385ee1f3f1",
              "version_minor": 0,
              "version_major": 2
            },
            "text/plain": [
              "  0%|          | 0/5213 [00:00<?, ?ex/s]"
            ]
          },
          "metadata": {}
        }
      ]
    },
    {
      "cell_type": "code",
      "metadata": {
        "colab": {
          "base_uri": "https://localhost:8080/"
        },
        "id": "KN99i9CQZ59M",
        "outputId": "60b19581-68aa-482d-e8ce-4c6ba2d3a1fb"
      },
      "source": [
        "common_voice_test"
      ],
      "execution_count": null,
      "outputs": [
        {
          "output_type": "execute_result",
          "data": {
            "text/plain": [
              "Dataset({\n",
              "    features: ['input_values', 'input_length', 'labels'],\n",
              "    num_rows: 5213\n",
              "})"
            ]
          },
          "metadata": {},
          "execution_count": 34
        }
      ]
    },
    {
      "cell_type": "code",
      "metadata": {
        "colab": {
          "base_uri": "https://localhost:8080/"
        },
        "id": "MFeADQgSa3zs",
        "outputId": "ab59d763-ac01-47e9-bab3-cb5334be94bd"
      },
      "source": [
        "common_voice_test['input_length'][0]"
      ],
      "execution_count": null,
      "outputs": [
        {
          "output_type": "execute_result",
          "data": {
            "text/plain": [
              "43392"
            ]
          },
          "metadata": {},
          "execution_count": 35
        }
      ]
    },
    {
      "cell_type": "code",
      "metadata": {
        "id": "gKHWWQuIbBG1"
      },
      "source": [
        "# print(common_voice_test['input_values'][0])"
      ],
      "execution_count": null,
      "outputs": []
    },
    {
      "cell_type": "code",
      "metadata": {
        "colab": {
          "base_uri": "https://localhost:8080/"
        },
        "id": "np56zPSIawV2",
        "outputId": "f0a77212-a847-4e51-cea1-3172dace7200"
      },
      "source": [
        "common_voice_test['labels'][0]"
      ],
      "execution_count": null,
      "outputs": [
        {
          "output_type": "execute_result",
          "data": {
            "text/plain": [
              "[3,\n",
              " 13,\n",
              " 0,\n",
              " 25,\n",
              " 27,\n",
              " 25,\n",
              " 28,\n",
              " 26,\n",
              " 10,\n",
              " 3,\n",
              " 12,\n",
              " 34,\n",
              " 0,\n",
              " 32,\n",
              " 26,\n",
              " 3,\n",
              " 12,\n",
              " 0,\n",
              " 4,\n",
              " 32,\n",
              " 15,\n",
              " 25,\n",
              " 0]"
            ]
          },
          "metadata": {},
          "execution_count": 37
        }
      ]
    },
    {
      "cell_type": "markdown",
      "metadata": {
        "id": "nKcEWHvKI1by"
      },
      "source": [
        "**Note**: Currently `datasets` make use of [`torchaudio`](https://pytorch.org/audio/stable/index.html) and [`librosa`](https://librosa.org/doc/latest/index.html) for audio loading and resampling. If you wish to implement your own costumized data loading/sampling, feel free to just make use of the `\"path\"` column instead and disregard the `\"audio\"` column."
      ]
    },
    {
      "cell_type": "markdown",
      "metadata": {
        "id": "24CxHd5ewI4T"
      },
      "source": [
        "Long input sequences require a lot of memory. XLS-R is based on `self-attention` the memory requirement scales quadratically with the input length for long input sequences (*cf.* with [this](https://www.reddit.com/r/MachineLearning/comments/genjvb/d_why_is_the_maximum_input_sequence_length_of/) reddit post). In case this demo crashes with an \"Out-of-memory\" error for you, you might want to uncomment the following lines to filter all sequences that are longer than 5 seconds for training."
      ]
    },
    {
      "cell_type": "code",
      "metadata": {
        "id": "tdHfbUJ_09iA",
        "colab": {
          "base_uri": "https://localhost:8080/",
          "height": 49,
          "referenced_widgets": [
            "e9c8ad78f9424379bea24c812ee669d4",
            "903d3302d0c449218a95b604180eb14a",
            "8d7de2403dee43c08ea4859edb69c843",
            "f0c93933f5424ff9a8401e9bf0897109",
            "3e0f6262509e429eb353bab8b6eb810c",
            "737eac303db34787bdddde766366d095",
            "f9e793a1735947bc8c021065fda1c56f",
            "e7d12a0ca07e4e89be5af1f1dbc3bcbc",
            "2dc6e0755b054706b34fb4465d0241a8",
            "1a67105f4ee44176a15d525d5174c3e0",
            "33aaedd2f72849a7b0bec6a086db5b71"
          ]
        },
        "outputId": "77128b6c-b51e-4ba2-d421-fdb7bd949e23"
      },
      "source": [
        "max_input_length_in_sec = 5.0\n",
        "common_voice_train = common_voice_train.filter(lambda x: x < max_input_length_in_sec * processor.feature_extractor.sampling_rate, input_columns=[\"input_length\"])"
      ],
      "execution_count": null,
      "outputs": [
        {
          "output_type": "display_data",
          "data": {
            "application/vnd.jupyter.widget-view+json": {
              "model_id": "e9c8ad78f9424379bea24c812ee669d4",
              "version_minor": 0,
              "version_major": 2
            },
            "text/plain": [
              "  0%|          | 0/13 [00:00<?, ?ba/s]"
            ]
          },
          "metadata": {}
        }
      ]
    },
    {
      "cell_type": "markdown",
      "metadata": {
        "id": "1ZWDCCKqwcfS"
      },
      "source": [
        "Awesome, now we are ready to start training!"
      ]
    },
    {
      "cell_type": "markdown",
      "metadata": {
        "id": "gYlQkKVoRUos"
      },
      "source": [
        "## Training\n",
        "\n",
        "The data is processed so that we are ready to start setting up the training pipeline. We will make use of 🤗's [Trainer](https://huggingface.co/transformers/master/main_classes/trainer.html?highlight=trainer) for which we essentially need to do the following:\n",
        "\n",
        "- Define a data collator. In contrast to most NLP models, XLS-R has a much larger input length than output length. *E.g.*, a sample of input length 50000 has an output length of no more than 100. Given the large input sizes, it is much more efficient to pad the training batches dynamically meaning that all training samples should only be padded to the longest sample in their batch and not the overall longest sample. Therefore, fine-tuning XLS-R requires a special padding data collator, which we will define below\n",
        "\n",
        "- Evaluation metric. During training, the model should be evaluated on the word error rate. We should define a `compute_metrics` function accordingly\n",
        "\n",
        "- Load a pretrained checkpoint. We need to load a pretrained checkpoint and configure it correctly for training.\n",
        "\n",
        "- Define the training configuration.\n",
        "\n",
        "After having fine-tuned the model, we will correctly evaluate it on the test data and verify that it has indeed learned to correctly transcribe speech."
      ]
    },
    {
      "cell_type": "markdown",
      "metadata": {
        "id": "Slk403unUS91"
      },
      "source": [
        "### Set-up Trainer\n",
        "\n",
        "Let's start by defining the data collator. The code for the data collator was copied from [this example](https://github.com/huggingface/transformers/blob/9a06b6b11bdfc42eea08fa91d0c737d1863c99e3/examples/research_projects/wav2vec2/run_asr.py#L81).\n",
        "\n",
        "Without going into too many details, in contrast to the common data collators, this data collator treats the `input_values` and `labels` differently and thus applies to separate padding functions on them (again making use of XLS-R processor's context manager). This is necessary because in speech input and output are of different modalities meaning that they should not be treated by the same padding function.\n",
        "Analogous to the common data collators, the padding tokens in the labels with `-100` so that those tokens are **not** taken into account when computing the loss."
      ]
    },
    {
      "cell_type": "code",
      "metadata": {
        "id": "tborvC9hx88e"
      },
      "source": [
        "import torch\n",
        "\n",
        "from dataclasses import dataclass, field\n",
        "from typing import Any, Dict, List, Optional, Union\n",
        "\n",
        "@dataclass\n",
        "class DataCollatorCTCWithPadding:\n",
        "    \"\"\"\n",
        "    Data collator that will dynamically pad the inputs received.\n",
        "    Args:\n",
        "        processor (:class:`~transformers.Wav2Vec2Processor`)\n",
        "            The processor used for proccessing the data.\n",
        "        padding (:obj:`bool`, :obj:`str` or :class:`~transformers.tokenization_utils_base.PaddingStrategy`, `optional`, defaults to :obj:`True`):\n",
        "            Select a strategy to pad the returned sequences (according to the model's padding side and padding index)\n",
        "            among:\n",
        "            * :obj:`True` or :obj:`'longest'`: Pad to the longest sequence in the batch (or no padding if only a single\n",
        "              sequence if provided).\n",
        "            * :obj:`'max_length'`: Pad to a maximum length specified with the argument :obj:`max_length` or to the\n",
        "              maximum acceptable input length for the model if that argument is not provided.\n",
        "            * :obj:`False` or :obj:`'do_not_pad'` (default): No padding (i.e., can output a batch with sequences of\n",
        "              different lengths).\n",
        "    \"\"\"\n",
        "\n",
        "    processor: Wav2Vec2Processor\n",
        "    padding: Union[bool, str] = True\n",
        "\n",
        "    def __call__(self, features: List[Dict[str, Union[List[int], torch.Tensor]]]) -> Dict[str, torch.Tensor]:\n",
        "        # split inputs and labels since they have to be of different lenghts and need\n",
        "        # different padding methods\n",
        "        input_features = [{\"input_values\": feature[\"input_values\"]} for feature in features]\n",
        "        label_features = [{\"input_ids\": feature[\"labels\"]} for feature in features]\n",
        "\n",
        "        batch = self.processor.pad(\n",
        "            input_features,\n",
        "            padding=self.padding,\n",
        "            return_tensors=\"pt\",\n",
        "        )\n",
        "        with self.processor.as_target_processor():\n",
        "            labels_batch = self.processor.pad(\n",
        "                label_features,\n",
        "                padding=self.padding,\n",
        "                return_tensors=\"pt\",\n",
        "            )\n",
        "\n",
        "        # replace padding with -100 to ignore loss correctly\n",
        "        labels = labels_batch[\"input_ids\"].masked_fill(labels_batch.attention_mask.ne(1), -100)\n",
        "\n",
        "        batch[\"labels\"] = labels\n",
        "\n",
        "        return batch"
      ],
      "execution_count": null,
      "outputs": []
    },
    {
      "cell_type": "code",
      "metadata": {
        "id": "lbQf5GuZyQ4_"
      },
      "source": [
        "data_collator = DataCollatorCTCWithPadding(processor=processor, padding=True)"
      ],
      "execution_count": null,
      "outputs": []
    },
    {
      "cell_type": "markdown",
      "metadata": {
        "id": "xO-Zdj-5cxXp"
      },
      "source": [
        "Next, the evaluation metric is defined. As mentioned earlier, the \n",
        "predominant metric in ASR is the word error rate (WER), hence we will use it in this notebook as well."
      ]
    },
    {
      "cell_type": "code",
      "metadata": {
        "colab": {
          "base_uri": "https://localhost:8080/",
          "height": 49,
          "referenced_widgets": [
            "d14d425a0e304df1b26ae46563385515",
            "a2f49df972874069a4c35bbfad9b333f",
            "f7067a4d3f0e4752aa0c9f4c717b2351",
            "9efad7c5da9047c794416691a8d112b4",
            "b4dc500e47db47cbafffa073dd851d2f",
            "f9c8db3187714c58b8c978e81783d161",
            "ec5690df47d94f0ba9680b1eb3ec93e5",
            "db9dac014a4c45eda13cddc80b79cd7d",
            "66a6bcf99b814dabb7a1c095e7cb1099",
            "b3aa8c43546949cc95272eb1e9e5dfc8",
            "196de78d27734613bb97a37b24c7752f"
          ]
        },
        "id": "9Xsux2gmyXso",
        "outputId": "18c1f93a-77eb-43ad-a457-ab966a79e914"
      },
      "source": [
        "wer_metric = load_metric(\"wer\")"
      ],
      "execution_count": null,
      "outputs": [
        {
          "output_type": "display_data",
          "data": {
            "application/vnd.jupyter.widget-view+json": {
              "model_id": "d14d425a0e304df1b26ae46563385515",
              "version_minor": 0,
              "version_major": 2
            },
            "text/plain": [
              "Downloading:   0%|          | 0.00/1.95k [00:00<?, ?B/s]"
            ]
          },
          "metadata": {}
        }
      ]
    },
    {
      "cell_type": "markdown",
      "metadata": {
        "id": "E1qZU5p-deqB"
      },
      "source": [
        "The model will return a sequence of logit vectors:\n",
        "$\\mathbf{y}_1, \\ldots, \\mathbf{y}_m$ with $\\mathbf{y}_1 = f_{\\theta}(x_1, \\ldots, x_n)[0]$ and $n >> m$.\n",
        "\n",
        "A logit vector $\\mathbf{y}_1$ contains the log-odds for each word in the vocabulary we defined earlier, thus $\\text{len}(\\mathbf{y}_i) =$ `config.vocab_size`. We are interested in the most likely prediction of the model and thus take the `argmax(...)` of the logits. Also, we transform the encoded labels back to the original string by replacing `-100` with the `pad_token_id` and decoding the ids while making sure that consecutive tokens are **not** grouped to the same token in CTC style ${}^1$."
      ]
    },
    {
      "cell_type": "code",
      "metadata": {
        "id": "1XZ-kjweyTy_"
      },
      "source": [
        "def compute_metrics(pred):\n",
        "    pred_logits = pred.predictions\n",
        "    pred_ids = np.argmax(pred_logits, axis=-1)\n",
        "    pred_str = processor.batch_decode(pred_ids)\n",
        "\n",
        "\n",
        "    # we do not want to group tokens when computing the metrics\n",
        "    pred.label_ids[pred.label_ids == -100] = processor.tokenizer.pad_token_id\n",
        "    label_str = processor.batch_decode(pred.label_ids, group_tokens=False)\n",
        "\n",
        "    wer = wer_metric.compute(predictions=pred_str, references=label_str)\n",
        "\n",
        "    return {\"wer\": wer}"
      ],
      "execution_count": null,
      "outputs": []
    },
    {
      "cell_type": "markdown",
      "metadata": {
        "id": "Xmgrx4bRwLIH"
      },
      "source": [
        "Now, we can load the pretrained checkpoint of [Wav2Vec2-XLS-R-300M](https://huggingface.co/facebook/wav2vec2-xls-r-300m). The tokenizer's `pad_token_id` must be to define the model's `pad_token_id` or in the case of `Wav2Vec2ForCTC` also CTC's *blank token* ${}^2$. To save GPU memory, we enable PyTorch's [gradient checkpointing](https://pytorch.org/docs/stable/checkpoint.html) and also set the loss reduction to \"*mean*\".\n",
        "\n",
        "Because the dataset is quite small (~6h of training data) and because Common Voice is quite noisy, fine-tuning Facebook's [wav2vec2-xls-r-300m checkpoint](https://huggingface.co/facebook/wav2vec2-xls-r-300m) seems to require some hyper-parameter tuning. Therefore, I had to play around a bit with different values for dropout, [SpecAugment](https://arxiv.org/abs/1904.08779)'s masking dropout rate, layer dropout, and the learning rate until training seemed to be stable enough. \n",
        "\n",
        "**Note**: When using this notebook to train XLS-R on another language of Common Voice those hyper-parameter settings might not work very well. Feel free to adapt those depending on your use case. "
      ]
    },
    {
      "cell_type": "code",
      "metadata": {
        "colab": {
          "base_uri": "https://localhost:8080/",
          "height": 188,
          "referenced_widgets": [
            "59bbb702361249e598440cf0963ae3d9",
            "a78b1be00b1d4491830016d9b8e9e1c1",
            "8bbdb3e1a1b2467bb31a4d146a5bff48",
            "84550416c6404707a4eb8c107452749a",
            "2fff78e3b10f4f8296774a10e5ffa484",
            "bcfe202f813845c1a5b9e6ebffd304f9",
            "3a5197d10d19417ab4c312df1504c620",
            "17419c69e6e54188ad00b998ce429e49",
            "7297b29e0b8c4df4829239dc14a1dd20",
            "ef9f8adb25e249e0aaa3a0265acfe4f5",
            "8fa0bc583c9f4a97b62f2e3f6d727c17",
            "9f0bf8804d1841ff90f3207c377f635b",
            "4a525feef19541fca04e89ccea702d7d",
            "df9bceda74b24b2e81c7d1ea60dbfc62",
            "b0e1b58e832f40859b1e7cf2ace77e4d",
            "ca05210b4ee94f0281c013435dc00f47",
            "5716d344cce3452d912272ee56f4be32",
            "6e3fae241fd7404b99f7af5904966555",
            "8739c392b09747489ac15e0e29831ac2",
            "d97aa9fbe3584533a0fc80f97f268d37",
            "9786c0eada834652a375f0929964303d",
            "cf6e2965099645229b99b905a5920d26"
          ]
        },
        "id": "e7cqAWIayn6w",
        "outputId": "c1a24965-cf23-4b55-cafb-833a425e8ef7"
      },
      "source": [
        "from transformers import Wav2Vec2ForCTC\n",
        "\n",
        "model = Wav2Vec2ForCTC.from_pretrained(\n",
        "    \"facebook/wav2vec2-xls-r-300m\", \n",
        "    attention_dropout=0.0,\n",
        "    hidden_dropout=0.0,\n",
        "    feat_proj_dropout=0.0,\n",
        "    mask_time_prob=0.05,\n",
        "    layerdrop=0.0,\n",
        "    ctc_loss_reduction=\"mean\", \n",
        "    pad_token_id=processor.tokenizer.pad_token_id,\n",
        "    vocab_size=len(processor.tokenizer),\n",
        ")"
      ],
      "execution_count": null,
      "outputs": [
        {
          "output_type": "display_data",
          "data": {
            "application/vnd.jupyter.widget-view+json": {
              "model_id": "59bbb702361249e598440cf0963ae3d9",
              "version_minor": 0,
              "version_major": 2
            },
            "text/plain": [
              "Downloading:   0%|          | 0.00/1.53k [00:00<?, ?B/s]"
            ]
          },
          "metadata": {}
        },
        {
          "output_type": "display_data",
          "data": {
            "application/vnd.jupyter.widget-view+json": {
              "model_id": "9f0bf8804d1841ff90f3207c377f635b",
              "version_minor": 0,
              "version_major": 2
            },
            "text/plain": [
              "Downloading:   0%|          | 0.00/1.18G [00:00<?, ?B/s]"
            ]
          },
          "metadata": {}
        },
        {
          "output_type": "stream",
          "name": "stderr",
          "text": [
            "Some weights of the model checkpoint at facebook/wav2vec2-xls-r-300m were not used when initializing Wav2Vec2ForCTC: ['quantizer.codevectors', 'quantizer.weight_proj.weight', 'quantizer.weight_proj.bias', 'project_q.bias', 'project_q.weight', 'project_hid.bias', 'project_hid.weight']\n",
            "- This IS expected if you are initializing Wav2Vec2ForCTC from the checkpoint of a model trained on another task or with another architecture (e.g. initializing a BertForSequenceClassification model from a BertForPreTraining model).\n",
            "- This IS NOT expected if you are initializing Wav2Vec2ForCTC from the checkpoint of a model that you expect to be exactly identical (initializing a BertForSequenceClassification model from a BertForSequenceClassification model).\n",
            "Some weights of Wav2Vec2ForCTC were not initialized from the model checkpoint at facebook/wav2vec2-xls-r-300m and are newly initialized: ['lm_head.weight', 'lm_head.bias']\n",
            "You should probably TRAIN this model on a down-stream task to be able to use it for predictions and inference.\n"
          ]
        }
      ]
    },
    {
      "cell_type": "markdown",
      "metadata": {
        "id": "1DwR3XLSzGDD"
      },
      "source": [
        "The first component of XLS-R consists of a stack of CNN layers that are used to extract acoustically meaningful - but contextually independent - features from the raw speech signal. This part of the model has already been sufficiently trained during pretraining and as stated in the [paper](https://arxiv.org/pdf/2006.13979.pdf) does not need to be fine-tuned anymore. \n",
        "Thus, we can set the `requires_grad` to `False` for all parameters of the *feature extraction* part."
      ]
    },
    {
      "cell_type": "code",
      "metadata": {
        "id": "oGI8zObtZ3V0"
      },
      "source": [
        "model.freeze_feature_extractor()"
      ],
      "execution_count": null,
      "outputs": []
    },
    {
      "cell_type": "markdown",
      "metadata": {
        "id": "lD4aGhQM0K-D"
      },
      "source": [
        "In a final step, we define all parameters related to training. \n",
        "To give more explanation on some of the parameters:\n",
        "- `group_by_length` makes training more efficient by grouping training samples of similar input length into one batch. This can significantly speed up training time by heavily reducing the overall number of useless padding tokens that are passed through the model\n",
        "- `learning_rate` and `weight_decay` were heuristically tuned until fine-tuning has become stable. Note that those parameters strongly depend on the Common Voice dataset and might be suboptimal for other speech datasets.\n",
        "\n",
        "For more explanations on other parameters, one can take a look at the [docs](https://huggingface.co/transformers/master/main_classes/trainer.html?highlight=trainer#trainingarguments).\n",
        "\n",
        "During training, a checkpoint will be uploaded asynchronously to the hub every 400 training steps. It allows you to also play around with the demo widget even while your model is still training.\n",
        "\n",
        "**Note**: If one does not want to upload the model checkpoints to the hub, simply set `push_to_hub=False`."
      ]
    },
    {
      "cell_type": "code",
      "metadata": {
        "id": "KbeKSV7uzGPP"
      },
      "source": [
        "from transformers import TrainingArguments\n",
        "\n",
        "training_args = TrainingArguments(\n",
        "  output_dir=repo_name,\n",
        "  group_by_length=True,\n",
        "  per_device_train_batch_size=16,\n",
        "  gradient_accumulation_steps=2,\n",
        "  evaluation_strategy=\"steps\",\n",
        "  num_train_epochs=10,\n",
        "  gradient_checkpointing=True,\n",
        "  fp16=True,\n",
        "  save_steps=400,\n",
        "  eval_steps=400,\n",
        "  logging_steps=400,\n",
        "  learning_rate=3e-4,\n",
        "  warmup_steps=500,\n",
        "  save_total_limit=2,\n",
        "  push_to_hub=False,\n",
        ")"
      ],
      "execution_count": null,
      "outputs": []
    },
    {
      "cell_type": "markdown",
      "metadata": {
        "id": "OsW-WZcL1ZtN"
      },
      "source": [
        "Now, all instances can be passed to Trainer and we are ready to start training!"
      ]
    },
    {
      "cell_type": "code",
      "metadata": {
        "colab": {
          "base_uri": "https://localhost:8080/"
        },
        "id": "rY7vBmFCPFgC",
        "outputId": "511fbb24-3b65-44ea-ede8-7d5e04cf00c1"
      },
      "source": [
        "from transformers import Trainer\n",
        "\n",
        "trainer = Trainer(\n",
        "    model=model,\n",
        "    data_collator=data_collator,\n",
        "    args=training_args,\n",
        "    compute_metrics=compute_metrics,\n",
        "    train_dataset=common_voice_train,\n",
        "    eval_dataset=common_voice_test,\n",
        "    tokenizer=processor.feature_extractor,\n",
        ")"
      ],
      "execution_count": null,
      "outputs": [
        {
          "output_type": "stream",
          "name": "stderr",
          "text": [
            "Using amp fp16 backend\n"
          ]
        }
      ]
    },
    {
      "cell_type": "markdown",
      "metadata": {
        "id": "UoXBx1JAA0DX"
      },
      "source": [
        "\n",
        "\n",
        "---\n",
        "\n",
        "${}^1$ To allow models to become independent of the speaker rate, in CTC, consecutive tokens that are identical are simply grouped as a single token. However, the encoded labels should not be grouped when decoding since they don't correspond to the predicted tokens of the model, which is why the `group_tokens=False` parameter has to be passed. If we wouldn't pass this parameter a word like `\"hello\"` would incorrectly be encoded, and decoded as `\"helo\"`.\n",
        "\n",
        "${}^2$ The blank token allows the model to predict a word, such as `\"hello\"` by forcing it to insert the blank token between the two l's. A CTC-conform prediction of `\"hello\"` of our model would be `[PAD] [PAD] \"h\" \"e\" \"e\" \"l\" \"l\" [PAD] \"l\" \"o\" \"o\" [PAD]`."
      ]
    },
    {
      "cell_type": "markdown",
      "metadata": {
        "id": "rpvZHM1xReIW"
      },
      "source": [
        "### Training"
      ]
    },
    {
      "cell_type": "markdown",
      "metadata": {
        "id": "j-3oKSzZ1hGq"
      },
      "source": [
        "Training will take multiple hours depending on the GPU allocated to this notebook. While the trained model yields somewhat satisfying results on *Common Voice*'s test data of Persian, it is by no means an optimally fine-tuned model. The purpose of this notebook is just to demonstrate how to fine-tune XLS-R on an ASR dataset.\n",
        "\n",
        "In case you want to use this google colab to fine-tune your model, you should make sure that your training doesn't stop due to inactivity. A simple hack to prevent this is to paste the following code into the console of this tab (*right mouse click -> inspect -> Console tab and insert code*)."
      ]
    },
    {
      "cell_type": "markdown",
      "metadata": {
        "id": "VYYAvgkW4P0m"
      },
      "source": [
        "```javascript\n",
        "function ConnectButton(){\n",
        "    console.log(\"Connect pushed\"); \n",
        "    document.querySelector(\"#top-toolbar > colab-connect-button\").shadowRoot.querySelector(\"#connect\").click() \n",
        "}\n",
        "setInterval(ConnectButton,60000);\n",
        "```"
      ]
    },
    {
      "cell_type": "markdown",
      "metadata": {
        "id": "7bGgLV2r0yvZ"
      },
      "source": [
        "Depending on what GPU was allocated to your google colab it might be possible that you are seeing an `\"out-of-memory\"` error here. In this case, it's probably best to reduce `per_device_train_batch_size` to 8 or even less and increase [`gradient_accumulation`](https://huggingface.co/transformers/master/main_classes/trainer.html#trainingarguments)."
      ]
    },
    {
      "cell_type": "code",
      "metadata": {
        "colab": {
          "base_uri": "https://localhost:8080/",
          "height": 509
        },
        "id": "9fRr9TG5pGBl",
        "outputId": "a1f5b418-c162-4037-e07a-0ad017ce98ac"
      },
      "source": [
        "trainer.train()"
      ],
      "execution_count": null,
      "outputs": [
        {
          "output_type": "stream",
          "name": "stderr",
          "text": [
            "The following columns in the training set  don't have a corresponding argument in `Wav2Vec2ForCTC.forward` and have been ignored: input_length.\n",
            "***** Running training *****\n",
            "  Num examples = 9693\n",
            "  Num Epochs = 30\n",
            "  Instantaneous batch size per device = 16\n",
            "  Total train batch size (w. parallel, distributed & accumulation) = 32\n",
            "  Gradient Accumulation steps = 2\n",
            "  Total optimization steps = 9090\n",
            "/usr/local/lib/python3.7/dist-packages/transformers/feature_extraction_utils.py:158: UserWarning: Creating a tensor from a list of numpy.ndarrays is extremely slow. Please consider converting the list to a single numpy.ndarray with numpy.array() before converting to a tensor. (Triggered internally at  ../torch/csrc/utils/tensor_new.cpp:201.)\n",
            "  tensor = as_tensor(value)\n",
            "/usr/local/lib/python3.7/dist-packages/transformers/models/wav2vec2/modeling_wav2vec2.py:882: UserWarning: __floordiv__ is deprecated, and its behavior will change in a future version of pytorch. It currently rounds toward 0 (like the 'trunc' function NOT 'floor'). This results in incorrect rounding for negative values. To keep the current behavior, use torch.div(a, b, rounding_mode='trunc'), or for actual floor division, use torch.div(a, b, rounding_mode='floor').\n",
            "  return (input_length - kernel_size) // stride + 1\n"
          ]
        },
        {
          "output_type": "display_data",
          "data": {
            "text/html": [
              "\n",
              "    <div>\n",
              "      \n",
              "      <progress value='796' max='9090' style='width:300px; height:20px; vertical-align: middle;'></progress>\n",
              "      [ 796/9090 4:24:19 < 46:01:04, 0.05 it/s, Epoch 2.62/30]\n",
              "    </div>\n",
              "    <table border=\"1\" class=\"dataframe\">\n",
              "  <thead>\n",
              "    <tr style=\"text-align: left;\">\n",
              "      <th>Step</th>\n",
              "      <th>Training Loss</th>\n",
              "      <th>Validation Loss</th>\n",
              "      <th>Wer</th>\n",
              "    </tr>\n",
              "  </thead>\n",
              "  <tbody>\n",
              "    <tr>\n",
              "      <td>400</td>\n",
              "      <td>6.116200</td>\n",
              "      <td>1.676313</td>\n",
              "      <td>1.023367</td>\n",
              "    </tr>\n",
              "  </tbody>\n",
              "</table><p>"
            ],
            "text/plain": [
              "<IPython.core.display.HTML object>"
            ]
          },
          "metadata": {}
        },
        {
          "output_type": "stream",
          "name": "stderr",
          "text": [
            "The following columns in the evaluation set  don't have a corresponding argument in `Wav2Vec2ForCTC.forward` and have been ignored: input_length.\n",
            "***** Running Evaluation *****\n",
            "  Num examples = 5213\n",
            "  Batch size = 8\n",
            "Saving model checkpoint to wav2vec2-large-xls-r-300m-persian-colab/checkpoint-400\n",
            "Configuration saved in wav2vec2-large-xls-r-300m-persian-colab/checkpoint-400/config.json\n",
            "Model weights saved in wav2vec2-large-xls-r-300m-persian-colab/checkpoint-400/pytorch_model.bin\n",
            "Configuration saved in wav2vec2-large-xls-r-300m-persian-colab/checkpoint-400/preprocessor_config.json\n",
            "/usr/local/lib/python3.7/dist-packages/transformers/models/wav2vec2/modeling_wav2vec2.py:882: UserWarning: __floordiv__ is deprecated, and its behavior will change in a future version of pytorch. It currently rounds toward 0 (like the 'trunc' function NOT 'floor'). This results in incorrect rounding for negative values. To keep the current behavior, use torch.div(a, b, rounding_mode='trunc'), or for actual floor division, use torch.div(a, b, rounding_mode='floor').\n",
            "  return (input_length - kernel_size) // stride + 1\n"
          ]
        }
      ]
    },
    {
      "cell_type": "markdown",
      "metadata": {
        "id": "a9q4mgMZplr_"
      },
      "source": [
        "The training loss and validation WER go down nicely."
      ]
    },
    {
      "cell_type": "markdown",
      "metadata": {
        "id": "4Ya7WEy0pd13"
      },
      "source": [
        "You can now upload the result of the training to the 🤗 Hub, just execute this instruction:"
      ]
    },
    {
      "cell_type": "code",
      "metadata": {
        "id": "ArG1Thf6NBWm"
      },
      "source": [
        "trainer.push_to_hub()"
      ],
      "execution_count": null,
      "outputs": []
    },
    {
      "cell_type": "markdown",
      "metadata": {
        "id": "RHIVc44_fY2N"
      },
      "source": [
        "You can now share this model with all your friends, family, favorite pets: they can all load it with the identifier \"your-username/the-name-you-picked\" so for instance:"
      ]
    },
    {
      "cell_type": "markdown",
      "metadata": {
        "id": "5lWWIKyBpx1h"
      },
      "source": [
        "```python\n",
        "from transformers import AutoModelForCTC, Wav2Vec2Processor\n",
        "\n",
        "model = AutoModelForCTC.from_pretrained(\"patrickvonplaten/wav2vec2-large-xls-r-300m-tr-colab\")\n",
        "processor = Wav2Vec2Processor.from_pretrained(\"patrickvonplaten/wav2vec2-large-xls-r-300m-tr-colab\")\n",
        "```"
      ]
    },
    {
      "cell_type": "markdown",
      "metadata": {
        "id": "pmi1cX0fRBit"
      },
      "source": [
        "For more examples of how XLS-R can be fine-tuned, please take a look at the [official speech recognition examples](https://github.com/huggingface/transformers/tree/master/examples/pytorch/speech-recognition#examples)."
      ]
    },
    {
      "cell_type": "markdown",
      "metadata": {
        "id": "L8b8Qkoy3KyS"
      },
      "source": [
        "### Evaluation\n",
        "\n",
        "As a final check, let's load the model and verify that it indeed has learned to transcribe Persian speech.\n",
        "\n",
        "Let's first load the pretrained checkpoint."
      ]
    },
    {
      "cell_type": "code",
      "metadata": {
        "id": "R351I9IQp_9D"
      },
      "source": [
        "model = Wav2Vec2ForCTC.from_pretrained(repo_name).to(\"cuda\")\n",
        "processor = Wav2Vec2Processor.from_pretrained(repo_name)"
      ],
      "execution_count": null,
      "outputs": []
    },
    {
      "cell_type": "markdown",
      "metadata": {
        "id": "jD7TZ1YS3S_K"
      },
      "source": [
        "\n",
        "Now, we will just take the first example of the test set, run it through the model and take the `argmax(...)` of the logits to retrieve the predicted token ids."
      ]
    },
    {
      "cell_type": "code",
      "metadata": {
        "id": "pax07TnL3WZn"
      },
      "source": [
        "input_dict = processor(common_voice_test[0][\"input_values\"], return_tensors=\"pt\", padding=True)\n",
        "\n",
        "logits = model(input_dict.input_values.to(\"cuda\")).logits\n",
        "\n",
        "pred_ids = torch.argmax(logits, dim=-1)[0]"
      ],
      "execution_count": null,
      "outputs": []
    },
    {
      "cell_type": "markdown",
      "metadata": {
        "id": "7nkzSQu53Zs2"
      },
      "source": [
        "We adapted `common_voice_test` quite a bit so that the dataset instance does not contain the original sentence label anymore. Thus, we re-use the original dataset to get the label of the first example."
      ]
    },
    {
      "cell_type": "code",
      "metadata": {
        "id": "fe2AE-2xqKHx"
      },
      "source": [
        "common_voice_test_transcription = load_dataset(\"common_voice\", \"tr\", data_dir=\"./cv-corpus-6.1-2020-12-11\", split=\"test\")"
      ],
      "execution_count": null,
      "outputs": []
    },
    {
      "cell_type": "markdown",
      "metadata": {
        "id": "epu8kCQZ3h70"
      },
      "source": [
        "\n",
        "Finally, we can decode the example."
      ]
    },
    {
      "cell_type": "code",
      "metadata": {
        "id": "K4xWqmk_qMn0"
      },
      "source": [
        "print(\"Prediction:\")\n",
        "print(processor.decode(pred_ids))\n",
        "\n",
        "print(\"\\nReference:\")\n",
        "print(common_voice_test_transcription[0][\"sentence\"].lower())"
      ],
      "execution_count": null,
      "outputs": []
    },
    {
      "cell_type": "markdown",
      "metadata": {
        "id": "HwhyoMml3oOT"
      },
      "source": [
        "Alright! The transcription can definitely be recognized from our prediction, but it is not perfect yet. Training the model a bit longer, spending more time on the data preprocessing, and especially using a language model for decoding would certainly improve the model's overall performance.\n",
        "\n",
        "For a demonstration model on a low-resource language, the results are quite acceptable however 🤗."
      ]
    },
    {
      "cell_type": "code",
      "metadata": {
        "id": "EO-ZZPjFo0qr"
      },
      "source": [
        ""
      ],
      "execution_count": null,
      "outputs": []
    }
  ]
}